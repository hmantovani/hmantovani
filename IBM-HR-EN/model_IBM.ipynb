{
 "cells": [
  {
   "cell_type": "code",
   "execution_count": 2,
   "metadata": {},
   "outputs": [],
   "source": [
    "import pandas as pd\n",
    "import matplotlib.pyplot as plt\n",
    "from sklearn.model_selection import train_test_split\n",
    "from sklearn.metrics import accuracy_score, classification_report, confusion_matrix\n",
    "from sklearn.ensemble import RandomForestClassifier, GradientBoostingClassifier\n",
    "from sklearn.linear_model import LogisticRegression\n",
    "from sklearn.svm import SVC\n",
    "from sklearn.neighbors import KNeighborsClassifier\n",
    "from sklearn.naive_bayes import GaussianNB\n",
    "from sklearn.tree import DecisionTreeClassifier\n",
    "\n",
    "columns = [\n",
    "    'Attrition',\n",
    "    'OverTime',\n",
    "    'DistanceFromHome',\n",
    "    'NumCompaniesWorked',\n",
    "    'YearsAtCompany',\n",
    "    'StockOptionLevel',\n",
    "    'YearsWithCurrManager',\n",
    "    'Age',\n",
    "    'MonthlyIncome',\n",
    "    'YearsInCurrentRole',\n",
    "    'JobLevel',\n",
    "    'TotalWorkingYears'\n",
    "]\n",
    "\n",
    "csv = pd.read_csv('ibm.csv')\n",
    "ibm = csv[columns]\n",
    "\n",
    "# Dividing data into features and target\n",
    "X = ibm.drop(columns=['Attrition'])\n",
    "Y = ibm['Attrition']\n",
    "\n",
    "# Creating training and testing sets\n",
    "X_train, X_test, Y_train, Y_test = train_test_split(X, Y, test_size=0.2, random_state=42)\n",
    "\n",
    "model_names = [\n",
    "    \"Random Forest\",\n",
    "    \"Logistic Regression\",\n",
    "    \"Gradient Boosting\",\n",
    "    \"SVM\",\n",
    "    \"K-Nearest Neighbors\",\n",
    "    \"Naive Bayes\",\n",
    "    \"Decision Trees\",\n",
    "]"
   ]
  },
  {
   "cell_type": "markdown",
   "metadata": {},
   "source": [
    "## Random Forest Classifier"
   ]
  },
  {
   "cell_type": "code",
   "execution_count": 3,
   "metadata": {},
   "outputs": [
    {
     "name": "stdout",
     "output_type": "stream",
     "text": [
      "Accuracy: 0.8571428571428571 \n",
      "\n",
      "Confusion Matrix:\n",
      " [[249   6]\n",
      " [ 36   3]] \n",
      "\n",
      "Classification Report:\n",
      "               precision    recall  f1-score   support\n",
      "\n",
      "           0       0.87      0.98      0.92       255\n",
      "           1       0.33      0.08      0.12        39\n",
      "\n",
      "    accuracy                           0.86       294\n",
      "   macro avg       0.60      0.53      0.52       294\n",
      "weighted avg       0.80      0.86      0.82       294\n",
      "\n"
     ]
    }
   ],
   "source": [
    "rf_classifier = RandomForestClassifier(random_state=21)\n",
    "rf_classifier.fit(X_train, Y_train)\n",
    "Y_pred_rf = rf_classifier.predict(X_test)\n",
    "\n",
    "accuracy_rf = accuracy_score(Y_test, Y_pred_rf)\n",
    "conf_matrix_rf = confusion_matrix(Y_test, Y_pred_rf)\n",
    "class_report_rf = classification_report(Y_test, Y_pred_rf)\n",
    "\n",
    "print(f'Accuracy: {accuracy_rf}', '\\n')\n",
    "print('Confusion Matrix:\\n', conf_matrix_rf, '\\n')\n",
    "print('Classification Report:\\n', class_report_rf)"
   ]
  },
  {
   "cell_type": "markdown",
   "metadata": {},
   "source": [
    "## Logistic regression"
   ]
  },
  {
   "cell_type": "code",
   "execution_count": 4,
   "metadata": {},
   "outputs": [
    {
     "name": "stdout",
     "output_type": "stream",
     "text": [
      "Accuracy: 0.8469387755102041 \n",
      "\n",
      "Confusion Matrix:\n",
      " [[246   9]\n",
      " [ 36   3]] \n",
      "\n",
      "Classification Report:\n",
      "               precision    recall  f1-score   support\n",
      "\n",
      "           0       0.87      0.96      0.92       255\n",
      "           1       0.25      0.08      0.12        39\n",
      "\n",
      "    accuracy                           0.85       294\n",
      "   macro avg       0.56      0.52      0.52       294\n",
      "weighted avg       0.79      0.85      0.81       294\n",
      "\n"
     ]
    }
   ],
   "source": [
    "logistic_regression = LogisticRegression(max_iter=5000, random_state=21)\n",
    "logistic_regression.fit(X_train, Y_train)\n",
    "Y_pred_lr = logistic_regression.predict(X_test)\n",
    "\n",
    "accuracy_lr = accuracy_score(Y_test, Y_pred_lr)\n",
    "conf_matrix_lr = confusion_matrix(Y_test, Y_pred_lr)\n",
    "class_report_lr = classification_report(Y_test, Y_pred_lr)\n",
    "\n",
    "print(f'Accuracy: {accuracy_lr}', '\\n')\n",
    "print('Confusion Matrix:\\n', conf_matrix_lr, '\\n')\n",
    "print('Classification Report:\\n', class_report_lr)"
   ]
  },
  {
   "cell_type": "markdown",
   "metadata": {},
   "source": [
    "## Gradient Boosting Classifier"
   ]
  },
  {
   "cell_type": "code",
   "execution_count": 5,
   "metadata": {},
   "outputs": [
    {
     "name": "stdout",
     "output_type": "stream",
     "text": [
      "Accuracy: 0.8333333333333334 \n",
      "\n",
      "Confusion Matrix:\n",
      " [[242  13]\n",
      " [ 36   3]] \n",
      "\n",
      "Classification Report:\n",
      "               precision    recall  f1-score   support\n",
      "\n",
      "           0       0.87      0.95      0.91       255\n",
      "           1       0.19      0.08      0.11        39\n",
      "\n",
      "    accuracy                           0.83       294\n",
      "   macro avg       0.53      0.51      0.51       294\n",
      "weighted avg       0.78      0.83      0.80       294\n",
      "\n"
     ]
    }
   ],
   "source": [
    "gradient_boosting = GradientBoostingClassifier(random_state=21)\n",
    "gradient_boosting.fit(X_train, Y_train)\n",
    "Y_pred_gb = gradient_boosting.predict(X_test)\n",
    "\n",
    "accuracy_gb = accuracy_score(Y_test, Y_pred_gb)\n",
    "conf_matrix_gb = confusion_matrix(Y_test, Y_pred_gb)\n",
    "class_report_gb = classification_report(Y_test, Y_pred_gb)\n",
    "\n",
    "print(f'Accuracy: {accuracy_gb}', '\\n')\n",
    "print('Confusion Matrix:\\n', conf_matrix_gb, '\\n')\n",
    "print('Classification Report:\\n', class_report_gb)"
   ]
  },
  {
   "cell_type": "markdown",
   "metadata": {},
   "source": [
    "## Support Vector Machines (SVM)"
   ]
  },
  {
   "cell_type": "code",
   "execution_count": 6,
   "metadata": {},
   "outputs": [
    {
     "name": "stdout",
     "output_type": "stream",
     "text": [
      "Accuracy: 0.8673469387755102 \n",
      "\n",
      "Confusion Matrix:\n",
      " [[255   0]\n",
      " [ 39   0]] \n",
      "\n",
      "Classification Report:\n",
      "               precision    recall  f1-score   support\n",
      "\n",
      "           0       0.87      1.00      0.93       255\n",
      "           1       0.00      0.00      0.00        39\n",
      "\n",
      "    accuracy                           0.87       294\n",
      "   macro avg       0.43      0.50      0.46       294\n",
      "weighted avg       0.75      0.87      0.81       294\n",
      "\n"
     ]
    },
    {
     "name": "stderr",
     "output_type": "stream",
     "text": [
      "c:\\Users\\Mantovani\\AppData\\Local\\Programs\\Python\\Python311\\Lib\\site-packages\\sklearn\\metrics\\_classification.py:1469: UndefinedMetricWarning: Precision and F-score are ill-defined and being set to 0.0 in labels with no predicted samples. Use `zero_division` parameter to control this behavior.\n",
      "  _warn_prf(average, modifier, msg_start, len(result))\n",
      "c:\\Users\\Mantovani\\AppData\\Local\\Programs\\Python\\Python311\\Lib\\site-packages\\sklearn\\metrics\\_classification.py:1469: UndefinedMetricWarning: Precision and F-score are ill-defined and being set to 0.0 in labels with no predicted samples. Use `zero_division` parameter to control this behavior.\n",
      "  _warn_prf(average, modifier, msg_start, len(result))\n",
      "c:\\Users\\Mantovani\\AppData\\Local\\Programs\\Python\\Python311\\Lib\\site-packages\\sklearn\\metrics\\_classification.py:1469: UndefinedMetricWarning: Precision and F-score are ill-defined and being set to 0.0 in labels with no predicted samples. Use `zero_division` parameter to control this behavior.\n",
      "  _warn_prf(average, modifier, msg_start, len(result))\n"
     ]
    }
   ],
   "source": [
    "svm_classifier = SVC(random_state=21)\n",
    "svm_classifier.fit(X_train, Y_train)\n",
    "Y_pred_svm = svm_classifier.predict(X_test)\n",
    "\n",
    "accuracy_svm = accuracy_score(Y_test, Y_pred_svm)\n",
    "conf_matrix_svm = confusion_matrix(Y_test, Y_pred_svm)\n",
    "class_report_svm = classification_report(Y_test, Y_pred_svm)\n",
    "\n",
    "print(f'Accuracy: {accuracy_svm}', '\\n')\n",
    "print('Confusion Matrix:\\n', conf_matrix_svm, '\\n')\n",
    "print('Classification Report:\\n', class_report_svm)"
   ]
  },
  {
   "cell_type": "markdown",
   "metadata": {},
   "source": [
    "## K-Nearest Neighbors (KNN)"
   ]
  },
  {
   "cell_type": "code",
   "execution_count": 7,
   "metadata": {},
   "outputs": [
    {
     "name": "stdout",
     "output_type": "stream",
     "text": [
      "Accuracy: 0.8469387755102041 \n",
      "\n",
      "Confusion Matrix:\n",
      " [[246   9]\n",
      " [ 36   3]] \n",
      "\n",
      "Classification Report:\n",
      "               precision    recall  f1-score   support\n",
      "\n",
      "           0       0.87      0.96      0.92       255\n",
      "           1       0.25      0.08      0.12        39\n",
      "\n",
      "    accuracy                           0.85       294\n",
      "   macro avg       0.56      0.52      0.52       294\n",
      "weighted avg       0.79      0.85      0.81       294\n",
      "\n"
     ]
    }
   ],
   "source": [
    "knn_classifier = KNeighborsClassifier()\n",
    "knn_classifier.fit(X_train, Y_train)\n",
    "Y_pred_knn = knn_classifier.predict(X_test)\n",
    "\n",
    "accuracy_knn = accuracy_score(Y_test, Y_pred_knn)\n",
    "conf_matrix_knn = confusion_matrix(Y_test, Y_pred_knn)\n",
    "class_report_knn = classification_report(Y_test, Y_pred_knn)\n",
    "\n",
    "print(f'Accuracy: {accuracy_knn}', '\\n')\n",
    "print('Confusion Matrix:\\n', conf_matrix_knn, '\\n')\n",
    "print('Classification Report:\\n', class_report_knn)"
   ]
  },
  {
   "cell_type": "markdown",
   "metadata": {},
   "source": [
    "## Naive Bayes (GaussianNB)"
   ]
  },
  {
   "cell_type": "code",
   "execution_count": 8,
   "metadata": {},
   "outputs": [
    {
     "name": "stdout",
     "output_type": "stream",
     "text": [
      "Accuracy: 0.7891156462585034 \n",
      "\n",
      "Confusion Matrix:\n",
      " [[218  37]\n",
      " [ 25  14]] \n",
      "\n",
      "Classification Report:\n",
      "               precision    recall  f1-score   support\n",
      "\n",
      "           0       0.90      0.85      0.88       255\n",
      "           1       0.27      0.36      0.31        39\n",
      "\n",
      "    accuracy                           0.79       294\n",
      "   macro avg       0.59      0.61      0.59       294\n",
      "weighted avg       0.81      0.79      0.80       294\n",
      "\n"
     ]
    }
   ],
   "source": [
    "nb_classifier = GaussianNB()\n",
    "nb_classifier.fit(X_train, Y_train)\n",
    "Y_pred_nb = nb_classifier.predict(X_test)\n",
    "\n",
    "accuracy_nb = accuracy_score(Y_test, Y_pred_nb)\n",
    "conf_matrix_nb = confusion_matrix(Y_test, Y_pred_nb)\n",
    "class_report_nb = classification_report(Y_test, Y_pred_nb)\n",
    "\n",
    "print(f'Accuracy: {accuracy_nb}', '\\n')\n",
    "print('Confusion Matrix:\\n', conf_matrix_nb, '\\n')\n",
    "print('Classification Report:\\n', class_report_nb)"
   ]
  },
  {
   "cell_type": "markdown",
   "metadata": {},
   "source": [
    "## Decision Trees"
   ]
  },
  {
   "cell_type": "code",
   "execution_count": 9,
   "metadata": {},
   "outputs": [
    {
     "name": "stdout",
     "output_type": "stream",
     "text": [
      "Accuracy: 0.7721088435374149 \n",
      "\n",
      "Confusion Matrix:\n",
      " [[216  39]\n",
      " [ 28  11]] \n",
      "\n",
      "Classification Report:\n",
      "               precision    recall  f1-score   support\n",
      "\n",
      "           0       0.89      0.85      0.87       255\n",
      "           1       0.22      0.28      0.25        39\n",
      "\n",
      "    accuracy                           0.77       294\n",
      "   macro avg       0.55      0.56      0.56       294\n",
      "weighted avg       0.80      0.77      0.78       294\n",
      "\n"
     ]
    }
   ],
   "source": [
    "dt_classifier = DecisionTreeClassifier(random_state=21)\n",
    "dt_classifier.fit(X_train, Y_train)\n",
    "Y_pred_dt = dt_classifier.predict(X_test)\n",
    "\n",
    "accuracy_dt = accuracy_score(Y_test, Y_pred_dt)\n",
    "conf_matrix_dt = confusion_matrix(Y_test, Y_pred_dt)\n",
    "class_report_dt = classification_report(Y_test, Y_pred_dt)\n",
    "\n",
    "print(f'Accuracy: {accuracy_dt}', '\\n')\n",
    "print('Confusion Matrix:\\n', conf_matrix_dt, '\\n')\n",
    "print('Classification Report:\\n', class_report_dt)"
   ]
  },
  {
   "cell_type": "markdown",
   "metadata": {},
   "source": [
    "# Model summary"
   ]
  },
  {
   "cell_type": "markdown",
   "metadata": {},
   "source": [
    "## Accuracy values"
   ]
  },
  {
   "cell_type": "code",
   "execution_count": 10,
   "metadata": {},
   "outputs": [
    {
     "data": {
      "text/html": [
       "<div>\n",
       "<style scoped>\n",
       "    .dataframe tbody tr th:only-of-type {\n",
       "        vertical-align: middle;\n",
       "    }\n",
       "\n",
       "    .dataframe tbody tr th {\n",
       "        vertical-align: top;\n",
       "    }\n",
       "\n",
       "    .dataframe thead th {\n",
       "        text-align: right;\n",
       "    }\n",
       "</style>\n",
       "<table border=\"1\" class=\"dataframe\">\n",
       "  <thead>\n",
       "    <tr style=\"text-align: right;\">\n",
       "      <th></th>\n",
       "      <th>Model Name</th>\n",
       "      <th>Value</th>\n",
       "    </tr>\n",
       "  </thead>\n",
       "  <tbody>\n",
       "    <tr>\n",
       "      <th>3</th>\n",
       "      <td>SVM</td>\n",
       "      <td>86.73</td>\n",
       "    </tr>\n",
       "    <tr>\n",
       "      <th>0</th>\n",
       "      <td>Random Forest</td>\n",
       "      <td>85.71</td>\n",
       "    </tr>\n",
       "    <tr>\n",
       "      <th>1</th>\n",
       "      <td>Logistic Regression</td>\n",
       "      <td>84.69</td>\n",
       "    </tr>\n",
       "    <tr>\n",
       "      <th>4</th>\n",
       "      <td>K-Nearest Neighbors</td>\n",
       "      <td>84.69</td>\n",
       "    </tr>\n",
       "    <tr>\n",
       "      <th>2</th>\n",
       "      <td>Gradient Boosting</td>\n",
       "      <td>83.33</td>\n",
       "    </tr>\n",
       "    <tr>\n",
       "      <th>5</th>\n",
       "      <td>Naive Bayes</td>\n",
       "      <td>78.91</td>\n",
       "    </tr>\n",
       "    <tr>\n",
       "      <th>6</th>\n",
       "      <td>Decision Trees</td>\n",
       "      <td>77.21</td>\n",
       "    </tr>\n",
       "  </tbody>\n",
       "</table>\n",
       "</div>"
      ],
      "text/plain": [
       "            Model Name  Value\n",
       "3                  SVM  86.73\n",
       "0        Random Forest  85.71\n",
       "1  Logistic Regression  84.69\n",
       "4  K-Nearest Neighbors  84.69\n",
       "2    Gradient Boosting  83.33\n",
       "5          Naive Bayes  78.91\n",
       "6       Decision Trees  77.21"
      ]
     },
     "execution_count": 10,
     "metadata": {},
     "output_type": "execute_result"
    }
   ],
   "source": [
    "accuracy_values = [\n",
    "    round(accuracy_rf * 100, 2),\n",
    "    round(accuracy_lr * 100, 2),\n",
    "    round(accuracy_gb * 100, 2),\n",
    "    round(accuracy_svm * 100, 2),\n",
    "    round(accuracy_knn * 100, 2),\n",
    "    round(accuracy_nb * 100, 2),\n",
    "    round(accuracy_dt * 100, 2),\n",
    "]\n",
    "\n",
    "accuracy_df = pd.DataFrame({\"Model Name\": model_names, \"Value\": accuracy_values}).sort_values(by='Value', ascending=False)\n",
    "accuracy_df"
   ]
  },
  {
   "cell_type": "markdown",
   "metadata": {},
   "source": [
    "## Confusion matrices"
   ]
  },
  {
   "cell_type": "code",
   "execution_count": 11,
   "metadata": {},
   "outputs": [
    {
     "name": "stdout",
     "output_type": "stream",
     "text": [
      "Random Forest\n",
      " [[249   6]\n",
      " [ 36   3]]\n",
      "\n",
      "Logistic Regression\n",
      " [[246   9]\n",
      " [ 36   3]]\n",
      "\n",
      "Gradient Boosting\n",
      " [[242  13]\n",
      " [ 36   3]]\n",
      "\n",
      "SVM\n",
      " [[255   0]\n",
      " [ 39   0]]\n",
      "\n",
      "K-Nearest Neighbors\n",
      " [[246   9]\n",
      " [ 36   3]]\n",
      "\n",
      "Naive Bayes\n",
      " [[218  37]\n",
      " [ 25  14]]\n",
      "\n",
      "Decision Trees\n",
      " [[216  39]\n",
      " [ 28  11]]\n"
     ]
    }
   ],
   "source": [
    "print(\"Random Forest\\n\", conf_matrix_rf)\n",
    "print(\"\\nLogistic Regression\\n\", conf_matrix_lr)\n",
    "print(\"\\nGradient Boosting\\n\", conf_matrix_gb)\n",
    "print(\"\\nSVM\\n\", conf_matrix_svm)\n",
    "print(\"\\nK-Nearest Neighbors\\n\", conf_matrix_knn)\n",
    "print(\"\\nNaive Bayes\\n\", conf_matrix_nb)\n",
    "print(\"\\nDecision Trees\\n\", conf_matrix_dt)"
   ]
  },
  {
   "cell_type": "markdown",
   "metadata": {},
   "source": [
    "* True Positives (TP): The number of instances correctly predicted as positive (dissatisfied employees)\n",
    "* False Positives (FP): The number of instances incorrectly predicted as positive (employees wrongly predicted as dissatisfied)\n",
    "* True Negatives (TN): The number of instances correctly predicted as negative (satisfied employees).\n",
    "* False Negatives (FN): The number of instances incorrectly predicted as negative (employees wrongly predicted as satisfied).\n",
    "\n",
    "The Random Forest model appears to be the best candidate based on the confusion matrix, as it strikes a balance between the ability to correctly predict employees who actually left (TP) and the ability to avoid incorrect exit predictions (FP).\n",
    "\n",
    "With just 6 FP, Random Forest makes fewer errors in predicting that employees will leave when they actually stay with the company, which is advantageous to avoid unnecessary interventions. Additionally, it also has 3 TP, indicating a reasonable ability to identify employees who actually leave.\n",
    "\n",
    "Therefore, Random Forest demonstrates a good balance between sensitivity (ability to detect departing employees) and specificity (ability to avoid false alarms), making it a promising choice for accurately predicting employee departure."
   ]
  },
  {
   "cell_type": "code",
   "execution_count": 12,
   "metadata": {},
   "outputs": [
    {
     "data": {
      "image/png": "[encoded data removed]",
      "text/plain": [
       "<Figure size 640x480 with 1 Axes>"
      ]
     },
     "metadata": {},
     "output_type": "display_data"
    }
   ],
   "source": [
    "feature_importances = pd.Series(rf_classifier.feature_importances_, index=X.columns)\n",
    "feature_importances.nlargest(10).plot(kind='barh')\n",
    "plt.title(\"Most important variables\")\n",
    "plt.show()"
   ]
  }
 ],
 "metadata": {
  "kernelspec": {
   "display_name": "Python 3",
   "language": "python",
   "name": "python3"
  },
  "language_info": {
   "codemirror_mode": {
    "name": "ipython",
    "version": 3
   },
   "file_extension": ".py",
   "mimetype": "text/x-python",
   "name": "python",
   "nbconvert_exporter": "python",
   "pygments_lexer": "ipython3",
   "version": "3.11.1"
  },
  "orig_nbformat": 4
 },
 "nbformat": 4,
 "nbformat_minor": 2
}
