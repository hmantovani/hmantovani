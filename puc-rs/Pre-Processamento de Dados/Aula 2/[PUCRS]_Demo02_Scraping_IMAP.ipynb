{
 "cells": [
  {
   "cell_type": "code",
   "execution_count": null,
   "metadata": {
    "id": "zVeIB-JQLRHH"
   },
   "outputs": [],
   "source": [
    "import pandas as pd\n",
    "import numpy as np\n",
    "import matplotlib.pyplot as plt\n",
    "import seaborn as sns\n",
    "%matplotlib inline\n",
    "import re\n",
    "import time\n",
    "from datetime import datetime\n",
    "import matplotlib.dates as mdates\n",
    "import matplotlib.ticker as ticker\n",
    "from urllib.request import urlopen\n",
    "from bs4 import BeautifulSoup\n",
    "import requests"
   ]
  },
  {
   "cell_type": "code",
   "execution_count": null,
   "metadata": {
    "id": "jwT3HnU3LX0E"
   },
   "outputs": [],
   "source": [
    "headers = {\"User-Agent\":\"Mozilla/5.0 (Windows NT 10.0; Win64; x64; rv:66.0) Gecko/20100101 Firefox/66.0\", \\\n",
    "           \"Accept-Encoding\":\"gzip, deflate\", \"Accept\":\"text/html,application/xhtml+xml,application/xml;q=0.9,*/*;q=0.8\", \\\n",
    "           \"DNT\":\"1\",\"Connection\":\"close\", \"Upgrade-Insecure-Requests\":\"1\"}\n",
    "\n",
    "r = requests.get('https://www.imapi.org/perfil/santo_andre-sp', headers=headers)#, proxies=proxies)\n",
    "content = r.content\n",
    "soup = BeautifulSoup(content)"
   ]
  },
  {
   "cell_type": "code",
   "execution_count": null,
   "metadata": {
    "id": "4VoKmydRLphd"
   },
   "outputs": [],
   "source": [
    "labels=[]\n",
    "values=[]\n",
    "dims=[]\n",
    "for d in soup.findAll('article', attrs={'class':'dimensao-sticky'}):\n",
    "  for d1 in d.findAll('div', attrs={'class':'col-xs-3'}):\n",
    "      label =  d1.find('p', attrs={'class':'label'})\n",
    "      print('Label:', label.text)\n",
    "      dado = d1.find('p', attrs={'class':'dado'})\n",
    "      print('Dado:', dado.text)\n",
    "      print('---')\n",
    "\n",
    "for d in soup.findAll('g'):\n",
    "  if d.has_attr('data-nota'):\n",
    "    print('label: ', d['data-titulo'])\n",
    "    print('valor: ', d['data-nota'])\n",
    "    print('label: ', d['data-titulo'])\n",
    "    print('valor: ', d['data-desempenho'])\n",
    "    print('---')\n",
    "\n",
    "for d in soup.findAll('section', attrs={'class':'row bottom-xs'}):\n",
    " for d1 in d.findAll('div', attrs={'class':'col-xs-4 tl'}): \n",
    "    dado = d1.find('p', attrs={'class':'dado'})\n",
    "    print('Dado:', dado.text)\n",
    "    label =  d1.find('p', attrs={'class':'label'})\n",
    "    print('Label:', label.text) \n",
    "\n",
    "\n",
    "\n",
    "for s in soup.findAll('section', attrs={'class':'card'}):\n",
    "  for d in s.findAll('article', attrs={'class':'indicador'}):\n",
    "      dado = d.find('p', attrs={'class':'dado'})\n",
    "      print('Seção', s['data-dimensao'])\n",
    "      print('Dado:', dado.text)\n",
    "      \n",
    "      label =  d.find('p', attrs={'class':'label'})\n",
    "      print('Label:', label.text) \n",
    "      municipio = d.find('div', attrs={'class':'local ativo'})\n",
    "      if municipio != None and municipio.has_attr('data-nota'):\n",
    "        print('Valor: ', municipio['data-nota'])\n",
    "        valor = municipio['data-nota']\n",
    "      else:\n",
    "        print('Valor: N/A')\n",
    "        valor = 'N/A'\n",
    "      print('---')\n",
    "      dims.append(s['data-dimensao'])\n",
    "      labels.append(label.text)\n",
    "      values.append(valor)\n",
    "\n",
    "res = {'dimensao:':dims, 'label':labels, 'valor':values}"
   ]
  },
  {
   "cell_type": "code",
   "execution_count": null,
   "metadata": {
    "id": "vJYVouUl9YRg"
   },
   "outputs": [],
   "source": [
    "pd.DataFrame().from_dict(res)"
   ]
  },
  {
   "cell_type": "markdown",
   "metadata": {
    "id": "o4rKMUez8xEE"
   },
   "source": [
    "Dados dinâmicos (Javascript)"
   ]
  },
  {
   "cell_type": "code",
   "execution_count": null,
   "metadata": {
    "id": "U6I-McCp83yX"
   },
   "outputs": [],
   "source": [
    "!pip install selenium\n",
    "!apt install chromium-chromedriver"
   ]
  },
  {
   "cell_type": "code",
   "execution_count": null,
   "metadata": {
    "id": "62oz1HxjHD5n"
   },
   "outputs": [],
   "source": [
    "from selenium import webdriver\n",
    "from bs4 import BeautifulSoup\n",
    "\n",
    "url='https://www.imapi.org/perfil/porto-alegre-rs'\n",
    "\n",
    "chrome_options = webdriver.ChromeOptions()\n",
    "chrome_options.add_argument('--headless')\n",
    "chrome_options.add_argument('--no-sandbox')\n",
    "chrome_options.add_argument('--disable-dev-shm-usage')\n",
    "wd = webdriver.Chrome('chromedriver',options=chrome_options)\n",
    "driver =webdriver.Chrome('chromedriver',options=chrome_options)\n",
    "\n",
    "driver.get(url)\n",
    "html = driver.page_source\n",
    "soup2 = BeautifulSoup(html, 'html.parser')"
   ]
  },
  {
   "cell_type": "code",
   "execution_count": null,
   "metadata": {
    "id": "0OmhIIRXKMQ1"
   },
   "outputs": [],
   "source": [
    "out = [option.text for option in soup2.select('#municipios option')]"
   ]
  },
  {
   "cell_type": "code",
   "execution_count": null,
   "metadata": {
    "id": "z4kZnpZ0KMPR"
   },
   "outputs": [],
   "source": [
    "municipios = out"
   ]
  },
  {
   "cell_type": "code",
   "execution_count": null,
   "metadata": {
    "id": "WT8TP4cCKMMj"
   },
   "outputs": [],
   "source": [
    "municipios"
   ]
  },
  {
   "cell_type": "code",
   "execution_count": null,
   "metadata": {
    "id": "B86H_VW9yQna"
   },
   "outputs": [],
   "source": [
    "from time import sleep\n",
    "from random import randint"
   ]
  },
  {
   "cell_type": "code",
   "execution_count": null,
   "metadata": {
    "id": "p9O7aKoCJi-Q"
   },
   "outputs": [],
   "source": [
    "labels=[]\n",
    "values=[]\n",
    "munis = []\n",
    "estados = []\n",
    "dims=[]\n",
    "i =  1\n",
    "### top 10 \n",
    "for muni in municipios[:10]:\n",
    "  #print('trying:','https://www.imapi.org/perfil/', muni )\n",
    "  #print(i, '/', len(municipios))\n",
    "  \n",
    "  print(i, sep=' ', end=' ', flush=True) \n",
    "  i = i + 1\n",
    "  r = requests.get('https://www.imapi.org/perfil/'+muni, headers=headers)#, proxies=proxies)\n",
    "  content = r.content\n",
    "  sleep(randint(1,2))\n",
    "  soup = BeautifulSoup(content)\n",
    "  for s in soup.findAll('section', attrs={'class':'card'}):\n",
    "    for d in s.findAll('article', attrs={'class':'indicador'}):\n",
    "        dado = d.find('p', attrs={'class':'dado'})\n",
    "       # print('Seção', s['data-dimensao'])\n",
    "       # print('Dado:', dado.text)\n",
    "        \n",
    "        label =  d.find('p', attrs={'class':'label'})\n",
    "        #print('Label:', label.text) \n",
    "        municipio = d.find('div', attrs={'class':'local ativo'})\n",
    "        if municipio != None and municipio.has_attr('data-nota'):\n",
    "        #  print('Valor: ', municipio['data-nota'])\n",
    "          valor = municipio['data-nota']\n",
    "        else:\n",
    "         # print('Valor: N/A')\n",
    "          valor = np.NaN\n",
    "        #print('---')\n",
    "        munis.append(muni.split('-')[0])\n",
    "        estados.append(muni.split('-')[1])\n",
    "        dims.append(s['data-dimensao'])\n",
    "        labels.append(label.text)\n",
    "        values.append(valor)\n",
    "      \n",
    "\n",
    "  res = {'estado':estados, 'municipio':munis, 'dimensao':dims, 'label':labels, 'valor':values}\n",
    "  res_df = pd.DataFrame().from_dict(res)\n",
    "  res_df.to_csv('imapi.csv')"
   ]
  },
  {
   "cell_type": "code",
   "execution_count": null,
   "metadata": {
    "id": "AZ9g2vSGMkkP"
   },
   "outputs": [],
   "source": [
    "t = pd.read_csv('imapi.csv', index_col=0)"
   ]
  },
  {
   "cell_type": "code",
   "execution_count": null,
   "metadata": {
    "id": "nCckf9heuO9Y"
   },
   "outputs": [],
   "source": [
    "t"
   ]
  },
  {
   "cell_type": "code",
   "execution_count": null,
   "metadata": {
    "id": "6YuRW1Esvc7_"
   },
   "outputs": [],
   "source": []
  }
 ],
 "metadata": {
  "colab": {
   "collapsed_sections": [],
   "name": "[PUCRS] Demo02: Scraping IMAP.ipynb",
   "provenance": []
  },
  "kernelspec": {
   "display_name": "Python 3",
   "language": "python",
   "name": "python3"
  },
  "language_info": {
   "codemirror_mode": {
    "name": "ipython",
    "version": 3
   },
   "file_extension": ".py",
   "mimetype": "text/x-python",
   "name": "python",
   "nbconvert_exporter": "python",
   "pygments_lexer": "ipython3",
   "version": "3.8.3"
  }
 },
 "nbformat": 4,
 "nbformat_minor": 4
}
