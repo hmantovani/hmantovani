{
 "cells": [
  {
   "cell_type": "markdown",
   "metadata": {},
   "source": [
    "# Lista Aula 3"
   ]
  },
  {
   "cell_type": "code",
   "execution_count": null,
   "metadata": {},
   "outputs": [],
   "source": [
    "import numpy as np\n",
    "import pandas as pd\n",
    "import seaborn as sns\n",
    "import matplotlib.pyplot as plt"
   ]
  },
  {
   "cell_type": "markdown",
   "metadata": {},
   "source": [
    "# Exercício 1: Café da Manhã"
   ]
  },
  {
   "cell_type": "markdown",
   "metadata": {},
   "source": [
    "#### 1. Importanto os dados e criando um campo para contagem de registros (Qtd = 1)"
   ]
  },
  {
   "cell_type": "code",
   "execution_count": null,
   "metadata": {},
   "outputs": [],
   "source": [
    "dfCafe = pd.read_csv('CAFE_DA_MANHA.csv')\n",
    "dfCafe['Qtd'] = 1"
   ]
  },
  {
   "cell_type": "code",
   "execution_count": null,
   "metadata": {},
   "outputs": [],
   "source": [
    "# NOSSO DF FICARÁ COM ESSE SHAPE\n",
    "dfCafe.head()"
   ]
  },
  {
   "cell_type": "markdown",
   "metadata": {},
   "source": [
    "#### 2. Pivotando os dados usando o método pivot_table()"
   ]
  },
  {
   "cell_type": "code",
   "execution_count": null,
   "metadata": {},
   "outputs": [],
   "source": [
    "# INCLUÍMOS QTD COMO VALOR, TRANSACTION COMM INDEX (LINHA) E ITEM COMO COLUNA\n",
    "# IMPORTANTE INCLUIR O PARÂMETRO fill_value=0 PARA PREENCHER COM ZERO OS VALORES AUSENTES\n",
    "dfCafePivot = dfCafe.pivot_table(values = 'Qtd', \n",
    "                         index = 'Transaction', \n",
    "                         columns = 'Item',\n",
    "                         fill_value=0)\n",
    "dfCafePivot.head(50)"
   ]
  },
  {
   "cell_type": "markdown",
   "metadata": {},
   "source": [
    "#### 3. Criando as correlações de Pearson entre os itens, através do método corr()"
   ]
  },
  {
   "cell_type": "code",
   "execution_count": null,
   "metadata": {},
   "outputs": [],
   "source": [
    "corrCafe = dfCafePivot.corr()\n",
    "corrCafe.head()"
   ]
  },
  {
   "cell_type": "markdown",
   "metadata": {},
   "source": [
    "#### 4.\tPlote um gráfico de calor sobre a matriz de correlação."
   ]
  },
  {
   "cell_type": "code",
   "execution_count": null,
   "metadata": {},
   "outputs": [],
   "source": [
    "# GRAFICAMENTE PODE SER MAIS FÁCIL\n",
    "# ALGUMAS POUCAS CORRELAÕES CHAMAM ATENÇÃO, COMO EXEMPLO, CAMISETA E CARTÃO POSTAL\n",
    "plt.figure(figsize=[22,18])\n",
    "sns.heatmap(corrCafe, cmap='magma', linecolor='w', linewidths=1)"
   ]
  },
  {
   "cell_type": "markdown",
   "metadata": {},
   "source": [
    "#### 5.\tEncontrou alguma correlação interessante entre os produtos? Quais?"
   ]
  },
  {
   "cell_type": "markdown",
   "metadata": {},
   "source": [
    "- Camiseta e cartão postal\n",
    "- Outras correlações não tão importantes como salada e salame"
   ]
  },
  {
   "cell_type": "markdown",
   "metadata": {},
   "source": [
    "# Exercício 2: NBA"
   ]
  },
  {
   "cell_type": "markdown",
   "metadata": {},
   "source": [
    "# Pré-processamento"
   ]
  },
  {
   "cell_type": "markdown",
   "metadata": {},
   "source": [
    "### 1. Obtendo dados"
   ]
  },
  {
   "cell_type": "code",
   "execution_count": null,
   "metadata": {},
   "outputs": [],
   "source": [
    "# FONTE: https://www.kaggle.com/drgilermo/nba-players-stats\n",
    "jogadores = pd.read_excel('JOGADORES_NBA.xlsx')\n",
    "metricas = pd.read_excel('METRICAS_NBA.xlsx')"
   ]
  },
  {
   "cell_type": "code",
   "execution_count": null,
   "metadata": {},
   "outputs": [],
   "source": [
    "jogadores.head()"
   ]
  },
  {
   "cell_type": "code",
   "execution_count": null,
   "metadata": {},
   "outputs": [],
   "source": [
    "metricas.head()"
   ]
  },
  {
   "cell_type": "markdown",
   "metadata": {},
   "source": [
    "### 2. Junção dos dados"
   ]
  },
  {
   "cell_type": "code",
   "execution_count": null,
   "metadata": {},
   "outputs": [],
   "source": [
    "# JUNÇÃO DOS DADOS\n",
    "df = pd.merge(metricas, jogadores, how = 'left', on = 'Player')\n",
    "df.head()"
   ]
  },
  {
   "cell_type": "code",
   "execution_count": null,
   "metadata": {},
   "outputs": [],
   "source": [
    "# AGORA TEMOS TODOS ATRIBUTOS EM UM SÓ ARQUIVO\n",
    "df.columns"
   ]
  },
  {
   "cell_type": "markdown",
   "metadata": {},
   "source": [
    "### 3. Tratamento de valores extremos (outliers)\n",
    "##### Primeiro vamos dar uma olhada nos dados para ter uma ideia da quantidade de valores extremos."
   ]
  },
  {
   "cell_type": "code",
   "execution_count": null,
   "metadata": {},
   "outputs": [],
   "source": [
    "df[['height', 'weight', 'TS%', 'FTr']]"
   ]
  },
  {
   "cell_type": "code",
   "execution_count": null,
   "metadata": {},
   "outputs": [],
   "source": [
    "# METRICAS ANTES DO TRATAMENTO DE OUTLIERS\n",
    "df[['height', 'weight', 'TS%', 'FTr']].mean()"
   ]
  },
  {
   "cell_type": "code",
   "execution_count": null,
   "metadata": {},
   "outputs": [],
   "source": [
    "jogadores.sort_values(by=['height'], ascending=True)['height'].head()"
   ]
  },
  {
   "cell_type": "code",
   "execution_count": null,
   "metadata": {},
   "outputs": [],
   "source": [
    "jogadores.sort_values(by=['height'], ascending=False)['height'].head()"
   ]
  },
  {
   "cell_type": "code",
   "execution_count": null,
   "metadata": {},
   "outputs": [],
   "source": [
    "jogadores.sort_values(by=['weight'], ascending=False)['weight'].head()"
   ]
  },
  {
   "cell_type": "code",
   "execution_count": null,
   "metadata": {},
   "outputs": [],
   "source": [
    "jogadores.sort_values(by=['weight'], ascending=True)['weight'].head()"
   ]
  },
  {
   "cell_type": "code",
   "execution_count": null,
   "metadata": {},
   "outputs": [],
   "source": [
    "metricas.sort_values(by=['TS%'], ascending=False)['TS%'].head()"
   ]
  },
  {
   "cell_type": "code",
   "execution_count": null,
   "metadata": {},
   "outputs": [],
   "source": [
    "metricas.sort_values(by=['TS%'], ascending=True)['TS%'].head()"
   ]
  },
  {
   "cell_type": "code",
   "execution_count": null,
   "metadata": {},
   "outputs": [],
   "source": [
    "metricas.sort_values(by=['FTr'], ascending=False)['FTr'].head()"
   ]
  },
  {
   "cell_type": "code",
   "execution_count": null,
   "metadata": {},
   "outputs": [],
   "source": [
    "metricas.sort_values(by=['FTr'], ascending=True)['FTr'].head()"
   ]
  },
  {
   "cell_type": "markdown",
   "metadata": {},
   "source": [
    "##### Aparentemente, o volume de ouliers é bem pequeno.\n",
    "##### Vamos tratar apenas 0,02% das extremidades, isso será sufciente para corrigir/suavisar o efeito de ouliers."
   ]
  },
  {
   "cell_type": "code",
   "execution_count": null,
   "metadata": {},
   "outputs": [],
   "source": [
    "# SUBSTITUINDO EXTREMIDADE SUPERIOR DE height\n",
    "df['height'] = np.where(df['height'] >= df['height'].quantile(0.998),\n",
    "                               \n",
    "                                  df[(df['height'] > df['height'].quantile(0.002)) & \n",
    "                                                (df['height'] < df['height'].quantile(0.998))]['height'].mean(),\n",
    "                              \n",
    "                                  df['height'])\n",
    "\n",
    "# SUBSTITUINDO EXTREMIDADE INFERIOR DE height\n",
    "df['height'] = np.where(df['height'] <= df['height'].quantile(0.002),\n",
    "                               \n",
    "                                  df[(df['height'] > df['height'].quantile(0.002)) & \n",
    "                                                (df['height'] < df['height'].quantile(0.998))]['height'].mean(),\n",
    "                              \n",
    "                                  df['height'])\n",
    "\n",
    "# SUBSTITUINDO EXTREMIDADE SUPERIOR DE weight\n",
    "df['weight'] = np.where(df['weight'] >= df['weight'].quantile(0.998),\n",
    "                               \n",
    "                                  df[(df['weight'] > df['weight'].quantile(0.002)) & \n",
    "                                                (df['weight'] < df['weight'].quantile(0.998))]['weight'].mean(),\n",
    "                              \n",
    "                                  df['weight'])\n",
    "\n",
    "# SUBSTITUINDO EXTREMIDADE INFERIOR DE weight\n",
    "df['weight'] = np.where(df['weight'] <= df['weight'].quantile(0.002),\n",
    "                               \n",
    "                                  df[(df['weight'] > df['weight'].quantile(0.002)) & \n",
    "                                                (df['weight'] < df['weight'].quantile(0.998))]['weight'].mean(),\n",
    "                              \n",
    "                                  df['weight'])\n",
    "\n",
    "# SUBSTITUINDO EXTREMIDADE SUPERIOR DE TS%\n",
    "df['TS%'] = np.where(df['TS%'] >= df['TS%'].quantile(0.998),\n",
    "                               \n",
    "                                  df[(df['TS%'] > df['TS%'].quantile(0.002)) & \n",
    "                                                (df['TS%'] < df['TS%'].quantile(0.998))]['TS%'].mean(),\n",
    "                              \n",
    "                                  df['TS%'])\n",
    "\n",
    "# SUBSTITUINDO EXTREMIDADE INFERIOR DE TS%\n",
    "df['TS%'] = np.where(df['TS%'] <= df['TS%'].quantile(0.002),\n",
    "                               \n",
    "                                  df[(df['TS%'] > df['TS%'].quantile(0.002)) & \n",
    "                                                (df['TS%'] < df['TS%'].quantile(0.998))]['TS%'].mean(),\n",
    "                              \n",
    "                                  df['TS%'])\n",
    "\n",
    "# SUBSTITUINDO EXTREMIDADE SUPERIOR DE FTr\n",
    "df['FTr'] = np.where(df['FTr'] >= df['FTr'].quantile(0.998),\n",
    "                               \n",
    "                                  df[(df['FTr'] > df['FTr'].quantile(0.002)) & \n",
    "                                                (df['FTr'] < df['FTr'].quantile(0.998))]['FTr'].mean(),\n",
    "                              \n",
    "                                  df['FTr'])\n",
    "\n",
    "# SUBSTITUINDO EXTREMIDADE INFERIOR DE FTr\n",
    "df['FTr'] = np.where(df['FTr'] <= df['FTr'].quantile(0.002),\n",
    "                               \n",
    "                                  df[(df['FTr'] > df['FTr'].quantile(0.002)) & \n",
    "                                                (df['FTr'] < df['FTr'].quantile(0.998))]['FTr'].mean(),\n",
    "                              \n",
    "                                  df['FTr'])\n"
   ]
  },
  {
   "cell_type": "code",
   "execution_count": null,
   "metadata": {},
   "outputs": [],
   "source": [
    "# METRICAS APÓS DO TRATAMENTO DE OUTLIERS\n",
    "df[['height', 'weight', 'TS%', 'FTr']].mean()"
   ]
  },
  {
   "cell_type": "markdown",
   "metadata": {},
   "source": [
    "### 4. Tratamento de valores ausentes\n",
    "##### Tratando os dados numéricos"
   ]
  },
  {
   "cell_type": "code",
   "execution_count": null,
   "metadata": {},
   "outputs": [],
   "source": [
    "# TRATAMENTO DOS NUMÉRICOS\n",
    "# COMO JÁ TRATAMOS OS OULIERS, O TRATAMENTO DOS AUSENTES FICA MAIS FÁCIL...\n",
    "df['height'] = df['height'].fillna(value = df['height'].mean())\n",
    "df['weight'] = df['weight'].fillna(value = df['weight'].mean())\n",
    "df['TS%'] = df['TS%'].fillna(value = df['TS%'].mean())\n",
    "df['FTr'] = df['FTr'].fillna(value = df['FTr'].mean())"
   ]
  },
  {
   "cell_type": "markdown",
   "metadata": {},
   "source": [
    "##### Tratando os dados categóricos"
   ]
  },
  {
   "cell_type": "code",
   "execution_count": null,
   "metadata": {},
   "outputs": [],
   "source": [
    "# TRATAMENTO DOS CATEGÓRICOS\n",
    "df['birth_city'] = df['birth_city'].fillna(value = 'Nao identificado')\n",
    "df['birth_state'] = df['birth_state'].fillna(value = 'Nao identificado')\n",
    "df['collage'] = df['collage'].fillna(value = 'Nao identificado')\n",
    "df[['birth_city', 'birth_state', 'collage']].head()"
   ]
  },
  {
   "cell_type": "markdown",
   "metadata": {},
   "source": [
    "### 5. Discretização\n",
    "##### Discretizando a idade em três categorias"
   ]
  },
  {
   "cell_type": "code",
   "execution_count": null,
   "metadata": {},
   "outputs": [],
   "source": [
    "# DEFININDO UMA FUNÇÃO PARA DISCRETIZAR A IDADE\n",
    "def discrIdade(x):\n",
    "    if x < df['Age'].quantile(0.33):\n",
    "        return 'JUNIOR'\n",
    "    elif x < df['Age'].quantile(0.66):\n",
    "        return 'MEDIO'\n",
    "    else:\n",
    "        return 'SENIOR'"
   ]
  },
  {
   "cell_type": "code",
   "execution_count": null,
   "metadata": {},
   "outputs": [],
   "source": [
    "# APLICANDO A FUNÇÃO PARA OBTER AS DESCRIÇÕES\n",
    "df['DescIdade'] = df['Age'].apply(discrIdade)"
   ]
  },
  {
   "cell_type": "code",
   "execution_count": null,
   "metadata": {},
   "outputs": [],
   "source": [
    "df[['Age', 'DescIdade']].head()"
   ]
  },
  {
   "cell_type": "markdown",
   "metadata": {},
   "source": [
    "# Análise de dados"
   ]
  },
  {
   "cell_type": "markdown",
   "metadata": {},
   "source": [
    "##### 1. Qual a média de idade/peso dos jogadores?"
   ]
  },
  {
   "cell_type": "code",
   "execution_count": null,
   "metadata": {},
   "outputs": [],
   "source": [
    "df[['height', 'weight']].mean()"
   ]
  },
  {
   "cell_type": "markdown",
   "metadata": {},
   "source": [
    "##### 2. Qual a média de idade/peso dos jogadores na década de 50? Compare com a década de 90."
   ]
  },
  {
   "cell_type": "code",
   "execution_count": null,
   "metadata": {},
   "outputs": [],
   "source": [
    "print('Anos 50')\n",
    "print(df[(df['Year'] >= 1950) & (df['Year'] < 1960)][['height', 'weight']].mean())\n",
    "print('Anos 90')\n",
    "print(df[(df['Year'] >= 1990) & (df['Year'] < 2000)][['height', 'weight']].mean())"
   ]
  },
  {
   "cell_type": "markdown",
   "metadata": {},
   "source": [
    "##### 3. Qual o jogador que mais marcou pontos na série histórica (desconsiderando ano/time);"
   ]
  },
  {
   "cell_type": "code",
   "execution_count": null,
   "metadata": {},
   "outputs": [],
   "source": [
    "df.groupby('Player')['PTS'].sum().sort_values(ascending = False).head(1)"
   ]
  },
  {
   "cell_type": "markdown",
   "metadata": {},
   "source": [
    "##### 4. Qual foi o jogador que mais marcou pontos em uma única temporada? Em que ano isso acontecei?"
   ]
  },
  {
   "cell_type": "code",
   "execution_count": null,
   "metadata": {},
   "outputs": [],
   "source": [
    "df.groupby(['Player', 'Year'])['PTS'].sum().sort_values(ascending = False).head(1)"
   ]
  },
  {
   "cell_type": "markdown",
   "metadata": {},
   "source": [
    "##### 5. Qual jogador que jogou por mais tempo na NBA?"
   ]
  },
  {
   "cell_type": "code",
   "execution_count": null,
   "metadata": {},
   "outputs": [],
   "source": [
    "df.groupby(['Player'])['Year'].count().sort_values(ascending = False).head(1)"
   ]
  },
  {
   "cell_type": "markdown",
   "metadata": {},
   "source": [
    "##### 6. Qual jogador permaneceu mais tempo em um time? Qual é este time? Por quanto tempo ele ficou neste time?    "
   ]
  },
  {
   "cell_type": "code",
   "execution_count": null,
   "metadata": {},
   "outputs": [],
   "source": [
    "df.groupby(['Player', 'Tm'])['Year'].count().sort_values(ascending = False).head(1)"
   ]
  },
  {
   "cell_type": "markdown",
   "metadata": {},
   "source": [
    "7. Quais são os cinco atletas mais altos e mais baixos que já jogaram na NBA?"
   ]
  },
  {
   "cell_type": "code",
   "execution_count": null,
   "metadata": {},
   "outputs": [],
   "source": [
    "print(\"Mais altos:\")\n",
    "df.groupby('Player')[['height']].max().sort_values(by = 'height', ascending = False).head(5)"
   ]
  },
  {
   "cell_type": "code",
   "execution_count": null,
   "metadata": {},
   "outputs": [],
   "source": [
    "print(\"Mais baixos:\")\n",
    "df.groupby('Player')[['height']].max().sort_values(by = 'height', ascending = True).head(5)"
   ]
  },
  {
   "cell_type": "markdown",
   "metadata": {},
   "source": [
    "8. Quais são os cinco atletas mais pesados e mais leves que já jogaram na NBA?"
   ]
  },
  {
   "cell_type": "code",
   "execution_count": null,
   "metadata": {},
   "outputs": [],
   "source": [
    "print(\"Mais pesados:\")\n",
    "df.groupby('Player')[['weight']].max().sort_values(by = 'weight', ascending = False).head(5)"
   ]
  },
  {
   "cell_type": "code",
   "execution_count": null,
   "metadata": {},
   "outputs": [],
   "source": [
    "print(\"Mais leves:\")\n",
    "df.groupby('Player')[['weight']].max().sort_values(by = 'weight', ascending = True).head(5)"
   ]
  },
  {
   "cell_type": "markdown",
   "metadata": {},
   "source": [
    "# Exercício 3: Ramen Rating"
   ]
  },
  {
   "cell_type": "markdown",
   "metadata": {},
   "source": [
    "# Análise de Dados"
   ]
  },
  {
   "cell_type": "code",
   "execution_count": null,
   "metadata": {},
   "outputs": [],
   "source": [
    "# https://www.kaggle.com/residentmario/ramen-ratings\n",
    "ramen = pd.read_excel('RAMEN_RATINGS.xlsx')\n",
    "ramen.head()"
   ]
  },
  {
   "cell_type": "markdown",
   "metadata": {},
   "source": [
    "### 1. Qual o país tem a melhor avaliação média? E mediana? Os diferentes resultados sugerem erro nos dados?"
   ]
  },
  {
   "cell_type": "code",
   "execution_count": null,
   "metadata": {},
   "outputs": [],
   "source": [
    "ramen.groupby('Country')['Stars'].mean().sort_values(ascending=False).head(5)"
   ]
  },
  {
   "cell_type": "code",
   "execution_count": null,
   "metadata": {},
   "outputs": [],
   "source": [
    "ramen.groupby('Country')['Stars'].median().sort_values(ascending=False).head(5)"
   ]
  },
  {
   "cell_type": "markdown",
   "metadata": {},
   "source": [
    "### Os valores médios extremamente altos sugerem que há outliers."
   ]
  },
  {
   "cell_type": "markdown",
   "metadata": {},
   "source": [
    "### 2. A marca “Nissin” é melhor avaliada em qual país? Use a mediana."
   ]
  },
  {
   "cell_type": "code",
   "execution_count": null,
   "metadata": {},
   "outputs": [],
   "source": [
    "ramen[ramen['Brand'] == 'Nissin'].groupby('Country')['Stars'].median().sort_values(ascending=False).head(5)"
   ]
  },
  {
   "cell_type": "markdown",
   "metadata": {},
   "source": [
    "### 3. No geral, qual tipo de embalagem é melhor avaliada? Use a mediana aqui também."
   ]
  },
  {
   "cell_type": "code",
   "execution_count": null,
   "metadata": {},
   "outputs": [],
   "source": [
    "ramen.groupby('Style')['Stars'].median().sort_values(ascending=True).head(10)"
   ]
  },
  {
   "cell_type": "markdown",
   "metadata": {},
   "source": [
    "# Pré-processamento de dados"
   ]
  },
  {
   "cell_type": "markdown",
   "metadata": {},
   "source": [
    "### 1. Remova as variáveis “Review #” e “Variety”."
   ]
  },
  {
   "cell_type": "code",
   "execution_count": null,
   "metadata": {},
   "outputs": [],
   "source": [
    "ramen.drop(['Review #','Variety'], axis=1, inplace=True)"
   ]
  },
  {
   "cell_type": "markdown",
   "metadata": {},
   "source": [
    "### 2. Aplique codificação one-hot sobre as demais variáveis (exceto “Stars”)."
   ]
  },
  {
   "cell_type": "code",
   "execution_count": null,
   "metadata": {},
   "outputs": [],
   "source": [
    "def one_hot_encode(df, feature_to_one_hot):\n",
    "    dummies = pd.get_dummies(df[[feature_to_one_hot]])\n",
    "    new_df = pd.concat([df, dummies], axis=1)\n",
    "    return(new_df.drop([feature_to_one_hot], axis=1))"
   ]
  },
  {
   "cell_type": "code",
   "execution_count": null,
   "metadata": {},
   "outputs": [],
   "source": [
    "feature_to_one_hot = ['Brand','Style','Country']\n",
    "\n",
    "for feature in feature_to_one_hot:\n",
    "    ramen = one_hot_encode(ramen, feature)"
   ]
  },
  {
   "cell_type": "code",
   "execution_count": null,
   "metadata": {},
   "outputs": [],
   "source": [
    "ramen.head()"
   ]
  },
  {
   "cell_type": "code",
   "execution_count": null,
   "metadata": {},
   "outputs": [],
   "source": [
    "list(ramen)"
   ]
  },
  {
   "cell_type": "markdown",
   "metadata": {},
   "source": [
    "## Fechamento:\n",
    "### Essa lista de exercícios nos ajudou a fixar técnicas de pré-processamento muito comuns no dia-a-dia do cientista de dados:\n",
    "##### Tratamento de Valores Ausentes\n",
    "##### Tratamento Outliers\n",
    "##### Discretização\n",
    "##### Binarização\n",
    "##### Pivotagem\n",
    "##### Codificação One-hot"
   ]
  },
  {
   "cell_type": "code",
   "execution_count": null,
   "metadata": {},
   "outputs": [],
   "source": []
  }
 ],
 "metadata": {
  "kernelspec": {
   "display_name": "Python 3",
   "language": "python",
   "name": "python3"
  },
  "language_info": {
   "codemirror_mode": {
    "name": "ipython",
    "version": 3
   },
   "file_extension": ".py",
   "mimetype": "text/x-python",
   "name": "python",
   "nbconvert_exporter": "python",
   "pygments_lexer": "ipython3",
   "version": "3.8.3"
  }
 },
 "nbformat": 4,
 "nbformat_minor": 4
}
