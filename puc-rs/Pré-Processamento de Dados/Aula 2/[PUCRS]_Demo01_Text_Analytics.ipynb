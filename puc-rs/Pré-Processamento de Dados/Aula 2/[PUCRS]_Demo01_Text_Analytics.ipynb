{
 "cells": [
  {
   "cell_type": "markdown",
   "metadata": {
    "id": "g3kTWfer0BfG"
   },
   "source": [
    "## !pip install spacy pyLDAvis\n"
   ]
  },
  {
   "cell_type": "code",
   "execution_count": 31,
   "metadata": {
    "id": "3uZ0gRD80FKt"
   },
   "outputs": [
    {
     "name": "stdout",
     "output_type": "stream",
     "text": [
      "Collecting pt-core-news-sm==3.0.0\n",
      "  Downloading https://github.com/explosion/spacy-models/releases/download/pt_core_news_sm-3.0.0/pt_core_news_sm-3.0.0-py3-none-any.whl (22.1 MB)\n",
      "\u001b[K     |████████████████████████████████| 22.1 MB 1.7 MB/s eta 0:00:01\n",
      "\u001b[?25hRequirement already satisfied: spacy<3.1.0,>=3.0.0 in /opt/anaconda3/lib/python3.8/site-packages (from pt-core-news-sm==3.0.0) (3.0.5)\n",
      "Requirement already satisfied: cymem<2.1.0,>=2.0.2 in /opt/anaconda3/lib/python3.8/site-packages (from spacy<3.1.0,>=3.0.0->pt-core-news-sm==3.0.0) (2.0.5)\n",
      "Requirement already satisfied: preshed<3.1.0,>=3.0.2 in /opt/anaconda3/lib/python3.8/site-packages (from spacy<3.1.0,>=3.0.0->pt-core-news-sm==3.0.0) (3.0.5)\n",
      "Requirement already satisfied: blis<0.8.0,>=0.4.0 in /opt/anaconda3/lib/python3.8/site-packages (from spacy<3.1.0,>=3.0.0->pt-core-news-sm==3.0.0) (0.7.4)\n",
      "Requirement already satisfied: pydantic<1.8.0,>=1.7.1 in /opt/anaconda3/lib/python3.8/site-packages (from spacy<3.1.0,>=3.0.0->pt-core-news-sm==3.0.0) (1.7.3)\n",
      "Requirement already satisfied: numpy>=1.15.0 in /opt/anaconda3/lib/python3.8/site-packages (from spacy<3.1.0,>=3.0.0->pt-core-news-sm==3.0.0) (1.18.5)\n",
      "Requirement already satisfied: wasabi<1.1.0,>=0.8.1 in /opt/anaconda3/lib/python3.8/site-packages (from spacy<3.1.0,>=3.0.0->pt-core-news-sm==3.0.0) (0.8.2)\n",
      "Requirement already satisfied: murmurhash<1.1.0,>=0.28.0 in /opt/anaconda3/lib/python3.8/site-packages (from spacy<3.1.0,>=3.0.0->pt-core-news-sm==3.0.0) (1.0.5)\n",
      "Requirement already satisfied: jinja2 in /opt/anaconda3/lib/python3.8/site-packages (from spacy<3.1.0,>=3.0.0->pt-core-news-sm==3.0.0) (2.11.2)\n",
      "Requirement already satisfied: requests<3.0.0,>=2.13.0 in /opt/anaconda3/lib/python3.8/site-packages (from spacy<3.1.0,>=3.0.0->pt-core-news-sm==3.0.0) (2.24.0)\n",
      "Requirement already satisfied: typer<0.4.0,>=0.3.0 in /opt/anaconda3/lib/python3.8/site-packages (from spacy<3.1.0,>=3.0.0->pt-core-news-sm==3.0.0) (0.3.2)\n",
      "Requirement already satisfied: srsly<3.0.0,>=2.4.0 in /opt/anaconda3/lib/python3.8/site-packages (from spacy<3.1.0,>=3.0.0->pt-core-news-sm==3.0.0) (2.4.0)\n",
      "Requirement already satisfied: tqdm<5.0.0,>=4.38.0 in /opt/anaconda3/lib/python3.8/site-packages (from spacy<3.1.0,>=3.0.0->pt-core-news-sm==3.0.0) (4.47.0)\n",
      "Requirement already satisfied: setuptools in /opt/anaconda3/lib/python3.8/site-packages (from spacy<3.1.0,>=3.0.0->pt-core-news-sm==3.0.0) (49.2.0.post20200714)\n",
      "Requirement already satisfied: packaging>=20.0 in /opt/anaconda3/lib/python3.8/site-packages (from spacy<3.1.0,>=3.0.0->pt-core-news-sm==3.0.0) (20.4)\n",
      "Requirement already satisfied: pathy>=0.3.5 in /opt/anaconda3/lib/python3.8/site-packages (from spacy<3.1.0,>=3.0.0->pt-core-news-sm==3.0.0) (0.4.0)\n",
      "Requirement already satisfied: thinc<8.1.0,>=8.0.2 in /opt/anaconda3/lib/python3.8/site-packages (from spacy<3.1.0,>=3.0.0->pt-core-news-sm==3.0.0) (8.0.2)\n",
      "Requirement already satisfied: spacy-legacy<3.1.0,>=3.0.0 in /opt/anaconda3/lib/python3.8/site-packages (from spacy<3.1.0,>=3.0.0->pt-core-news-sm==3.0.0) (3.0.1)\n",
      "Requirement already satisfied: catalogue<2.1.0,>=2.0.1 in /opt/anaconda3/lib/python3.8/site-packages (from spacy<3.1.0,>=3.0.0->pt-core-news-sm==3.0.0) (2.0.1)\n",
      "Requirement already satisfied: MarkupSafe>=0.23 in /opt/anaconda3/lib/python3.8/site-packages (from jinja2->spacy<3.1.0,>=3.0.0->pt-core-news-sm==3.0.0) (1.1.1)\n",
      "Requirement already satisfied: chardet<4,>=3.0.2 in /opt/anaconda3/lib/python3.8/site-packages (from requests<3.0.0,>=2.13.0->spacy<3.1.0,>=3.0.0->pt-core-news-sm==3.0.0) (3.0.4)\n",
      "Requirement already satisfied: idna<3,>=2.5 in /opt/anaconda3/lib/python3.8/site-packages (from requests<3.0.0,>=2.13.0->spacy<3.1.0,>=3.0.0->pt-core-news-sm==3.0.0) (2.10)\n",
      "Requirement already satisfied: certifi>=2017.4.17 in /opt/anaconda3/lib/python3.8/site-packages (from requests<3.0.0,>=2.13.0->spacy<3.1.0,>=3.0.0->pt-core-news-sm==3.0.0) (2020.6.20)\n",
      "Requirement already satisfied: urllib3!=1.25.0,!=1.25.1,<1.26,>=1.21.1 in /opt/anaconda3/lib/python3.8/site-packages (from requests<3.0.0,>=2.13.0->spacy<3.1.0,>=3.0.0->pt-core-news-sm==3.0.0) (1.25.9)\n",
      "Requirement already satisfied: click<7.2.0,>=7.1.1 in /opt/anaconda3/lib/python3.8/site-packages (from typer<0.4.0,>=0.3.0->spacy<3.1.0,>=3.0.0->pt-core-news-sm==3.0.0) (7.1.2)\n",
      "Requirement already satisfied: six in /opt/anaconda3/lib/python3.8/site-packages (from packaging>=20.0->spacy<3.1.0,>=3.0.0->pt-core-news-sm==3.0.0) (1.15.0)\n",
      "Requirement already satisfied: pyparsing>=2.0.2 in /opt/anaconda3/lib/python3.8/site-packages (from packaging>=20.0->spacy<3.1.0,>=3.0.0->pt-core-news-sm==3.0.0) (2.4.7)\n",
      "Requirement already satisfied: smart-open<4.0.0,>=2.2.0 in /opt/anaconda3/lib/python3.8/site-packages (from pathy>=0.3.5->spacy<3.1.0,>=3.0.0->pt-core-news-sm==3.0.0) (3.0.0)\n",
      "Installing collected packages: pt-core-news-sm\n",
      "Successfully installed pt-core-news-sm-3.0.0\n",
      "\u001b[38;5;2m✔ Download and installation successful\u001b[0m\n",
      "You can now load the package via spacy.load('pt_core_news_sm')\n"
     ]
    }
   ],
   "source": [
    "!python -m spacy download pt_core_news_sm"
   ]
  },
  {
   "cell_type": "code",
   "execution_count": 40,
   "metadata": {
    "id": "iZHHcMwIiEPY"
   },
   "outputs": [],
   "source": [
    "import pandas as pd\n",
    "import matplotlib.pyplot as plt\n",
    "import spacy\n",
    "import nltk\n",
    "import re\n",
    "from nltk import word_tokenize\n",
    "from nltk.util import ngrams\n",
    "from sklearn.decomposition import LatentDirichletAllocation\n",
    "from sklearn.feature_extraction.text import CountVectorizer\n",
    "from collections import Counter\n",
    "import warnings\n",
    "warnings.filterwarnings('ignore')\n",
    "nlp_pt = spacy.load('pt_core_news_sm')"
   ]
  },
  {
   "cell_type": "code",
   "execution_count": 41,
   "metadata": {
    "id": "FhdVTJIl5RsW"
   },
   "outputs": [
    {
     "name": "stderr",
     "output_type": "stream",
     "text": [
      "[nltk_data] Downloading package punkt to /Users/Juliano/nltk_data...\n",
      "[nltk_data]   Package punkt is already up-to-date!\n"
     ]
    },
    {
     "data": {
      "text/plain": [
       "True"
      ]
     },
     "execution_count": 41,
     "metadata": {},
     "output_type": "execute_result"
    }
   ],
   "source": [
    "# executar apenas uma vez\n",
    "nltk.download('punkt')"
   ]
  },
  {
   "cell_type": "code",
   "execution_count": 42,
   "metadata": {
    "id": "ujLlc4cmjYtg"
   },
   "outputs": [],
   "source": [
    "\n",
    "news = pd.read_csv('https://www.dropbox.com/s/rvwjw8miow6jswy/articles.csv?dl=1')\n"
   ]
  },
  {
   "cell_type": "code",
   "execution_count": 43,
   "metadata": {
    "id": "v60gt2w2jcCB"
   },
   "outputs": [
    {
     "data": {
      "text/html": [
       "<div>\n",
       "<style scoped>\n",
       "    .dataframe tbody tr th:only-of-type {\n",
       "        vertical-align: middle;\n",
       "    }\n",
       "\n",
       "    .dataframe tbody tr th {\n",
       "        vertical-align: top;\n",
       "    }\n",
       "\n",
       "    .dataframe thead th {\n",
       "        text-align: right;\n",
       "    }\n",
       "</style>\n",
       "<table border=\"1\" class=\"dataframe\">\n",
       "  <thead>\n",
       "    <tr style=\"text-align: right;\">\n",
       "      <th></th>\n",
       "      <th>title</th>\n",
       "      <th>text</th>\n",
       "      <th>date</th>\n",
       "      <th>category</th>\n",
       "      <th>subcategory</th>\n",
       "      <th>link</th>\n",
       "    </tr>\n",
       "  </thead>\n",
       "  <tbody>\n",
       "    <tr>\n",
       "      <th>0</th>\n",
       "      <td>Lula diz que está 'lascado', mas que ainda tem...</td>\n",
       "      <td>Com a possibilidade de uma condenação impedir ...</td>\n",
       "      <td>2017-09-10</td>\n",
       "      <td>poder</td>\n",
       "      <td>NaN</td>\n",
       "      <td>http://www1.folha.uol.com.br/poder/2017/10/192...</td>\n",
       "    </tr>\n",
       "    <tr>\n",
       "      <th>1</th>\n",
       "      <td>'Decidi ser escrava das mulheres que sofrem', ...</td>\n",
       "      <td>Para Oumou Sangaré, cantora e ativista malines...</td>\n",
       "      <td>2017-09-10</td>\n",
       "      <td>ilustrada</td>\n",
       "      <td>NaN</td>\n",
       "      <td>http://www1.folha.uol.com.br/ilustrada/2017/10...</td>\n",
       "    </tr>\n",
       "    <tr>\n",
       "      <th>2</th>\n",
       "      <td>Três reportagens da Folha ganham Prêmio Petrob...</td>\n",
       "      <td>Três reportagens da Folha foram vencedoras do ...</td>\n",
       "      <td>2017-09-10</td>\n",
       "      <td>poder</td>\n",
       "      <td>NaN</td>\n",
       "      <td>http://www1.folha.uol.com.br/poder/2017/10/192...</td>\n",
       "    </tr>\n",
       "    <tr>\n",
       "      <th>3</th>\n",
       "      <td>Filme 'Star Wars: Os Últimos Jedi' ganha trail...</td>\n",
       "      <td>A Disney divulgou na noite desta segunda-feira...</td>\n",
       "      <td>2017-09-10</td>\n",
       "      <td>ilustrada</td>\n",
       "      <td>NaN</td>\n",
       "      <td>http://www1.folha.uol.com.br/ilustrada/2017/10...</td>\n",
       "    </tr>\n",
       "    <tr>\n",
       "      <th>4</th>\n",
       "      <td>CBSS inicia acordos com fintechs e quer 30% do...</td>\n",
       "      <td>O CBSS, banco da holding Elopar dos sócios Bra...</td>\n",
       "      <td>2017-09-10</td>\n",
       "      <td>mercado</td>\n",
       "      <td>NaN</td>\n",
       "      <td>http://www1.folha.uol.com.br/mercado/2017/10/1...</td>\n",
       "    </tr>\n",
       "  </tbody>\n",
       "</table>\n",
       "</div>"
      ],
      "text/plain": [
       "                                               title  \\\n",
       "0  Lula diz que está 'lascado', mas que ainda tem...   \n",
       "1  'Decidi ser escrava das mulheres que sofrem', ...   \n",
       "2  Três reportagens da Folha ganham Prêmio Petrob...   \n",
       "3  Filme 'Star Wars: Os Últimos Jedi' ganha trail...   \n",
       "4  CBSS inicia acordos com fintechs e quer 30% do...   \n",
       "\n",
       "                                                text        date   category  \\\n",
       "0  Com a possibilidade de uma condenação impedir ...  2017-09-10      poder   \n",
       "1  Para Oumou Sangaré, cantora e ativista malines...  2017-09-10  ilustrada   \n",
       "2  Três reportagens da Folha foram vencedoras do ...  2017-09-10      poder   \n",
       "3  A Disney divulgou na noite desta segunda-feira...  2017-09-10  ilustrada   \n",
       "4  O CBSS, banco da holding Elopar dos sócios Bra...  2017-09-10    mercado   \n",
       "\n",
       "  subcategory                                               link  \n",
       "0         NaN  http://www1.folha.uol.com.br/poder/2017/10/192...  \n",
       "1         NaN  http://www1.folha.uol.com.br/ilustrada/2017/10...  \n",
       "2         NaN  http://www1.folha.uol.com.br/poder/2017/10/192...  \n",
       "3         NaN  http://www1.folha.uol.com.br/ilustrada/2017/10...  \n",
       "4         NaN  http://www1.folha.uol.com.br/mercado/2017/10/1...  "
      ]
     },
     "execution_count": 43,
     "metadata": {},
     "output_type": "execute_result"
    }
   ],
   "source": [
    "news.head()"
   ]
  },
  {
   "cell_type": "markdown",
   "metadata": {
    "id": "5MvjLxIY0mbw"
   },
   "source": [
    "Filtro pela categoria \"turismo\""
   ]
  },
  {
   "cell_type": "code",
   "execution_count": 44,
   "metadata": {
    "id": "ZVtztALuj96C"
   },
   "outputs": [],
   "source": [
    "turismo = news[news['category'] == 'turismo']"
   ]
  },
  {
   "cell_type": "code",
   "execution_count": 45,
   "metadata": {
    "id": "2sGodJYK0sNN"
   },
   "outputs": [
    {
     "data": {
      "text/html": [
       "<div>\n",
       "<style scoped>\n",
       "    .dataframe tbody tr th:only-of-type {\n",
       "        vertical-align: middle;\n",
       "    }\n",
       "\n",
       "    .dataframe tbody tr th {\n",
       "        vertical-align: top;\n",
       "    }\n",
       "\n",
       "    .dataframe thead th {\n",
       "        text-align: right;\n",
       "    }\n",
       "</style>\n",
       "<table border=\"1\" class=\"dataframe\">\n",
       "  <thead>\n",
       "    <tr style=\"text-align: right;\">\n",
       "      <th></th>\n",
       "      <th>title</th>\n",
       "      <th>text</th>\n",
       "      <th>date</th>\n",
       "      <th>category</th>\n",
       "      <th>subcategory</th>\n",
       "      <th>link</th>\n",
       "    </tr>\n",
       "  </thead>\n",
       "  <tbody>\n",
       "    <tr>\n",
       "      <th>381</th>\n",
       "      <td>Latam inaugura voo direto de 15 horas entre Ch...</td>\n",
       "      <td>Animem-se os que pretendem cruzar o Pacífico e...</td>\n",
       "      <td>2017-06-10</td>\n",
       "      <td>turismo</td>\n",
       "      <td>NaN</td>\n",
       "      <td>http://www1.folha.uol.com.br/turismo/2017/10/1...</td>\n",
       "    </tr>\n",
       "    <tr>\n",
       "      <th>414</th>\n",
       "      <td>Turismo de Las Vegas deve se recuperar em mese...</td>\n",
       "      <td>O massacre em Las Vegas afetará o turismo da c...</td>\n",
       "      <td>2017-06-10</td>\n",
       "      <td>turismo</td>\n",
       "      <td>NaN</td>\n",
       "      <td>http://www1.folha.uol.com.br/turismo/2017/10/1...</td>\n",
       "    </tr>\n",
       "    <tr>\n",
       "      <th>522</th>\n",
       "      <td>Brasileiro cria app para economizar no passeio...</td>\n",
       "      <td>Com cerca de 50 mil visitantes por dia, Veneza...</td>\n",
       "      <td>2017-05-10</td>\n",
       "      <td>turismo</td>\n",
       "      <td>NaN</td>\n",
       "      <td>http://www1.folha.uol.com.br/turismo/2017/10/1...</td>\n",
       "    </tr>\n",
       "    <tr>\n",
       "      <th>602</th>\n",
       "      <td>AirBnB passa a fazer reserva de restaurantes</td>\n",
       "      <td>A plataforma de hospedagem Airbnb anunciou que...</td>\n",
       "      <td>2017-05-10</td>\n",
       "      <td>turismo</td>\n",
       "      <td>NaN</td>\n",
       "      <td>http://www1.folha.uol.com.br/turismo/2017/10/1...</td>\n",
       "    </tr>\n",
       "    <tr>\n",
       "      <th>609</th>\n",
       "      <td>Museus lembram quatro décadas de opressão sovi...</td>\n",
       "      <td>Nos países que viveram sob a órbita da União S...</td>\n",
       "      <td>2017-05-10</td>\n",
       "      <td>turismo</td>\n",
       "      <td>NaN</td>\n",
       "      <td>http://www1.folha.uol.com.br/turismo/2017/10/1...</td>\n",
       "    </tr>\n",
       "  </tbody>\n",
       "</table>\n",
       "</div>"
      ],
      "text/plain": [
       "                                                 title  \\\n",
       "381  Latam inaugura voo direto de 15 horas entre Ch...   \n",
       "414  Turismo de Las Vegas deve se recuperar em mese...   \n",
       "522  Brasileiro cria app para economizar no passeio...   \n",
       "602       AirBnB passa a fazer reserva de restaurantes   \n",
       "609  Museus lembram quatro décadas de opressão sovi...   \n",
       "\n",
       "                                                  text        date category  \\\n",
       "381  Animem-se os que pretendem cruzar o Pacífico e...  2017-06-10  turismo   \n",
       "414  O massacre em Las Vegas afetará o turismo da c...  2017-06-10  turismo   \n",
       "522  Com cerca de 50 mil visitantes por dia, Veneza...  2017-05-10  turismo   \n",
       "602  A plataforma de hospedagem Airbnb anunciou que...  2017-05-10  turismo   \n",
       "609  Nos países que viveram sob a órbita da União S...  2017-05-10  turismo   \n",
       "\n",
       "    subcategory                                               link  \n",
       "381         NaN  http://www1.folha.uol.com.br/turismo/2017/10/1...  \n",
       "414         NaN  http://www1.folha.uol.com.br/turismo/2017/10/1...  \n",
       "522         NaN  http://www1.folha.uol.com.br/turismo/2017/10/1...  \n",
       "602         NaN  http://www1.folha.uol.com.br/turismo/2017/10/1...  \n",
       "609         NaN  http://www1.folha.uol.com.br/turismo/2017/10/1...  "
      ]
     },
     "execution_count": 45,
     "metadata": {},
     "output_type": "execute_result"
    }
   ],
   "source": [
    "turismo.head()"
   ]
  },
  {
   "cell_type": "code",
   "execution_count": 46,
   "metadata": {
    "id": "uJCVTtq60vFD"
   },
   "outputs": [],
   "source": [
    "\n",
    "def limpa_texto(texto):\n",
    "  # remove \\n e \\r\n",
    "  c = re.sub(r'\\n', ' ', texto)\n",
    "  c = re.sub(r'\\r', ' ', c)\n",
    "  \n",
    "  # remove caracteres alfanumericos\n",
    "  c = c.replace(':', '')\n",
    "  c = c.replace('/', '')\n",
    "  c = re.sub(r'R\\$', '', c)\n",
    "  c = re.sub(r'\\W', ' ', c)\n",
    "  # remove espaços adicionais\n",
    "  c = re.sub(r'\\s+', ' ', c)\n",
    "  # remove espacos adicionais no inicio das frases\n",
    "  c = re.sub(r'^\\s+', '', c)\n",
    "  # remove espacos adicionais no final das frases\n",
    "  c = re.sub(r'\\s+$', '', c)\n",
    " \n",
    "  return c.lower()"
   ]
  },
  {
   "cell_type": "code",
   "execution_count": 47,
   "metadata": {
    "id": "xxTkE0tS02sk"
   },
   "outputs": [],
   "source": [
    "from spacy.lang.pt import Portuguese\n",
    "STOP_WORDS = spacy.lang.pt.stop_words.STOP_WORDS\n",
    "STOP_WORDS.update('ao')\n",
    "\n",
    "def remove_stop(texto):\n",
    "  doc = nlp_pt(texto)\n",
    "  return \" \".join(x.text for x in doc if x.text not in STOP_WORDS)"
   ]
  },
  {
   "cell_type": "code",
   "execution_count": 48,
   "metadata": {
    "id": "TF9IwhXG04cI"
   },
   "outputs": [],
   "source": [
    "def limpa_texto2(texto):\n",
    "  doc = nlp_pt(texto)\n",
    "  return \" \".join(x.lemma_ for x in doc if x.text not in STOP_WORDS)"
   ]
  },
  {
   "cell_type": "code",
   "execution_count": 49,
   "metadata": {
    "id": "2-k6JrX85_o-"
   },
   "outputs": [
    {
     "data": {
      "text/plain": [
       "{'a',\n",
       " 'acerca',\n",
       " 'ademais',\n",
       " 'adeus',\n",
       " 'agora',\n",
       " 'ainda',\n",
       " 'algo',\n",
       " 'algumas',\n",
       " 'alguns',\n",
       " 'ali',\n",
       " 'além',\n",
       " 'ambas',\n",
       " 'ambos',\n",
       " 'antes',\n",
       " 'ao',\n",
       " 'aos',\n",
       " 'apenas',\n",
       " 'apoia',\n",
       " 'apoio',\n",
       " 'apontar',\n",
       " 'após',\n",
       " 'aquela',\n",
       " 'aquelas',\n",
       " 'aquele',\n",
       " 'aqueles',\n",
       " 'aqui',\n",
       " 'aquilo',\n",
       " 'as',\n",
       " 'assim',\n",
       " 'através',\n",
       " 'atrás',\n",
       " 'até',\n",
       " 'aí',\n",
       " 'baixo',\n",
       " 'bastante',\n",
       " 'bem',\n",
       " 'boa',\n",
       " 'bom',\n",
       " 'breve',\n",
       " 'cada',\n",
       " 'caminho',\n",
       " 'catorze',\n",
       " 'cedo',\n",
       " 'cento',\n",
       " 'certamente',\n",
       " 'certeza',\n",
       " 'cima',\n",
       " 'cinco',\n",
       " 'coisa',\n",
       " 'com',\n",
       " 'como',\n",
       " 'comprida',\n",
       " 'comprido',\n",
       " 'conhecida',\n",
       " 'conhecido',\n",
       " 'conselho',\n",
       " 'contra',\n",
       " 'contudo',\n",
       " 'corrente',\n",
       " 'cuja',\n",
       " 'cujo',\n",
       " 'custa',\n",
       " 'cá',\n",
       " 'da',\n",
       " 'daquela',\n",
       " 'daquele',\n",
       " 'dar',\n",
       " 'das',\n",
       " 'de',\n",
       " 'debaixo',\n",
       " 'demais',\n",
       " 'dentro',\n",
       " 'depois',\n",
       " 'des',\n",
       " 'desde',\n",
       " 'dessa',\n",
       " 'desse',\n",
       " 'desta',\n",
       " 'deste',\n",
       " 'deve',\n",
       " 'devem',\n",
       " 'deverá',\n",
       " 'dez',\n",
       " 'dezanove',\n",
       " 'dezasseis',\n",
       " 'dezassete',\n",
       " 'dezoito',\n",
       " 'diante',\n",
       " 'direita',\n",
       " 'disso',\n",
       " 'diz',\n",
       " 'dizem',\n",
       " 'dizer',\n",
       " 'do',\n",
       " 'dois',\n",
       " 'dos',\n",
       " 'doze',\n",
       " 'duas',\n",
       " 'dá',\n",
       " 'dão',\n",
       " 'e',\n",
       " 'ela',\n",
       " 'elas',\n",
       " 'ele',\n",
       " 'eles',\n",
       " 'em',\n",
       " 'embora',\n",
       " 'enquanto',\n",
       " 'entre',\n",
       " 'então',\n",
       " 'era',\n",
       " 'essa',\n",
       " 'essas',\n",
       " 'esse',\n",
       " 'esses',\n",
       " 'esta',\n",
       " 'estado',\n",
       " 'estar',\n",
       " 'estará',\n",
       " 'estas',\n",
       " 'estava',\n",
       " 'este',\n",
       " 'estes',\n",
       " 'esteve',\n",
       " 'estive',\n",
       " 'estivemos',\n",
       " 'estiveram',\n",
       " 'estiveste',\n",
       " 'estivestes',\n",
       " 'estou',\n",
       " 'está',\n",
       " 'estás',\n",
       " 'estão',\n",
       " 'eu',\n",
       " 'eventual',\n",
       " 'exemplo',\n",
       " 'falta',\n",
       " 'fará',\n",
       " 'favor',\n",
       " 'faz',\n",
       " 'fazeis',\n",
       " 'fazem',\n",
       " 'fazemos',\n",
       " 'fazer',\n",
       " 'fazes',\n",
       " 'fazia',\n",
       " 'faço',\n",
       " 'fez',\n",
       " 'fim',\n",
       " 'final',\n",
       " 'foi',\n",
       " 'fomos',\n",
       " 'for',\n",
       " 'fora',\n",
       " 'foram',\n",
       " 'forma',\n",
       " 'foste',\n",
       " 'fostes',\n",
       " 'fui',\n",
       " 'geral',\n",
       " 'grande',\n",
       " 'grandes',\n",
       " 'grupo',\n",
       " 'inclusive',\n",
       " 'iniciar',\n",
       " 'inicio',\n",
       " 'ir',\n",
       " 'irá',\n",
       " 'isso',\n",
       " 'isto',\n",
       " 'já',\n",
       " 'lado',\n",
       " 'lhe',\n",
       " 'ligado',\n",
       " 'local',\n",
       " 'logo',\n",
       " 'longe',\n",
       " 'lugar',\n",
       " 'lá',\n",
       " 'maior',\n",
       " 'maioria',\n",
       " 'maiorias',\n",
       " 'mais',\n",
       " 'mal',\n",
       " 'mas',\n",
       " 'me',\n",
       " 'meio',\n",
       " 'menor',\n",
       " 'menos',\n",
       " 'meses',\n",
       " 'mesmo',\n",
       " 'meu',\n",
       " 'meus',\n",
       " 'mil',\n",
       " 'minha',\n",
       " 'minhas',\n",
       " 'momento',\n",
       " 'muito',\n",
       " 'muitos',\n",
       " 'máximo',\n",
       " 'mês',\n",
       " 'na',\n",
       " 'nada',\n",
       " 'naquela',\n",
       " 'naquele',\n",
       " 'nas',\n",
       " 'nem',\n",
       " 'nenhuma',\n",
       " 'nessa',\n",
       " 'nesse',\n",
       " 'nesta',\n",
       " 'neste',\n",
       " 'no',\n",
       " 'nos',\n",
       " 'nossa',\n",
       " 'nossas',\n",
       " 'nosso',\n",
       " 'nossos',\n",
       " 'nova',\n",
       " 'novas',\n",
       " 'nove',\n",
       " 'novo',\n",
       " 'novos',\n",
       " 'num',\n",
       " 'numa',\n",
       " 'nunca',\n",
       " 'nuns',\n",
       " 'não',\n",
       " 'nível',\n",
       " 'nós',\n",
       " 'número',\n",
       " 'números',\n",
       " 'o',\n",
       " 'obrigada',\n",
       " 'obrigado',\n",
       " 'oitava',\n",
       " 'oitavo',\n",
       " 'oito',\n",
       " 'onde',\n",
       " 'ontem',\n",
       " 'onze',\n",
       " 'ora',\n",
       " 'os',\n",
       " 'ou',\n",
       " 'outra',\n",
       " 'outras',\n",
       " 'outros',\n",
       " 'para',\n",
       " 'parece',\n",
       " 'parte',\n",
       " 'partir',\n",
       " 'pegar',\n",
       " 'pela',\n",
       " 'pelas',\n",
       " 'pelo',\n",
       " 'pelos',\n",
       " 'perto',\n",
       " 'pode',\n",
       " 'podem',\n",
       " 'poder',\n",
       " 'poderá',\n",
       " 'podia',\n",
       " 'pois',\n",
       " 'ponto',\n",
       " 'pontos',\n",
       " 'por',\n",
       " 'porquanto',\n",
       " 'porque',\n",
       " 'porquê',\n",
       " 'portanto',\n",
       " 'porém',\n",
       " 'posição',\n",
       " 'possivelmente',\n",
       " 'posso',\n",
       " 'possível',\n",
       " 'pouca',\n",
       " 'pouco',\n",
       " 'povo',\n",
       " 'primeira',\n",
       " 'primeiro',\n",
       " 'próprio',\n",
       " 'próxima',\n",
       " 'próximo',\n",
       " 'puderam',\n",
       " 'pôde',\n",
       " 'põe',\n",
       " 'põem',\n",
       " 'quais',\n",
       " 'qual',\n",
       " 'qualquer',\n",
       " 'quando',\n",
       " 'quanto',\n",
       " 'quarta',\n",
       " 'quarto',\n",
       " 'quatro',\n",
       " 'que',\n",
       " 'quem',\n",
       " 'quer',\n",
       " 'querem',\n",
       " 'quero',\n",
       " 'questão',\n",
       " 'quieta',\n",
       " 'quieto',\n",
       " 'quinta',\n",
       " 'quinto',\n",
       " 'quinze',\n",
       " 'quê',\n",
       " 'relação',\n",
       " 'sabe',\n",
       " 'saber',\n",
       " 'se',\n",
       " 'segunda',\n",
       " 'segundo',\n",
       " 'sei',\n",
       " 'seis',\n",
       " 'sem',\n",
       " 'sempre',\n",
       " 'ser',\n",
       " 'seria',\n",
       " 'sete',\n",
       " 'seu',\n",
       " 'seus',\n",
       " 'sexta',\n",
       " 'sexto',\n",
       " 'sim',\n",
       " 'sistema',\n",
       " 'sob',\n",
       " 'sobre',\n",
       " 'sois',\n",
       " 'somente',\n",
       " 'somos',\n",
       " 'sou',\n",
       " 'sua',\n",
       " 'suas',\n",
       " 'são',\n",
       " 'sétima',\n",
       " 'sétimo',\n",
       " 'só',\n",
       " 'tais',\n",
       " 'tal',\n",
       " 'talvez',\n",
       " 'também',\n",
       " 'tanta',\n",
       " 'tanto',\n",
       " 'tarde',\n",
       " 'te',\n",
       " 'tem',\n",
       " 'temos',\n",
       " 'tempo',\n",
       " 'tendes',\n",
       " 'tenho',\n",
       " 'tens',\n",
       " 'tentar',\n",
       " 'tentaram',\n",
       " 'tente',\n",
       " 'tentei',\n",
       " 'ter',\n",
       " 'terceira',\n",
       " 'terceiro',\n",
       " 'teu',\n",
       " 'teus',\n",
       " 'teve',\n",
       " 'tipo',\n",
       " 'tive',\n",
       " 'tivemos',\n",
       " 'tiveram',\n",
       " 'tiveste',\n",
       " 'tivestes',\n",
       " 'toda',\n",
       " 'todas',\n",
       " 'todo',\n",
       " 'todos',\n",
       " 'treze',\n",
       " 'três',\n",
       " 'tu',\n",
       " 'tua',\n",
       " 'tuas',\n",
       " 'tudo',\n",
       " 'tão',\n",
       " 'têm',\n",
       " 'um',\n",
       " 'uma',\n",
       " 'umas',\n",
       " 'uns',\n",
       " 'usa',\n",
       " 'usar',\n",
       " 'vai',\n",
       " 'vais',\n",
       " 'valor',\n",
       " 'veja',\n",
       " 'vem',\n",
       " 'vens',\n",
       " 'ver',\n",
       " 'vez',\n",
       " 'vezes',\n",
       " 'vinda',\n",
       " 'vindo',\n",
       " 'vinte',\n",
       " 'você',\n",
       " 'vocês',\n",
       " 'vos',\n",
       " 'vossa',\n",
       " 'vossas',\n",
       " 'vosso',\n",
       " 'vossos',\n",
       " 'vários',\n",
       " 'vão',\n",
       " 'vêm',\n",
       " 'vós',\n",
       " 'zero',\n",
       " 'à',\n",
       " 'às',\n",
       " 'área',\n",
       " 'é',\n",
       " 'és',\n",
       " 'último'}"
      ]
     },
     "execution_count": 49,
     "metadata": {},
     "output_type": "execute_result"
    }
   ],
   "source": [
    "STOP_WORDS"
   ]
  },
  {
   "cell_type": "markdown",
   "metadata": {
    "id": "giORD-7r07zf"
   },
   "source": [
    "Estatísticas básicas\n",
    "\n",
    "1. número de palavras no titulo das noticias"
   ]
  },
  {
   "cell_type": "code",
   "execution_count": 50,
   "metadata": {
    "id": "4ZHdKutn05uK"
   },
   "outputs": [],
   "source": [
    "turismo['title_n_words'] = turismo['title'].apply(lambda x : len(x.split()))"
   ]
  },
  {
   "cell_type": "code",
   "execution_count": 51,
   "metadata": {
    "id": "pIHpbBas09ci"
   },
   "outputs": [
    {
     "data": {
      "text/html": [
       "<div>\n",
       "<style scoped>\n",
       "    .dataframe tbody tr th:only-of-type {\n",
       "        vertical-align: middle;\n",
       "    }\n",
       "\n",
       "    .dataframe tbody tr th {\n",
       "        vertical-align: top;\n",
       "    }\n",
       "\n",
       "    .dataframe thead th {\n",
       "        text-align: right;\n",
       "    }\n",
       "</style>\n",
       "<table border=\"1\" class=\"dataframe\">\n",
       "  <thead>\n",
       "    <tr style=\"text-align: right;\">\n",
       "      <th></th>\n",
       "      <th>title</th>\n",
       "      <th>text</th>\n",
       "      <th>date</th>\n",
       "      <th>category</th>\n",
       "      <th>subcategory</th>\n",
       "      <th>link</th>\n",
       "      <th>title_n_words</th>\n",
       "    </tr>\n",
       "  </thead>\n",
       "  <tbody>\n",
       "    <tr>\n",
       "      <th>381</th>\n",
       "      <td>Latam inaugura voo direto de 15 horas entre Ch...</td>\n",
       "      <td>Animem-se os que pretendem cruzar o Pacífico e...</td>\n",
       "      <td>2017-06-10</td>\n",
       "      <td>turismo</td>\n",
       "      <td>NaN</td>\n",
       "      <td>http://www1.folha.uol.com.br/turismo/2017/10/1...</td>\n",
       "      <td>11</td>\n",
       "    </tr>\n",
       "    <tr>\n",
       "      <th>414</th>\n",
       "      <td>Turismo de Las Vegas deve se recuperar em mese...</td>\n",
       "      <td>O massacre em Las Vegas afetará o turismo da c...</td>\n",
       "      <td>2017-06-10</td>\n",
       "      <td>turismo</td>\n",
       "      <td>NaN</td>\n",
       "      <td>http://www1.folha.uol.com.br/turismo/2017/10/1...</td>\n",
       "      <td>11</td>\n",
       "    </tr>\n",
       "    <tr>\n",
       "      <th>522</th>\n",
       "      <td>Brasileiro cria app para economizar no passeio...</td>\n",
       "      <td>Com cerca de 50 mil visitantes por dia, Veneza...</td>\n",
       "      <td>2017-05-10</td>\n",
       "      <td>turismo</td>\n",
       "      <td>NaN</td>\n",
       "      <td>http://www1.folha.uol.com.br/turismo/2017/10/1...</td>\n",
       "      <td>11</td>\n",
       "    </tr>\n",
       "    <tr>\n",
       "      <th>602</th>\n",
       "      <td>AirBnB passa a fazer reserva de restaurantes</td>\n",
       "      <td>A plataforma de hospedagem Airbnb anunciou que...</td>\n",
       "      <td>2017-05-10</td>\n",
       "      <td>turismo</td>\n",
       "      <td>NaN</td>\n",
       "      <td>http://www1.folha.uol.com.br/turismo/2017/10/1...</td>\n",
       "      <td>7</td>\n",
       "    </tr>\n",
       "    <tr>\n",
       "      <th>609</th>\n",
       "      <td>Museus lembram quatro décadas de opressão sovi...</td>\n",
       "      <td>Nos países que viveram sob a órbita da União S...</td>\n",
       "      <td>2017-05-10</td>\n",
       "      <td>turismo</td>\n",
       "      <td>NaN</td>\n",
       "      <td>http://www1.folha.uol.com.br/turismo/2017/10/1...</td>\n",
       "      <td>10</td>\n",
       "    </tr>\n",
       "  </tbody>\n",
       "</table>\n",
       "</div>"
      ],
      "text/plain": [
       "                                                 title  \\\n",
       "381  Latam inaugura voo direto de 15 horas entre Ch...   \n",
       "414  Turismo de Las Vegas deve se recuperar em mese...   \n",
       "522  Brasileiro cria app para economizar no passeio...   \n",
       "602       AirBnB passa a fazer reserva de restaurantes   \n",
       "609  Museus lembram quatro décadas de opressão sovi...   \n",
       "\n",
       "                                                  text        date category  \\\n",
       "381  Animem-se os que pretendem cruzar o Pacífico e...  2017-06-10  turismo   \n",
       "414  O massacre em Las Vegas afetará o turismo da c...  2017-06-10  turismo   \n",
       "522  Com cerca de 50 mil visitantes por dia, Veneza...  2017-05-10  turismo   \n",
       "602  A plataforma de hospedagem Airbnb anunciou que...  2017-05-10  turismo   \n",
       "609  Nos países que viveram sob a órbita da União S...  2017-05-10  turismo   \n",
       "\n",
       "    subcategory                                               link  \\\n",
       "381         NaN  http://www1.folha.uol.com.br/turismo/2017/10/1...   \n",
       "414         NaN  http://www1.folha.uol.com.br/turismo/2017/10/1...   \n",
       "522         NaN  http://www1.folha.uol.com.br/turismo/2017/10/1...   \n",
       "602         NaN  http://www1.folha.uol.com.br/turismo/2017/10/1...   \n",
       "609         NaN  http://www1.folha.uol.com.br/turismo/2017/10/1...   \n",
       "\n",
       "     title_n_words  \n",
       "381             11  \n",
       "414             11  \n",
       "522             11  \n",
       "602              7  \n",
       "609             10  "
      ]
     },
     "execution_count": 51,
     "metadata": {},
     "output_type": "execute_result"
    }
   ],
   "source": [
    "turismo.head()"
   ]
  },
  {
   "cell_type": "code",
   "execution_count": null,
   "metadata": {
    "id": "KEIkdeNK0-XH"
   },
   "outputs": [],
   "source": []
  },
  {
   "cell_type": "markdown",
   "metadata": {
    "id": "Yc_YO2931A3H"
   },
   "source": [
    "2. Número de caracteres no título das notícias"
   ]
  },
  {
   "cell_type": "code",
   "execution_count": 52,
   "metadata": {
    "id": "R3UmlNnH1BO4"
   },
   "outputs": [],
   "source": [
    "turismo['title_n_chars'] = turismo['title'].apply(lambda x: len(x.replace(\" \",\"\")))"
   ]
  },
  {
   "cell_type": "code",
   "execution_count": 53,
   "metadata": {
    "id": "XOHygYXs1Cct"
   },
   "outputs": [
    {
     "data": {
      "text/html": [
       "<div>\n",
       "<style scoped>\n",
       "    .dataframe tbody tr th:only-of-type {\n",
       "        vertical-align: middle;\n",
       "    }\n",
       "\n",
       "    .dataframe tbody tr th {\n",
       "        vertical-align: top;\n",
       "    }\n",
       "\n",
       "    .dataframe thead th {\n",
       "        text-align: right;\n",
       "    }\n",
       "</style>\n",
       "<table border=\"1\" class=\"dataframe\">\n",
       "  <thead>\n",
       "    <tr style=\"text-align: right;\">\n",
       "      <th></th>\n",
       "      <th>title</th>\n",
       "      <th>text</th>\n",
       "      <th>date</th>\n",
       "      <th>category</th>\n",
       "      <th>subcategory</th>\n",
       "      <th>link</th>\n",
       "      <th>title_n_words</th>\n",
       "      <th>title_n_chars</th>\n",
       "    </tr>\n",
       "  </thead>\n",
       "  <tbody>\n",
       "    <tr>\n",
       "      <th>381</th>\n",
       "      <td>Latam inaugura voo direto de 15 horas entre Ch...</td>\n",
       "      <td>Animem-se os que pretendem cruzar o Pacífico e...</td>\n",
       "      <td>2017-06-10</td>\n",
       "      <td>turismo</td>\n",
       "      <td>NaN</td>\n",
       "      <td>http://www1.folha.uol.com.br/turismo/2017/10/1...</td>\n",
       "      <td>11</td>\n",
       "      <td>51</td>\n",
       "    </tr>\n",
       "    <tr>\n",
       "      <th>414</th>\n",
       "      <td>Turismo de Las Vegas deve se recuperar em mese...</td>\n",
       "      <td>O massacre em Las Vegas afetará o turismo da c...</td>\n",
       "      <td>2017-06-10</td>\n",
       "      <td>turismo</td>\n",
       "      <td>NaN</td>\n",
       "      <td>http://www1.folha.uol.com.br/turismo/2017/10/1...</td>\n",
       "      <td>11</td>\n",
       "      <td>54</td>\n",
       "    </tr>\n",
       "    <tr>\n",
       "      <th>522</th>\n",
       "      <td>Brasileiro cria app para economizar no passeio...</td>\n",
       "      <td>Com cerca de 50 mil visitantes por dia, Veneza...</td>\n",
       "      <td>2017-05-10</td>\n",
       "      <td>turismo</td>\n",
       "      <td>NaN</td>\n",
       "      <td>http://www1.folha.uol.com.br/turismo/2017/10/1...</td>\n",
       "      <td>11</td>\n",
       "      <td>58</td>\n",
       "    </tr>\n",
       "    <tr>\n",
       "      <th>602</th>\n",
       "      <td>AirBnB passa a fazer reserva de restaurantes</td>\n",
       "      <td>A plataforma de hospedagem Airbnb anunciou que...</td>\n",
       "      <td>2017-05-10</td>\n",
       "      <td>turismo</td>\n",
       "      <td>NaN</td>\n",
       "      <td>http://www1.folha.uol.com.br/turismo/2017/10/1...</td>\n",
       "      <td>7</td>\n",
       "      <td>38</td>\n",
       "    </tr>\n",
       "    <tr>\n",
       "      <th>609</th>\n",
       "      <td>Museus lembram quatro décadas de opressão sovi...</td>\n",
       "      <td>Nos países que viveram sob a órbita da União S...</td>\n",
       "      <td>2017-05-10</td>\n",
       "      <td>turismo</td>\n",
       "      <td>NaN</td>\n",
       "      <td>http://www1.folha.uol.com.br/turismo/2017/10/1...</td>\n",
       "      <td>10</td>\n",
       "      <td>62</td>\n",
       "    </tr>\n",
       "  </tbody>\n",
       "</table>\n",
       "</div>"
      ],
      "text/plain": [
       "                                                 title  \\\n",
       "381  Latam inaugura voo direto de 15 horas entre Ch...   \n",
       "414  Turismo de Las Vegas deve se recuperar em mese...   \n",
       "522  Brasileiro cria app para economizar no passeio...   \n",
       "602       AirBnB passa a fazer reserva de restaurantes   \n",
       "609  Museus lembram quatro décadas de opressão sovi...   \n",
       "\n",
       "                                                  text        date category  \\\n",
       "381  Animem-se os que pretendem cruzar o Pacífico e...  2017-06-10  turismo   \n",
       "414  O massacre em Las Vegas afetará o turismo da c...  2017-06-10  turismo   \n",
       "522  Com cerca de 50 mil visitantes por dia, Veneza...  2017-05-10  turismo   \n",
       "602  A plataforma de hospedagem Airbnb anunciou que...  2017-05-10  turismo   \n",
       "609  Nos países que viveram sob a órbita da União S...  2017-05-10  turismo   \n",
       "\n",
       "    subcategory                                               link  \\\n",
       "381         NaN  http://www1.folha.uol.com.br/turismo/2017/10/1...   \n",
       "414         NaN  http://www1.folha.uol.com.br/turismo/2017/10/1...   \n",
       "522         NaN  http://www1.folha.uol.com.br/turismo/2017/10/1...   \n",
       "602         NaN  http://www1.folha.uol.com.br/turismo/2017/10/1...   \n",
       "609         NaN  http://www1.folha.uol.com.br/turismo/2017/10/1...   \n",
       "\n",
       "     title_n_words  title_n_chars  \n",
       "381             11             51  \n",
       "414             11             54  \n",
       "522             11             58  \n",
       "602              7             38  \n",
       "609             10             62  "
      ]
     },
     "execution_count": 53,
     "metadata": {},
     "output_type": "execute_result"
    }
   ],
   "source": [
    "turismo.head()"
   ]
  },
  {
   "cell_type": "code",
   "execution_count": 54,
   "metadata": {
    "id": "iZxO10KI1Dzo"
   },
   "outputs": [
    {
     "data": {
      "image/png": "[encoded data removed]",
      "text/plain": [
       "<Figure size 432x288 with 1 Axes>"
      ]
     },
     "metadata": {
      "needs_background": "light"
     },
     "output_type": "display_data"
    }
   ],
   "source": [
    "turismo.title_n_words.hist();\n",
    "plt.xlabel('número de palavras')\n",
    "plt.ylabel('qtd.')\n",
    "plt.grid(b=None)\n",
    "plt.show()"
   ]
  },
  {
   "cell_type": "code",
   "execution_count": 55,
   "metadata": {
    "id": "a1HEDHCn1FaS"
   },
   "outputs": [
    {
     "data": {
      "text/plain": [
       "count    1903.000000\n",
       "mean       10.923805\n",
       "std         1.812440\n",
       "min         4.000000\n",
       "25%        10.000000\n",
       "50%        11.000000\n",
       "75%        12.000000\n",
       "max        20.000000\n",
       "Name: title_n_words, dtype: float64"
      ]
     },
     "execution_count": 55,
     "metadata": {},
     "output_type": "execute_result"
    }
   ],
   "source": [
    "turismo.title_n_words.describe()\n"
   ]
  },
  {
   "cell_type": "code",
   "execution_count": 56,
   "metadata": {
    "id": "R6Dn7nfx1G7H"
   },
   "outputs": [
    {
     "data": {
      "image/png": "[encoded data removed]",
      "text/plain": [
       "<Figure size 432x288 with 1 Axes>"
      ]
     },
     "metadata": {
      "needs_background": "light"
     },
     "output_type": "display_data"
    }
   ],
   "source": [
    "turismo.title_n_chars.hist();\n",
    "plt.xlabel('número de caracteres')\n",
    "plt.ylabel('qtd.')\n",
    "plt.grid(b=None)\n",
    "plt.show()"
   ]
  },
  {
   "cell_type": "code",
   "execution_count": 57,
   "metadata": {
    "id": "aM5Io6r-1Ieu"
   },
   "outputs": [
    {
     "data": {
      "text/plain": [
       "count    1903.000000\n",
       "mean       55.666842\n",
       "std         6.309523\n",
       "min        25.000000\n",
       "25%        52.000000\n",
       "50%        57.000000\n",
       "75%        60.000000\n",
       "max        87.000000\n",
       "Name: title_n_chars, dtype: float64"
      ]
     },
     "execution_count": 57,
     "metadata": {},
     "output_type": "execute_result"
    }
   ],
   "source": [
    "turismo.title_n_chars.describe()"
   ]
  },
  {
   "cell_type": "markdown",
   "metadata": {
    "id": "2MR1j4v51LLX"
   },
   "source": [
    "3. Limpando os dados, extraindo os tokens "
   ]
  },
  {
   "cell_type": "code",
   "execution_count": 58,
   "metadata": {
    "id": "FP-Aip241KSe"
   },
   "outputs": [
    {
     "data": {
      "text/plain": [
       "{'a',\n",
       " 'acerca',\n",
       " 'ademais',\n",
       " 'adeus',\n",
       " 'agora',\n",
       " 'ainda',\n",
       " 'algo',\n",
       " 'algumas',\n",
       " 'alguns',\n",
       " 'ali',\n",
       " 'além',\n",
       " 'ambas',\n",
       " 'ambos',\n",
       " 'antes',\n",
       " 'ao',\n",
       " 'aos',\n",
       " 'apenas',\n",
       " 'apoia',\n",
       " 'apoio',\n",
       " 'apontar',\n",
       " 'após',\n",
       " 'aquela',\n",
       " 'aquelas',\n",
       " 'aquele',\n",
       " 'aqueles',\n",
       " 'aqui',\n",
       " 'aquilo',\n",
       " 'as',\n",
       " 'assim',\n",
       " 'através',\n",
       " 'atrás',\n",
       " 'até',\n",
       " 'aí',\n",
       " 'baixo',\n",
       " 'bastante',\n",
       " 'bem',\n",
       " 'boa',\n",
       " 'bom',\n",
       " 'breve',\n",
       " 'cada',\n",
       " 'caminho',\n",
       " 'catorze',\n",
       " 'cedo',\n",
       " 'cento',\n",
       " 'certamente',\n",
       " 'certeza',\n",
       " 'cima',\n",
       " 'cinco',\n",
       " 'coisa',\n",
       " 'com',\n",
       " 'como',\n",
       " 'comprida',\n",
       " 'comprido',\n",
       " 'conhecida',\n",
       " 'conhecido',\n",
       " 'conselho',\n",
       " 'contra',\n",
       " 'contudo',\n",
       " 'corrente',\n",
       " 'cuja',\n",
       " 'cujo',\n",
       " 'custa',\n",
       " 'cá',\n",
       " 'da',\n",
       " 'daquela',\n",
       " 'daquele',\n",
       " 'dar',\n",
       " 'das',\n",
       " 'de',\n",
       " 'debaixo',\n",
       " 'demais',\n",
       " 'dentro',\n",
       " 'depois',\n",
       " 'des',\n",
       " 'desde',\n",
       " 'dessa',\n",
       " 'desse',\n",
       " 'desta',\n",
       " 'deste',\n",
       " 'deve',\n",
       " 'devem',\n",
       " 'deverá',\n",
       " 'dez',\n",
       " 'dezanove',\n",
       " 'dezasseis',\n",
       " 'dezassete',\n",
       " 'dezoito',\n",
       " 'diante',\n",
       " 'direita',\n",
       " 'disso',\n",
       " 'diz',\n",
       " 'dizem',\n",
       " 'dizer',\n",
       " 'do',\n",
       " 'dois',\n",
       " 'dos',\n",
       " 'doze',\n",
       " 'duas',\n",
       " 'dá',\n",
       " 'dão',\n",
       " 'e',\n",
       " 'ela',\n",
       " 'elas',\n",
       " 'ele',\n",
       " 'eles',\n",
       " 'em',\n",
       " 'embora',\n",
       " 'enquanto',\n",
       " 'entre',\n",
       " 'então',\n",
       " 'era',\n",
       " 'essa',\n",
       " 'essas',\n",
       " 'esse',\n",
       " 'esses',\n",
       " 'esta',\n",
       " 'estado',\n",
       " 'estar',\n",
       " 'estará',\n",
       " 'estas',\n",
       " 'estava',\n",
       " 'este',\n",
       " 'estes',\n",
       " 'esteve',\n",
       " 'estive',\n",
       " 'estivemos',\n",
       " 'estiveram',\n",
       " 'estiveste',\n",
       " 'estivestes',\n",
       " 'estou',\n",
       " 'está',\n",
       " 'estás',\n",
       " 'estão',\n",
       " 'eu',\n",
       " 'eventual',\n",
       " 'exemplo',\n",
       " 'falta',\n",
       " 'fará',\n",
       " 'favor',\n",
       " 'faz',\n",
       " 'fazeis',\n",
       " 'fazem',\n",
       " 'fazemos',\n",
       " 'fazer',\n",
       " 'fazes',\n",
       " 'fazia',\n",
       " 'faço',\n",
       " 'fez',\n",
       " 'fim',\n",
       " 'final',\n",
       " 'foi',\n",
       " 'fomos',\n",
       " 'for',\n",
       " 'fora',\n",
       " 'foram',\n",
       " 'forma',\n",
       " 'foste',\n",
       " 'fostes',\n",
       " 'fui',\n",
       " 'geral',\n",
       " 'grande',\n",
       " 'grandes',\n",
       " 'grupo',\n",
       " 'inclusive',\n",
       " 'iniciar',\n",
       " 'inicio',\n",
       " 'ir',\n",
       " 'irá',\n",
       " 'isso',\n",
       " 'isto',\n",
       " 'já',\n",
       " 'lado',\n",
       " 'lhe',\n",
       " 'ligado',\n",
       " 'local',\n",
       " 'logo',\n",
       " 'longe',\n",
       " 'lugar',\n",
       " 'lá',\n",
       " 'maior',\n",
       " 'maioria',\n",
       " 'maiorias',\n",
       " 'mais',\n",
       " 'mal',\n",
       " 'mas',\n",
       " 'me',\n",
       " 'meio',\n",
       " 'menor',\n",
       " 'menos',\n",
       " 'meses',\n",
       " 'mesmo',\n",
       " 'meu',\n",
       " 'meus',\n",
       " 'mil',\n",
       " 'minha',\n",
       " 'minhas',\n",
       " 'momento',\n",
       " 'muito',\n",
       " 'muitos',\n",
       " 'máximo',\n",
       " 'mês',\n",
       " 'na',\n",
       " 'nada',\n",
       " 'naquela',\n",
       " 'naquele',\n",
       " 'nas',\n",
       " 'nem',\n",
       " 'nenhuma',\n",
       " 'nessa',\n",
       " 'nesse',\n",
       " 'nesta',\n",
       " 'neste',\n",
       " 'no',\n",
       " 'nos',\n",
       " 'nossa',\n",
       " 'nossas',\n",
       " 'nosso',\n",
       " 'nossos',\n",
       " 'nova',\n",
       " 'novas',\n",
       " 'nove',\n",
       " 'novo',\n",
       " 'novos',\n",
       " 'num',\n",
       " 'numa',\n",
       " 'nunca',\n",
       " 'nuns',\n",
       " 'não',\n",
       " 'nível',\n",
       " 'nós',\n",
       " 'número',\n",
       " 'números',\n",
       " 'o',\n",
       " 'obrigada',\n",
       " 'obrigado',\n",
       " 'oitava',\n",
       " 'oitavo',\n",
       " 'oito',\n",
       " 'onde',\n",
       " 'ontem',\n",
       " 'onze',\n",
       " 'ora',\n",
       " 'os',\n",
       " 'ou',\n",
       " 'outra',\n",
       " 'outras',\n",
       " 'outros',\n",
       " 'para',\n",
       " 'parece',\n",
       " 'parte',\n",
       " 'partir',\n",
       " 'pegar',\n",
       " 'pela',\n",
       " 'pelas',\n",
       " 'pelo',\n",
       " 'pelos',\n",
       " 'perto',\n",
       " 'pode',\n",
       " 'podem',\n",
       " 'poder',\n",
       " 'poderá',\n",
       " 'podia',\n",
       " 'pois',\n",
       " 'ponto',\n",
       " 'pontos',\n",
       " 'por',\n",
       " 'porquanto',\n",
       " 'porque',\n",
       " 'porquê',\n",
       " 'portanto',\n",
       " 'porém',\n",
       " 'posição',\n",
       " 'possivelmente',\n",
       " 'posso',\n",
       " 'possível',\n",
       " 'pouca',\n",
       " 'pouco',\n",
       " 'povo',\n",
       " 'primeira',\n",
       " 'primeiro',\n",
       " 'próprio',\n",
       " 'próxima',\n",
       " 'próximo',\n",
       " 'puderam',\n",
       " 'pôde',\n",
       " 'põe',\n",
       " 'põem',\n",
       " 'quais',\n",
       " 'qual',\n",
       " 'qualquer',\n",
       " 'quando',\n",
       " 'quanto',\n",
       " 'quarta',\n",
       " 'quarto',\n",
       " 'quatro',\n",
       " 'que',\n",
       " 'quem',\n",
       " 'quer',\n",
       " 'querem',\n",
       " 'quero',\n",
       " 'questão',\n",
       " 'quieta',\n",
       " 'quieto',\n",
       " 'quinta',\n",
       " 'quinto',\n",
       " 'quinze',\n",
       " 'quê',\n",
       " 'relação',\n",
       " 'sabe',\n",
       " 'saber',\n",
       " 'se',\n",
       " 'segunda',\n",
       " 'segundo',\n",
       " 'sei',\n",
       " 'seis',\n",
       " 'sem',\n",
       " 'sempre',\n",
       " 'ser',\n",
       " 'seria',\n",
       " 'sete',\n",
       " 'seu',\n",
       " 'seus',\n",
       " 'sexta',\n",
       " 'sexto',\n",
       " 'sim',\n",
       " 'sistema',\n",
       " 'sob',\n",
       " 'sobre',\n",
       " 'sois',\n",
       " 'somente',\n",
       " 'somos',\n",
       " 'sou',\n",
       " 'sua',\n",
       " 'suas',\n",
       " 'são',\n",
       " 'sétima',\n",
       " 'sétimo',\n",
       " 'só',\n",
       " 'tais',\n",
       " 'tal',\n",
       " 'talvez',\n",
       " 'também',\n",
       " 'tanta',\n",
       " 'tanto',\n",
       " 'tarde',\n",
       " 'te',\n",
       " 'tem',\n",
       " 'temos',\n",
       " 'tempo',\n",
       " 'tendes',\n",
       " 'tenho',\n",
       " 'tens',\n",
       " 'tentar',\n",
       " 'tentaram',\n",
       " 'tente',\n",
       " 'tentei',\n",
       " 'ter',\n",
       " 'terceira',\n",
       " 'terceiro',\n",
       " 'teu',\n",
       " 'teus',\n",
       " 'teve',\n",
       " 'tipo',\n",
       " 'tive',\n",
       " 'tivemos',\n",
       " 'tiveram',\n",
       " 'tiveste',\n",
       " 'tivestes',\n",
       " 'toda',\n",
       " 'todas',\n",
       " 'todo',\n",
       " 'todos',\n",
       " 'treze',\n",
       " 'três',\n",
       " 'tu',\n",
       " 'tua',\n",
       " 'tuas',\n",
       " 'tudo',\n",
       " 'tão',\n",
       " 'têm',\n",
       " 'um',\n",
       " 'uma',\n",
       " 'umas',\n",
       " 'uns',\n",
       " 'usa',\n",
       " 'usar',\n",
       " 'vai',\n",
       " 'vais',\n",
       " 'valor',\n",
       " 'veja',\n",
       " 'vem',\n",
       " 'vens',\n",
       " 'ver',\n",
       " 'vez',\n",
       " 'vezes',\n",
       " 'vinda',\n",
       " 'vindo',\n",
       " 'vinte',\n",
       " 'você',\n",
       " 'vocês',\n",
       " 'vos',\n",
       " 'vossa',\n",
       " 'vossas',\n",
       " 'vosso',\n",
       " 'vossos',\n",
       " 'vários',\n",
       " 'vão',\n",
       " 'vêm',\n",
       " 'vós',\n",
       " 'zero',\n",
       " 'à',\n",
       " 'às',\n",
       " 'área',\n",
       " 'é',\n",
       " 'és',\n",
       " 'último'}"
      ]
     },
     "execution_count": 58,
     "metadata": {},
     "output_type": "execute_result"
    }
   ],
   "source": [
    "STOP_WORDS"
   ]
  },
  {
   "cell_type": "code",
   "execution_count": 59,
   "metadata": {
    "id": "mXiKaKgq5xwP"
   },
   "outputs": [],
   "source": [
    "STOP_WORDS.add('ao')"
   ]
  },
  {
   "cell_type": "code",
   "execution_count": 60,
   "metadata": {
    "id": "-WCtTv1D1Ndf"
   },
   "outputs": [
    {
     "data": {
      "text/plain": [
       "'Latam inaugura voo direto de 15 horas entre Chile e Austrália'"
      ]
     },
     "execution_count": 60,
     "metadata": {},
     "output_type": "execute_result"
    }
   ],
   "source": [
    "# Obtendo um título na base de notícias\n",
    "rev = turismo.iloc[0]['title']\n",
    "rev"
   ]
  },
  {
   "cell_type": "code",
   "execution_count": 61,
   "metadata": {
    "id": "Kc2uQcz91PGA"
   },
   "outputs": [],
   "source": [
    "#### Limpando os dados\n",
    "\n",
    "rev = limpa_texto(rev)"
   ]
  },
  {
   "cell_type": "code",
   "execution_count": 62,
   "metadata": {
    "id": "4R1cjWva1Qp1"
   },
   "outputs": [
    {
     "data": {
      "text/plain": [
       "'latam inaugura voo direto de 15 horas entre chile e austrália'"
      ]
     },
     "execution_count": 62,
     "metadata": {},
     "output_type": "execute_result"
    }
   ],
   "source": [
    "rev"
   ]
  },
  {
   "cell_type": "markdown",
   "metadata": {
    "id": "vDMqCpJI1UJq"
   },
   "source": [
    "Observe que o texto agora está minúsculo e foram removidos caracteres não-numericos."
   ]
  },
  {
   "cell_type": "code",
   "execution_count": 63,
   "metadata": {
    "id": "tzA4LggM1R_L"
   },
   "outputs": [
    {
     "data": {
      "text/plain": [
       "\"'Viagem ao Japão é aula de cultura e tradição', diz ator Jayme Matarazzo\""
      ]
     },
     "execution_count": 63,
     "metadata": {},
     "output_type": "execute_result"
    }
   ],
   "source": [
    "### veja outro exemplo\n",
    "turismo.iloc[5]['title']"
   ]
  },
  {
   "cell_type": "code",
   "execution_count": 64,
   "metadata": {
    "id": "nk3gToIU1VfO"
   },
   "outputs": [
    {
     "data": {
      "text/plain": [
       "'viagem ao japão é aula de cultura e tradição diz ator jayme matarazzo'"
      ]
     },
     "execution_count": 64,
     "metadata": {},
     "output_type": "execute_result"
    }
   ],
   "source": [
    "limpa_texto(turismo.iloc[5]['title'])"
   ]
  },
  {
   "cell_type": "markdown",
   "metadata": {
    "id": "_6jpZRR93O1l"
   },
   "source": [
    "Verificando os tokens e o parsing"
   ]
  },
  {
   "cell_type": "code",
   "execution_count": 65,
   "metadata": {
    "id": "doFfOMkl2aW8"
   },
   "outputs": [
    {
     "name": "stdout",
     "output_type": "stream",
     "text": [
      "\n",
      "       INPUT WORD           ALPHA           PUNCT        LIKE_NUM             POS \n",
      " ==================================================================================================================================\n",
      "           latam               1               0               0            VERB\n",
      "        inaugura               1               0               0            VERB\n",
      "             voo               1               0               0            NOUN\n",
      "          direto               1               0               0             ADJ\n",
      "              de               1               0               0             ADP\n",
      "              15               0               0               1             NUM\n",
      "           horas               1               0               0            NOUN\n",
      "           entre               1               0               0             ADP\n",
      "           chile               1               0               0            VERB\n",
      "               e               1               0               0           CCONJ\n",
      "       austrália               1               0               0            VERB\n"
     ]
    }
   ],
   "source": [
    "rev = nlp_pt(rev) #### Aqui acontece toda a mágica do Spacy\n",
    "\n",
    "def exibe_tokens(texto):\n",
    "    col_names = ['ALPHA', 'PUNCT', 'LIKE_NUM', 'POS']\n",
    "    formatted_text = '{:>16}' * (len(col_names) + 1)\n",
    "    print('\\n', formatted_text.format('INPUT WORD', *col_names), '\\n','='*130)\n",
    "\n",
    "    for token in texto:\n",
    "        output = [token.text, token.is_alpha, token.is_punct, token.like_num, token.pos_]\n",
    "        print(formatted_text.format(*output))\n",
    "\n",
    "\n",
    "exibe_tokens(rev)"
   ]
  },
  {
   "cell_type": "code",
   "execution_count": 95,
   "metadata": {
    "id": "DNJDQR_o3R36"
   },
   "outputs": [
    {
     "data": {
      "text/html": [
       "<span class=\"tex2jax_ignore\"><svg xmlns=\"http://www.w3.org/2000/svg\" xmlns:xlink=\"http://www.w3.org/1999/xlink\" xml:lang=\"pt\" id=\"874b5d4a6ea94e2ab99eac7841753744-0\" class=\"displacy\" width=\"1975\" height=\"574.5\" direction=\"ltr\" style=\"max-width: none; height: 574.5px; color: #000000; background: #ffffff; font-family: Arial; direction: ltr\">\n",
       "<text class=\"displacy-token\" fill=\"currentColor\" text-anchor=\"middle\" y=\"484.5\">\n",
       "    <tspan class=\"displacy-word\" fill=\"currentColor\" x=\"50\">latam</tspan>\n",
       "    <tspan class=\"displacy-tag\" dy=\"2em\" fill=\"currentColor\" x=\"50\">VERB</tspan>\n",
       "</text>\n",
       "\n",
       "<text class=\"displacy-token\" fill=\"currentColor\" text-anchor=\"middle\" y=\"484.5\">\n",
       "    <tspan class=\"displacy-word\" fill=\"currentColor\" x=\"225\">inaugura</tspan>\n",
       "    <tspan class=\"displacy-tag\" dy=\"2em\" fill=\"currentColor\" x=\"225\">VERB</tspan>\n",
       "</text>\n",
       "\n",
       "<text class=\"displacy-token\" fill=\"currentColor\" text-anchor=\"middle\" y=\"484.5\">\n",
       "    <tspan class=\"displacy-word\" fill=\"currentColor\" x=\"400\">voo</tspan>\n",
       "    <tspan class=\"displacy-tag\" dy=\"2em\" fill=\"currentColor\" x=\"400\">NOUN</tspan>\n",
       "</text>\n",
       "\n",
       "<text class=\"displacy-token\" fill=\"currentColor\" text-anchor=\"middle\" y=\"484.5\">\n",
       "    <tspan class=\"displacy-word\" fill=\"currentColor\" x=\"575\">direto</tspan>\n",
       "    <tspan class=\"displacy-tag\" dy=\"2em\" fill=\"currentColor\" x=\"575\">ADJ</tspan>\n",
       "</text>\n",
       "\n",
       "<text class=\"displacy-token\" fill=\"currentColor\" text-anchor=\"middle\" y=\"484.5\">\n",
       "    <tspan class=\"displacy-word\" fill=\"currentColor\" x=\"750\">de</tspan>\n",
       "    <tspan class=\"displacy-tag\" dy=\"2em\" fill=\"currentColor\" x=\"750\">ADP</tspan>\n",
       "</text>\n",
       "\n",
       "<text class=\"displacy-token\" fill=\"currentColor\" text-anchor=\"middle\" y=\"484.5\">\n",
       "    <tspan class=\"displacy-word\" fill=\"currentColor\" x=\"925\">15</tspan>\n",
       "    <tspan class=\"displacy-tag\" dy=\"2em\" fill=\"currentColor\" x=\"925\">NUM</tspan>\n",
       "</text>\n",
       "\n",
       "<text class=\"displacy-token\" fill=\"currentColor\" text-anchor=\"middle\" y=\"484.5\">\n",
       "    <tspan class=\"displacy-word\" fill=\"currentColor\" x=\"1100\">horas</tspan>\n",
       "    <tspan class=\"displacy-tag\" dy=\"2em\" fill=\"currentColor\" x=\"1100\">NOUN</tspan>\n",
       "</text>\n",
       "\n",
       "<text class=\"displacy-token\" fill=\"currentColor\" text-anchor=\"middle\" y=\"484.5\">\n",
       "    <tspan class=\"displacy-word\" fill=\"currentColor\" x=\"1275\">entre</tspan>\n",
       "    <tspan class=\"displacy-tag\" dy=\"2em\" fill=\"currentColor\" x=\"1275\">ADP</tspan>\n",
       "</text>\n",
       "\n",
       "<text class=\"displacy-token\" fill=\"currentColor\" text-anchor=\"middle\" y=\"484.5\">\n",
       "    <tspan class=\"displacy-word\" fill=\"currentColor\" x=\"1450\">chile</tspan>\n",
       "    <tspan class=\"displacy-tag\" dy=\"2em\" fill=\"currentColor\" x=\"1450\">VERB</tspan>\n",
       "</text>\n",
       "\n",
       "<text class=\"displacy-token\" fill=\"currentColor\" text-anchor=\"middle\" y=\"484.5\">\n",
       "    <tspan class=\"displacy-word\" fill=\"currentColor\" x=\"1625\">e</tspan>\n",
       "    <tspan class=\"displacy-tag\" dy=\"2em\" fill=\"currentColor\" x=\"1625\">CCONJ</tspan>\n",
       "</text>\n",
       "\n",
       "<text class=\"displacy-token\" fill=\"currentColor\" text-anchor=\"middle\" y=\"484.5\">\n",
       "    <tspan class=\"displacy-word\" fill=\"currentColor\" x=\"1800\">austrália</tspan>\n",
       "    <tspan class=\"displacy-tag\" dy=\"2em\" fill=\"currentColor\" x=\"1800\">VERB</tspan>\n",
       "</text>\n",
       "\n",
       "<g class=\"displacy-arrow\">\n",
       "    <path class=\"displacy-arc\" id=\"arrow-874b5d4a6ea94e2ab99eac7841753744-0-0\" stroke-width=\"2px\" d=\"M70,439.5 C70,352.0 205.0,352.0 205.0,439.5\" fill=\"none\" stroke=\"currentColor\"/>\n",
       "    <text dy=\"1.25em\" style=\"font-size: 0.8em; letter-spacing: 1px\">\n",
       "        <textPath xlink:href=\"#arrow-874b5d4a6ea94e2ab99eac7841753744-0-0\" class=\"displacy-label\" startOffset=\"50%\" side=\"left\" fill=\"currentColor\" text-anchor=\"middle\">xcomp</textPath>\n",
       "    </text>\n",
       "    <path class=\"displacy-arrowhead\" d=\"M205.0,441.5 L213.0,429.5 197.0,429.5\" fill=\"currentColor\"/>\n",
       "</g>\n",
       "\n",
       "<g class=\"displacy-arrow\">\n",
       "    <path class=\"displacy-arc\" id=\"arrow-874b5d4a6ea94e2ab99eac7841753744-0-1\" stroke-width=\"2px\" d=\"M245,439.5 C245,352.0 380.0,352.0 380.0,439.5\" fill=\"none\" stroke=\"currentColor\"/>\n",
       "    <text dy=\"1.25em\" style=\"font-size: 0.8em; letter-spacing: 1px\">\n",
       "        <textPath xlink:href=\"#arrow-874b5d4a6ea94e2ab99eac7841753744-0-1\" class=\"displacy-label\" startOffset=\"50%\" side=\"left\" fill=\"currentColor\" text-anchor=\"middle\">obj</textPath>\n",
       "    </text>\n",
       "    <path class=\"displacy-arrowhead\" d=\"M380.0,441.5 L388.0,429.5 372.0,429.5\" fill=\"currentColor\"/>\n",
       "</g>\n",
       "\n",
       "<g class=\"displacy-arrow\">\n",
       "    <path class=\"displacy-arc\" id=\"arrow-874b5d4a6ea94e2ab99eac7841753744-0-2\" stroke-width=\"2px\" d=\"M420,439.5 C420,352.0 555.0,352.0 555.0,439.5\" fill=\"none\" stroke=\"currentColor\"/>\n",
       "    <text dy=\"1.25em\" style=\"font-size: 0.8em; letter-spacing: 1px\">\n",
       "        <textPath xlink:href=\"#arrow-874b5d4a6ea94e2ab99eac7841753744-0-2\" class=\"displacy-label\" startOffset=\"50%\" side=\"left\" fill=\"currentColor\" text-anchor=\"middle\">amod</textPath>\n",
       "    </text>\n",
       "    <path class=\"displacy-arrowhead\" d=\"M555.0,441.5 L563.0,429.5 547.0,429.5\" fill=\"currentColor\"/>\n",
       "</g>\n",
       "\n",
       "<g class=\"displacy-arrow\">\n",
       "    <path class=\"displacy-arc\" id=\"arrow-874b5d4a6ea94e2ab99eac7841753744-0-3\" stroke-width=\"2px\" d=\"M770,439.5 C770,264.5 1085.0,264.5 1085.0,439.5\" fill=\"none\" stroke=\"currentColor\"/>\n",
       "    <text dy=\"1.25em\" style=\"font-size: 0.8em; letter-spacing: 1px\">\n",
       "        <textPath xlink:href=\"#arrow-874b5d4a6ea94e2ab99eac7841753744-0-3\" class=\"displacy-label\" startOffset=\"50%\" side=\"left\" fill=\"currentColor\" text-anchor=\"middle\">case</textPath>\n",
       "    </text>\n",
       "    <path class=\"displacy-arrowhead\" d=\"M770,441.5 L762,429.5 778,429.5\" fill=\"currentColor\"/>\n",
       "</g>\n",
       "\n",
       "<g class=\"displacy-arrow\">\n",
       "    <path class=\"displacy-arc\" id=\"arrow-874b5d4a6ea94e2ab99eac7841753744-0-4\" stroke-width=\"2px\" d=\"M945,439.5 C945,352.0 1080.0,352.0 1080.0,439.5\" fill=\"none\" stroke=\"currentColor\"/>\n",
       "    <text dy=\"1.25em\" style=\"font-size: 0.8em; letter-spacing: 1px\">\n",
       "        <textPath xlink:href=\"#arrow-874b5d4a6ea94e2ab99eac7841753744-0-4\" class=\"displacy-label\" startOffset=\"50%\" side=\"left\" fill=\"currentColor\" text-anchor=\"middle\">nummod</textPath>\n",
       "    </text>\n",
       "    <path class=\"displacy-arrowhead\" d=\"M945,441.5 L937,429.5 953,429.5\" fill=\"currentColor\"/>\n",
       "</g>\n",
       "\n",
       "<g class=\"displacy-arrow\">\n",
       "    <path class=\"displacy-arc\" id=\"arrow-874b5d4a6ea94e2ab99eac7841753744-0-5\" stroke-width=\"2px\" d=\"M420,439.5 C420,177.0 1090.0,177.0 1090.0,439.5\" fill=\"none\" stroke=\"currentColor\"/>\n",
       "    <text dy=\"1.25em\" style=\"font-size: 0.8em; letter-spacing: 1px\">\n",
       "        <textPath xlink:href=\"#arrow-874b5d4a6ea94e2ab99eac7841753744-0-5\" class=\"displacy-label\" startOffset=\"50%\" side=\"left\" fill=\"currentColor\" text-anchor=\"middle\">nmod</textPath>\n",
       "    </text>\n",
       "    <path class=\"displacy-arrowhead\" d=\"M1090.0,441.5 L1098.0,429.5 1082.0,429.5\" fill=\"currentColor\"/>\n",
       "</g>\n",
       "\n",
       "<g class=\"displacy-arrow\">\n",
       "    <path class=\"displacy-arc\" id=\"arrow-874b5d4a6ea94e2ab99eac7841753744-0-6\" stroke-width=\"2px\" d=\"M1295,439.5 C1295,352.0 1430.0,352.0 1430.0,439.5\" fill=\"none\" stroke=\"currentColor\"/>\n",
       "    <text dy=\"1.25em\" style=\"font-size: 0.8em; letter-spacing: 1px\">\n",
       "        <textPath xlink:href=\"#arrow-874b5d4a6ea94e2ab99eac7841753744-0-6\" class=\"displacy-label\" startOffset=\"50%\" side=\"left\" fill=\"currentColor\" text-anchor=\"middle\">mark</textPath>\n",
       "    </text>\n",
       "    <path class=\"displacy-arrowhead\" d=\"M1295,441.5 L1287,429.5 1303,429.5\" fill=\"currentColor\"/>\n",
       "</g>\n",
       "\n",
       "<g class=\"displacy-arrow\">\n",
       "    <path class=\"displacy-arc\" id=\"arrow-874b5d4a6ea94e2ab99eac7841753744-0-7\" stroke-width=\"2px\" d=\"M245,439.5 C245,89.5 1445.0,89.5 1445.0,439.5\" fill=\"none\" stroke=\"currentColor\"/>\n",
       "    <text dy=\"1.25em\" style=\"font-size: 0.8em; letter-spacing: 1px\">\n",
       "        <textPath xlink:href=\"#arrow-874b5d4a6ea94e2ab99eac7841753744-0-7\" class=\"displacy-label\" startOffset=\"50%\" side=\"left\" fill=\"currentColor\" text-anchor=\"middle\">advcl</textPath>\n",
       "    </text>\n",
       "    <path class=\"displacy-arrowhead\" d=\"M1445.0,441.5 L1453.0,429.5 1437.0,429.5\" fill=\"currentColor\"/>\n",
       "</g>\n",
       "\n",
       "<g class=\"displacy-arrow\">\n",
       "    <path class=\"displacy-arc\" id=\"arrow-874b5d4a6ea94e2ab99eac7841753744-0-8\" stroke-width=\"2px\" d=\"M1645,439.5 C1645,352.0 1780.0,352.0 1780.0,439.5\" fill=\"none\" stroke=\"currentColor\"/>\n",
       "    <text dy=\"1.25em\" style=\"font-size: 0.8em; letter-spacing: 1px\">\n",
       "        <textPath xlink:href=\"#arrow-874b5d4a6ea94e2ab99eac7841753744-0-8\" class=\"displacy-label\" startOffset=\"50%\" side=\"left\" fill=\"currentColor\" text-anchor=\"middle\">cc</textPath>\n",
       "    </text>\n",
       "    <path class=\"displacy-arrowhead\" d=\"M1645,441.5 L1637,429.5 1653,429.5\" fill=\"currentColor\"/>\n",
       "</g>\n",
       "\n",
       "<g class=\"displacy-arrow\">\n",
       "    <path class=\"displacy-arc\" id=\"arrow-874b5d4a6ea94e2ab99eac7841753744-0-9\" stroke-width=\"2px\" d=\"M245,439.5 C245,2.0 1800.0,2.0 1800.0,439.5\" fill=\"none\" stroke=\"currentColor\"/>\n",
       "    <text dy=\"1.25em\" style=\"font-size: 0.8em; letter-spacing: 1px\">\n",
       "        <textPath xlink:href=\"#arrow-874b5d4a6ea94e2ab99eac7841753744-0-9\" class=\"displacy-label\" startOffset=\"50%\" side=\"left\" fill=\"currentColor\" text-anchor=\"middle\">conj</textPath>\n",
       "    </text>\n",
       "    <path class=\"displacy-arrowhead\" d=\"M1800.0,441.5 L1808.0,429.5 1792.0,429.5\" fill=\"currentColor\"/>\n",
       "</g>\n",
       "</svg></span>"
      ],
      "text/plain": [
       "<IPython.core.display.HTML object>"
      ]
     },
     "metadata": {},
     "output_type": "display_data"
    }
   ],
   "source": [
    "from spacy import displacy\n",
    "displacy.render(rev, style='dep', jupyter=True)\n"
   ]
  },
  {
   "cell_type": "code",
   "execution_count": 67,
   "metadata": {
    "id": "RUz-N7eW4JWx"
   },
   "outputs": [],
   "source": [
    "rev2 = limpa_texto(turismo.iloc[5]['title'])"
   ]
  },
  {
   "cell_type": "code",
   "execution_count": 68,
   "metadata": {
    "id": "f_GOo8nm4L_7"
   },
   "outputs": [
    {
     "name": "stdout",
     "output_type": "stream",
     "text": [
      "\n",
      "       INPUT WORD           ALPHA           PUNCT        LIKE_NUM             POS \n",
      " ==================================================================================================================================\n",
      "          viagem               1               0               0            NOUN\n",
      "              ao               1               0               0             ADP\n",
      "           japão               1               0               0            NOUN\n",
      "               é               1               0               0             AUX\n",
      "            aula               1               0               0            NOUN\n",
      "              de               1               0               0             ADP\n",
      "         cultura               1               0               0            NOUN\n",
      "               e               1               0               0           CCONJ\n",
      "        tradição               1               0               0            NOUN\n",
      "             diz               1               0               0            VERB\n",
      "            ator               1               0               0            NOUN\n",
      "           jayme               1               0               0           PROPN\n",
      "       matarazzo               1               0               0             ADJ\n"
     ]
    }
   ],
   "source": [
    "rev2 = nlp_pt(rev2)\n",
    "exibe_tokens(rev2)"
   ]
  },
  {
   "cell_type": "code",
   "execution_count": 69,
   "metadata": {
    "id": "biZ0qw9i4NMl"
   },
   "outputs": [
    {
     "data": {
      "text/html": [
       "<span class=\"tex2jax_ignore\"><svg xmlns=\"http://www.w3.org/2000/svg\" xmlns:xlink=\"http://www.w3.org/1999/xlink\" xml:lang=\"pt\" id=\"87dcc4657c994fccbd60bfecec0964fd-0\" class=\"displacy\" width=\"2325\" height=\"574.5\" direction=\"ltr\" style=\"max-width: none; height: 574.5px; color: #000000; background: #ffffff; font-family: Arial; direction: ltr\">\n",
       "<text class=\"displacy-token\" fill=\"currentColor\" text-anchor=\"middle\" y=\"484.5\">\n",
       "    <tspan class=\"displacy-word\" fill=\"currentColor\" x=\"50\">viagem</tspan>\n",
       "    <tspan class=\"displacy-tag\" dy=\"2em\" fill=\"currentColor\" x=\"50\">NOUN</tspan>\n",
       "</text>\n",
       "\n",
       "<text class=\"displacy-token\" fill=\"currentColor\" text-anchor=\"middle\" y=\"484.5\">\n",
       "    <tspan class=\"displacy-word\" fill=\"currentColor\" x=\"225\">ao</tspan>\n",
       "    <tspan class=\"displacy-tag\" dy=\"2em\" fill=\"currentColor\" x=\"225\">ADP</tspan>\n",
       "</text>\n",
       "\n",
       "<text class=\"displacy-token\" fill=\"currentColor\" text-anchor=\"middle\" y=\"484.5\">\n",
       "    <tspan class=\"displacy-word\" fill=\"currentColor\" x=\"400\">japão</tspan>\n",
       "    <tspan class=\"displacy-tag\" dy=\"2em\" fill=\"currentColor\" x=\"400\">NOUN</tspan>\n",
       "</text>\n",
       "\n",
       "<text class=\"displacy-token\" fill=\"currentColor\" text-anchor=\"middle\" y=\"484.5\">\n",
       "    <tspan class=\"displacy-word\" fill=\"currentColor\" x=\"575\">é</tspan>\n",
       "    <tspan class=\"displacy-tag\" dy=\"2em\" fill=\"currentColor\" x=\"575\">AUX</tspan>\n",
       "</text>\n",
       "\n",
       "<text class=\"displacy-token\" fill=\"currentColor\" text-anchor=\"middle\" y=\"484.5\">\n",
       "    <tspan class=\"displacy-word\" fill=\"currentColor\" x=\"750\">aula</tspan>\n",
       "    <tspan class=\"displacy-tag\" dy=\"2em\" fill=\"currentColor\" x=\"750\">NOUN</tspan>\n",
       "</text>\n",
       "\n",
       "<text class=\"displacy-token\" fill=\"currentColor\" text-anchor=\"middle\" y=\"484.5\">\n",
       "    <tspan class=\"displacy-word\" fill=\"currentColor\" x=\"925\">de</tspan>\n",
       "    <tspan class=\"displacy-tag\" dy=\"2em\" fill=\"currentColor\" x=\"925\">ADP</tspan>\n",
       "</text>\n",
       "\n",
       "<text class=\"displacy-token\" fill=\"currentColor\" text-anchor=\"middle\" y=\"484.5\">\n",
       "    <tspan class=\"displacy-word\" fill=\"currentColor\" x=\"1100\">cultura</tspan>\n",
       "    <tspan class=\"displacy-tag\" dy=\"2em\" fill=\"currentColor\" x=\"1100\">NOUN</tspan>\n",
       "</text>\n",
       "\n",
       "<text class=\"displacy-token\" fill=\"currentColor\" text-anchor=\"middle\" y=\"484.5\">\n",
       "    <tspan class=\"displacy-word\" fill=\"currentColor\" x=\"1275\">e</tspan>\n",
       "    <tspan class=\"displacy-tag\" dy=\"2em\" fill=\"currentColor\" x=\"1275\">CCONJ</tspan>\n",
       "</text>\n",
       "\n",
       "<text class=\"displacy-token\" fill=\"currentColor\" text-anchor=\"middle\" y=\"484.5\">\n",
       "    <tspan class=\"displacy-word\" fill=\"currentColor\" x=\"1450\">tradição</tspan>\n",
       "    <tspan class=\"displacy-tag\" dy=\"2em\" fill=\"currentColor\" x=\"1450\">NOUN</tspan>\n",
       "</text>\n",
       "\n",
       "<text class=\"displacy-token\" fill=\"currentColor\" text-anchor=\"middle\" y=\"484.5\">\n",
       "    <tspan class=\"displacy-word\" fill=\"currentColor\" x=\"1625\">diz</tspan>\n",
       "    <tspan class=\"displacy-tag\" dy=\"2em\" fill=\"currentColor\" x=\"1625\">VERB</tspan>\n",
       "</text>\n",
       "\n",
       "<text class=\"displacy-token\" fill=\"currentColor\" text-anchor=\"middle\" y=\"484.5\">\n",
       "    <tspan class=\"displacy-word\" fill=\"currentColor\" x=\"1800\">ator</tspan>\n",
       "    <tspan class=\"displacy-tag\" dy=\"2em\" fill=\"currentColor\" x=\"1800\">NOUN</tspan>\n",
       "</text>\n",
       "\n",
       "<text class=\"displacy-token\" fill=\"currentColor\" text-anchor=\"middle\" y=\"484.5\">\n",
       "    <tspan class=\"displacy-word\" fill=\"currentColor\" x=\"1975\">jayme</tspan>\n",
       "    <tspan class=\"displacy-tag\" dy=\"2em\" fill=\"currentColor\" x=\"1975\">PROPN</tspan>\n",
       "</text>\n",
       "\n",
       "<text class=\"displacy-token\" fill=\"currentColor\" text-anchor=\"middle\" y=\"484.5\">\n",
       "    <tspan class=\"displacy-word\" fill=\"currentColor\" x=\"2150\">matarazzo</tspan>\n",
       "    <tspan class=\"displacy-tag\" dy=\"2em\" fill=\"currentColor\" x=\"2150\">ADJ</tspan>\n",
       "</text>\n",
       "\n",
       "<g class=\"displacy-arrow\">\n",
       "    <path class=\"displacy-arc\" id=\"arrow-87dcc4657c994fccbd60bfecec0964fd-0-0\" stroke-width=\"2px\" d=\"M70,439.5 C70,89.5 745.0,89.5 745.0,439.5\" fill=\"none\" stroke=\"currentColor\"/>\n",
       "    <text dy=\"1.25em\" style=\"font-size: 0.8em; letter-spacing: 1px\">\n",
       "        <textPath xlink:href=\"#arrow-87dcc4657c994fccbd60bfecec0964fd-0-0\" class=\"displacy-label\" startOffset=\"50%\" side=\"left\" fill=\"currentColor\" text-anchor=\"middle\">nsubj</textPath>\n",
       "    </text>\n",
       "    <path class=\"displacy-arrowhead\" d=\"M70,441.5 L62,429.5 78,429.5\" fill=\"currentColor\"/>\n",
       "</g>\n",
       "\n",
       "<g class=\"displacy-arrow\">\n",
       "    <path class=\"displacy-arc\" id=\"arrow-87dcc4657c994fccbd60bfecec0964fd-0-1\" stroke-width=\"2px\" d=\"M245,439.5 C245,352.0 380.0,352.0 380.0,439.5\" fill=\"none\" stroke=\"currentColor\"/>\n",
       "    <text dy=\"1.25em\" style=\"font-size: 0.8em; letter-spacing: 1px\">\n",
       "        <textPath xlink:href=\"#arrow-87dcc4657c994fccbd60bfecec0964fd-0-1\" class=\"displacy-label\" startOffset=\"50%\" side=\"left\" fill=\"currentColor\" text-anchor=\"middle\">case</textPath>\n",
       "    </text>\n",
       "    <path class=\"displacy-arrowhead\" d=\"M245,441.5 L237,429.5 253,429.5\" fill=\"currentColor\"/>\n",
       "</g>\n",
       "\n",
       "<g class=\"displacy-arrow\">\n",
       "    <path class=\"displacy-arc\" id=\"arrow-87dcc4657c994fccbd60bfecec0964fd-0-2\" stroke-width=\"2px\" d=\"M70,439.5 C70,264.5 385.0,264.5 385.0,439.5\" fill=\"none\" stroke=\"currentColor\"/>\n",
       "    <text dy=\"1.25em\" style=\"font-size: 0.8em; letter-spacing: 1px\">\n",
       "        <textPath xlink:href=\"#arrow-87dcc4657c994fccbd60bfecec0964fd-0-2\" class=\"displacy-label\" startOffset=\"50%\" side=\"left\" fill=\"currentColor\" text-anchor=\"middle\">nmod</textPath>\n",
       "    </text>\n",
       "    <path class=\"displacy-arrowhead\" d=\"M385.0,441.5 L393.0,429.5 377.0,429.5\" fill=\"currentColor\"/>\n",
       "</g>\n",
       "\n",
       "<g class=\"displacy-arrow\">\n",
       "    <path class=\"displacy-arc\" id=\"arrow-87dcc4657c994fccbd60bfecec0964fd-0-3\" stroke-width=\"2px\" d=\"M595,439.5 C595,352.0 730.0,352.0 730.0,439.5\" fill=\"none\" stroke=\"currentColor\"/>\n",
       "    <text dy=\"1.25em\" style=\"font-size: 0.8em; letter-spacing: 1px\">\n",
       "        <textPath xlink:href=\"#arrow-87dcc4657c994fccbd60bfecec0964fd-0-3\" class=\"displacy-label\" startOffset=\"50%\" side=\"left\" fill=\"currentColor\" text-anchor=\"middle\">cop</textPath>\n",
       "    </text>\n",
       "    <path class=\"displacy-arrowhead\" d=\"M595,441.5 L587,429.5 603,429.5\" fill=\"currentColor\"/>\n",
       "</g>\n",
       "\n",
       "<g class=\"displacy-arrow\">\n",
       "    <path class=\"displacy-arc\" id=\"arrow-87dcc4657c994fccbd60bfecec0964fd-0-4\" stroke-width=\"2px\" d=\"M770,439.5 C770,2.0 1625.0,2.0 1625.0,439.5\" fill=\"none\" stroke=\"currentColor\"/>\n",
       "    <text dy=\"1.25em\" style=\"font-size: 0.8em; letter-spacing: 1px\">\n",
       "        <textPath xlink:href=\"#arrow-87dcc4657c994fccbd60bfecec0964fd-0-4\" class=\"displacy-label\" startOffset=\"50%\" side=\"left\" fill=\"currentColor\" text-anchor=\"middle\">ccomp</textPath>\n",
       "    </text>\n",
       "    <path class=\"displacy-arrowhead\" d=\"M770,441.5 L762,429.5 778,429.5\" fill=\"currentColor\"/>\n",
       "</g>\n",
       "\n",
       "<g class=\"displacy-arrow\">\n",
       "    <path class=\"displacy-arc\" id=\"arrow-87dcc4657c994fccbd60bfecec0964fd-0-5\" stroke-width=\"2px\" d=\"M945,439.5 C945,352.0 1080.0,352.0 1080.0,439.5\" fill=\"none\" stroke=\"currentColor\"/>\n",
       "    <text dy=\"1.25em\" style=\"font-size: 0.8em; letter-spacing: 1px\">\n",
       "        <textPath xlink:href=\"#arrow-87dcc4657c994fccbd60bfecec0964fd-0-5\" class=\"displacy-label\" startOffset=\"50%\" side=\"left\" fill=\"currentColor\" text-anchor=\"middle\">case</textPath>\n",
       "    </text>\n",
       "    <path class=\"displacy-arrowhead\" d=\"M945,441.5 L937,429.5 953,429.5\" fill=\"currentColor\"/>\n",
       "</g>\n",
       "\n",
       "<g class=\"displacy-arrow\">\n",
       "    <path class=\"displacy-arc\" id=\"arrow-87dcc4657c994fccbd60bfecec0964fd-0-6\" stroke-width=\"2px\" d=\"M770,439.5 C770,264.5 1085.0,264.5 1085.0,439.5\" fill=\"none\" stroke=\"currentColor\"/>\n",
       "    <text dy=\"1.25em\" style=\"font-size: 0.8em; letter-spacing: 1px\">\n",
       "        <textPath xlink:href=\"#arrow-87dcc4657c994fccbd60bfecec0964fd-0-6\" class=\"displacy-label\" startOffset=\"50%\" side=\"left\" fill=\"currentColor\" text-anchor=\"middle\">obj</textPath>\n",
       "    </text>\n",
       "    <path class=\"displacy-arrowhead\" d=\"M1085.0,441.5 L1093.0,429.5 1077.0,429.5\" fill=\"currentColor\"/>\n",
       "</g>\n",
       "\n",
       "<g class=\"displacy-arrow\">\n",
       "    <path class=\"displacy-arc\" id=\"arrow-87dcc4657c994fccbd60bfecec0964fd-0-7\" stroke-width=\"2px\" d=\"M1295,439.5 C1295,352.0 1430.0,352.0 1430.0,439.5\" fill=\"none\" stroke=\"currentColor\"/>\n",
       "    <text dy=\"1.25em\" style=\"font-size: 0.8em; letter-spacing: 1px\">\n",
       "        <textPath xlink:href=\"#arrow-87dcc4657c994fccbd60bfecec0964fd-0-7\" class=\"displacy-label\" startOffset=\"50%\" side=\"left\" fill=\"currentColor\" text-anchor=\"middle\">cc</textPath>\n",
       "    </text>\n",
       "    <path class=\"displacy-arrowhead\" d=\"M1295,441.5 L1287,429.5 1303,429.5\" fill=\"currentColor\"/>\n",
       "</g>\n",
       "\n",
       "<g class=\"displacy-arrow\">\n",
       "    <path class=\"displacy-arc\" id=\"arrow-87dcc4657c994fccbd60bfecec0964fd-0-8\" stroke-width=\"2px\" d=\"M1120,439.5 C1120,264.5 1435.0,264.5 1435.0,439.5\" fill=\"none\" stroke=\"currentColor\"/>\n",
       "    <text dy=\"1.25em\" style=\"font-size: 0.8em; letter-spacing: 1px\">\n",
       "        <textPath xlink:href=\"#arrow-87dcc4657c994fccbd60bfecec0964fd-0-8\" class=\"displacy-label\" startOffset=\"50%\" side=\"left\" fill=\"currentColor\" text-anchor=\"middle\">conj</textPath>\n",
       "    </text>\n",
       "    <path class=\"displacy-arrowhead\" d=\"M1435.0,441.5 L1443.0,429.5 1427.0,429.5\" fill=\"currentColor\"/>\n",
       "</g>\n",
       "\n",
       "<g class=\"displacy-arrow\">\n",
       "    <path class=\"displacy-arc\" id=\"arrow-87dcc4657c994fccbd60bfecec0964fd-0-9\" stroke-width=\"2px\" d=\"M1645,439.5 C1645,352.0 1780.0,352.0 1780.0,439.5\" fill=\"none\" stroke=\"currentColor\"/>\n",
       "    <text dy=\"1.25em\" style=\"font-size: 0.8em; letter-spacing: 1px\">\n",
       "        <textPath xlink:href=\"#arrow-87dcc4657c994fccbd60bfecec0964fd-0-9\" class=\"displacy-label\" startOffset=\"50%\" side=\"left\" fill=\"currentColor\" text-anchor=\"middle\">obj</textPath>\n",
       "    </text>\n",
       "    <path class=\"displacy-arrowhead\" d=\"M1780.0,441.5 L1788.0,429.5 1772.0,429.5\" fill=\"currentColor\"/>\n",
       "</g>\n",
       "\n",
       "<g class=\"displacy-arrow\">\n",
       "    <path class=\"displacy-arc\" id=\"arrow-87dcc4657c994fccbd60bfecec0964fd-0-10\" stroke-width=\"2px\" d=\"M1820,439.5 C1820,352.0 1955.0,352.0 1955.0,439.5\" fill=\"none\" stroke=\"currentColor\"/>\n",
       "    <text dy=\"1.25em\" style=\"font-size: 0.8em; letter-spacing: 1px\">\n",
       "        <textPath xlink:href=\"#arrow-87dcc4657c994fccbd60bfecec0964fd-0-10\" class=\"displacy-label\" startOffset=\"50%\" side=\"left\" fill=\"currentColor\" text-anchor=\"middle\">amod</textPath>\n",
       "    </text>\n",
       "    <path class=\"displacy-arrowhead\" d=\"M1955.0,441.5 L1963.0,429.5 1947.0,429.5\" fill=\"currentColor\"/>\n",
       "</g>\n",
       "\n",
       "<g class=\"displacy-arrow\">\n",
       "    <path class=\"displacy-arc\" id=\"arrow-87dcc4657c994fccbd60bfecec0964fd-0-11\" stroke-width=\"2px\" d=\"M1645,439.5 C1645,177.0 2140.0,177.0 2140.0,439.5\" fill=\"none\" stroke=\"currentColor\"/>\n",
       "    <text dy=\"1.25em\" style=\"font-size: 0.8em; letter-spacing: 1px\">\n",
       "        <textPath xlink:href=\"#arrow-87dcc4657c994fccbd60bfecec0964fd-0-11\" class=\"displacy-label\" startOffset=\"50%\" side=\"left\" fill=\"currentColor\" text-anchor=\"middle\">conj</textPath>\n",
       "    </text>\n",
       "    <path class=\"displacy-arrowhead\" d=\"M2140.0,441.5 L2148.0,429.5 2132.0,429.5\" fill=\"currentColor\"/>\n",
       "</g>\n",
       "</svg></span>"
      ],
      "text/plain": [
       "<IPython.core.display.HTML object>"
      ]
     },
     "metadata": {},
     "output_type": "display_data"
    }
   ],
   "source": [
    "displacy.render(rev2, style=\"dep\", jupyter=True)"
   ]
  },
  {
   "cell_type": "code",
   "execution_count": null,
   "metadata": {
    "id": "JfkPT7Eu4O9j"
   },
   "outputs": [],
   "source": []
  },
  {
   "cell_type": "markdown",
   "metadata": {
    "id": "MutTuKAw4yct"
   },
   "source": [
    "Vamos remover as stopwords"
   ]
  },
  {
   "cell_type": "code",
   "execution_count": 70,
   "metadata": {
    "id": "0CjUIRBP4zxJ"
   },
   "outputs": [],
   "source": [
    "turismo['title_clean'] = turismo['title'].apply(lambda x: limpa_texto(x))"
   ]
  },
  {
   "cell_type": "code",
   "execution_count": 71,
   "metadata": {
    "id": "MkasBmrW40_U"
   },
   "outputs": [
    {
     "data": {
      "text/html": [
       "<div>\n",
       "<style scoped>\n",
       "    .dataframe tbody tr th:only-of-type {\n",
       "        vertical-align: middle;\n",
       "    }\n",
       "\n",
       "    .dataframe tbody tr th {\n",
       "        vertical-align: top;\n",
       "    }\n",
       "\n",
       "    .dataframe thead th {\n",
       "        text-align: right;\n",
       "    }\n",
       "</style>\n",
       "<table border=\"1\" class=\"dataframe\">\n",
       "  <thead>\n",
       "    <tr style=\"text-align: right;\">\n",
       "      <th></th>\n",
       "      <th>title</th>\n",
       "      <th>text</th>\n",
       "      <th>date</th>\n",
       "      <th>category</th>\n",
       "      <th>subcategory</th>\n",
       "      <th>link</th>\n",
       "      <th>title_n_words</th>\n",
       "      <th>title_n_chars</th>\n",
       "      <th>title_clean</th>\n",
       "    </tr>\n",
       "  </thead>\n",
       "  <tbody>\n",
       "    <tr>\n",
       "      <th>381</th>\n",
       "      <td>Latam inaugura voo direto de 15 horas entre Ch...</td>\n",
       "      <td>Animem-se os que pretendem cruzar o Pacífico e...</td>\n",
       "      <td>2017-06-10</td>\n",
       "      <td>turismo</td>\n",
       "      <td>NaN</td>\n",
       "      <td>http://www1.folha.uol.com.br/turismo/2017/10/1...</td>\n",
       "      <td>11</td>\n",
       "      <td>51</td>\n",
       "      <td>latam inaugura voo direto de 15 horas entre ch...</td>\n",
       "    </tr>\n",
       "    <tr>\n",
       "      <th>414</th>\n",
       "      <td>Turismo de Las Vegas deve se recuperar em mese...</td>\n",
       "      <td>O massacre em Las Vegas afetará o turismo da c...</td>\n",
       "      <td>2017-06-10</td>\n",
       "      <td>turismo</td>\n",
       "      <td>NaN</td>\n",
       "      <td>http://www1.folha.uol.com.br/turismo/2017/10/1...</td>\n",
       "      <td>11</td>\n",
       "      <td>54</td>\n",
       "      <td>turismo de las vegas deve se recuperar em mese...</td>\n",
       "    </tr>\n",
       "    <tr>\n",
       "      <th>522</th>\n",
       "      <td>Brasileiro cria app para economizar no passeio...</td>\n",
       "      <td>Com cerca de 50 mil visitantes por dia, Veneza...</td>\n",
       "      <td>2017-05-10</td>\n",
       "      <td>turismo</td>\n",
       "      <td>NaN</td>\n",
       "      <td>http://www1.folha.uol.com.br/turismo/2017/10/1...</td>\n",
       "      <td>11</td>\n",
       "      <td>58</td>\n",
       "      <td>brasileiro cria app para economizar no passeio...</td>\n",
       "    </tr>\n",
       "    <tr>\n",
       "      <th>602</th>\n",
       "      <td>AirBnB passa a fazer reserva de restaurantes</td>\n",
       "      <td>A plataforma de hospedagem Airbnb anunciou que...</td>\n",
       "      <td>2017-05-10</td>\n",
       "      <td>turismo</td>\n",
       "      <td>NaN</td>\n",
       "      <td>http://www1.folha.uol.com.br/turismo/2017/10/1...</td>\n",
       "      <td>7</td>\n",
       "      <td>38</td>\n",
       "      <td>airbnb passa a fazer reserva de restaurantes</td>\n",
       "    </tr>\n",
       "    <tr>\n",
       "      <th>609</th>\n",
       "      <td>Museus lembram quatro décadas de opressão sovi...</td>\n",
       "      <td>Nos países que viveram sob a órbita da União S...</td>\n",
       "      <td>2017-05-10</td>\n",
       "      <td>turismo</td>\n",
       "      <td>NaN</td>\n",
       "      <td>http://www1.folha.uol.com.br/turismo/2017/10/1...</td>\n",
       "      <td>10</td>\n",
       "      <td>62</td>\n",
       "      <td>museus lembram quatro décadas de opressão sovi...</td>\n",
       "    </tr>\n",
       "  </tbody>\n",
       "</table>\n",
       "</div>"
      ],
      "text/plain": [
       "                                                 title  \\\n",
       "381  Latam inaugura voo direto de 15 horas entre Ch...   \n",
       "414  Turismo de Las Vegas deve se recuperar em mese...   \n",
       "522  Brasileiro cria app para economizar no passeio...   \n",
       "602       AirBnB passa a fazer reserva de restaurantes   \n",
       "609  Museus lembram quatro décadas de opressão sovi...   \n",
       "\n",
       "                                                  text        date category  \\\n",
       "381  Animem-se os que pretendem cruzar o Pacífico e...  2017-06-10  turismo   \n",
       "414  O massacre em Las Vegas afetará o turismo da c...  2017-06-10  turismo   \n",
       "522  Com cerca de 50 mil visitantes por dia, Veneza...  2017-05-10  turismo   \n",
       "602  A plataforma de hospedagem Airbnb anunciou que...  2017-05-10  turismo   \n",
       "609  Nos países que viveram sob a órbita da União S...  2017-05-10  turismo   \n",
       "\n",
       "    subcategory                                               link  \\\n",
       "381         NaN  http://www1.folha.uol.com.br/turismo/2017/10/1...   \n",
       "414         NaN  http://www1.folha.uol.com.br/turismo/2017/10/1...   \n",
       "522         NaN  http://www1.folha.uol.com.br/turismo/2017/10/1...   \n",
       "602         NaN  http://www1.folha.uol.com.br/turismo/2017/10/1...   \n",
       "609         NaN  http://www1.folha.uol.com.br/turismo/2017/10/1...   \n",
       "\n",
       "     title_n_words  title_n_chars  \\\n",
       "381             11             51   \n",
       "414             11             54   \n",
       "522             11             58   \n",
       "602              7             38   \n",
       "609             10             62   \n",
       "\n",
       "                                           title_clean  \n",
       "381  latam inaugura voo direto de 15 horas entre ch...  \n",
       "414  turismo de las vegas deve se recuperar em mese...  \n",
       "522  brasileiro cria app para economizar no passeio...  \n",
       "602       airbnb passa a fazer reserva de restaurantes  \n",
       "609  museus lembram quatro décadas de opressão sovi...  "
      ]
     },
     "execution_count": 71,
     "metadata": {},
     "output_type": "execute_result"
    }
   ],
   "source": [
    "turismo.head()"
   ]
  },
  {
   "cell_type": "code",
   "execution_count": 72,
   "metadata": {
    "id": "h2zfydeq42Lg"
   },
   "outputs": [],
   "source": [
    "turismo['title_clean_no_stop'] = turismo['title_clean'].apply(lambda x : remove_stop(x))"
   ]
  },
  {
   "cell_type": "code",
   "execution_count": 73,
   "metadata": {
    "id": "rrRc54fL43cI"
   },
   "outputs": [
    {
     "data": {
      "text/html": [
       "<div>\n",
       "<style scoped>\n",
       "    .dataframe tbody tr th:only-of-type {\n",
       "        vertical-align: middle;\n",
       "    }\n",
       "\n",
       "    .dataframe tbody tr th {\n",
       "        vertical-align: top;\n",
       "    }\n",
       "\n",
       "    .dataframe thead th {\n",
       "        text-align: right;\n",
       "    }\n",
       "</style>\n",
       "<table border=\"1\" class=\"dataframe\">\n",
       "  <thead>\n",
       "    <tr style=\"text-align: right;\">\n",
       "      <th></th>\n",
       "      <th>title</th>\n",
       "      <th>text</th>\n",
       "      <th>date</th>\n",
       "      <th>category</th>\n",
       "      <th>subcategory</th>\n",
       "      <th>link</th>\n",
       "      <th>title_n_words</th>\n",
       "      <th>title_n_chars</th>\n",
       "      <th>title_clean</th>\n",
       "      <th>title_clean_no_stop</th>\n",
       "    </tr>\n",
       "  </thead>\n",
       "  <tbody>\n",
       "    <tr>\n",
       "      <th>381</th>\n",
       "      <td>Latam inaugura voo direto de 15 horas entre Ch...</td>\n",
       "      <td>Animem-se os que pretendem cruzar o Pacífico e...</td>\n",
       "      <td>2017-06-10</td>\n",
       "      <td>turismo</td>\n",
       "      <td>NaN</td>\n",
       "      <td>http://www1.folha.uol.com.br/turismo/2017/10/1...</td>\n",
       "      <td>11</td>\n",
       "      <td>51</td>\n",
       "      <td>latam inaugura voo direto de 15 horas entre ch...</td>\n",
       "      <td>latam inaugura voo direto 15 horas chile austr...</td>\n",
       "    </tr>\n",
       "    <tr>\n",
       "      <th>414</th>\n",
       "      <td>Turismo de Las Vegas deve se recuperar em mese...</td>\n",
       "      <td>O massacre em Las Vegas afetará o turismo da c...</td>\n",
       "      <td>2017-06-10</td>\n",
       "      <td>turismo</td>\n",
       "      <td>NaN</td>\n",
       "      <td>http://www1.folha.uol.com.br/turismo/2017/10/1...</td>\n",
       "      <td>11</td>\n",
       "      <td>54</td>\n",
       "      <td>turismo de las vegas deve se recuperar em mese...</td>\n",
       "      <td>turismo las vegas recuperar analistas</td>\n",
       "    </tr>\n",
       "    <tr>\n",
       "      <th>522</th>\n",
       "      <td>Brasileiro cria app para economizar no passeio...</td>\n",
       "      <td>Com cerca de 50 mil visitantes por dia, Veneza...</td>\n",
       "      <td>2017-05-10</td>\n",
       "      <td>turismo</td>\n",
       "      <td>NaN</td>\n",
       "      <td>http://www1.folha.uol.com.br/turismo/2017/10/1...</td>\n",
       "      <td>11</td>\n",
       "      <td>58</td>\n",
       "      <td>brasileiro cria app para economizar no passeio...</td>\n",
       "      <td>brasileiro cria app economizar passeio gôndola...</td>\n",
       "    </tr>\n",
       "    <tr>\n",
       "      <th>602</th>\n",
       "      <td>AirBnB passa a fazer reserva de restaurantes</td>\n",
       "      <td>A plataforma de hospedagem Airbnb anunciou que...</td>\n",
       "      <td>2017-05-10</td>\n",
       "      <td>turismo</td>\n",
       "      <td>NaN</td>\n",
       "      <td>http://www1.folha.uol.com.br/turismo/2017/10/1...</td>\n",
       "      <td>7</td>\n",
       "      <td>38</td>\n",
       "      <td>airbnb passa a fazer reserva de restaurantes</td>\n",
       "      <td>airbnb passa reserva restaurantes</td>\n",
       "    </tr>\n",
       "    <tr>\n",
       "      <th>609</th>\n",
       "      <td>Museus lembram quatro décadas de opressão sovi...</td>\n",
       "      <td>Nos países que viveram sob a órbita da União S...</td>\n",
       "      <td>2017-05-10</td>\n",
       "      <td>turismo</td>\n",
       "      <td>NaN</td>\n",
       "      <td>http://www1.folha.uol.com.br/turismo/2017/10/1...</td>\n",
       "      <td>10</td>\n",
       "      <td>62</td>\n",
       "      <td>museus lembram quatro décadas de opressão sovi...</td>\n",
       "      <td>museus lembram décadas opressão soviética países</td>\n",
       "    </tr>\n",
       "  </tbody>\n",
       "</table>\n",
       "</div>"
      ],
      "text/plain": [
       "                                                 title  \\\n",
       "381  Latam inaugura voo direto de 15 horas entre Ch...   \n",
       "414  Turismo de Las Vegas deve se recuperar em mese...   \n",
       "522  Brasileiro cria app para economizar no passeio...   \n",
       "602       AirBnB passa a fazer reserva de restaurantes   \n",
       "609  Museus lembram quatro décadas de opressão sovi...   \n",
       "\n",
       "                                                  text        date category  \\\n",
       "381  Animem-se os que pretendem cruzar o Pacífico e...  2017-06-10  turismo   \n",
       "414  O massacre em Las Vegas afetará o turismo da c...  2017-06-10  turismo   \n",
       "522  Com cerca de 50 mil visitantes por dia, Veneza...  2017-05-10  turismo   \n",
       "602  A plataforma de hospedagem Airbnb anunciou que...  2017-05-10  turismo   \n",
       "609  Nos países que viveram sob a órbita da União S...  2017-05-10  turismo   \n",
       "\n",
       "    subcategory                                               link  \\\n",
       "381         NaN  http://www1.folha.uol.com.br/turismo/2017/10/1...   \n",
       "414         NaN  http://www1.folha.uol.com.br/turismo/2017/10/1...   \n",
       "522         NaN  http://www1.folha.uol.com.br/turismo/2017/10/1...   \n",
       "602         NaN  http://www1.folha.uol.com.br/turismo/2017/10/1...   \n",
       "609         NaN  http://www1.folha.uol.com.br/turismo/2017/10/1...   \n",
       "\n",
       "     title_n_words  title_n_chars  \\\n",
       "381             11             51   \n",
       "414             11             54   \n",
       "522             11             58   \n",
       "602              7             38   \n",
       "609             10             62   \n",
       "\n",
       "                                           title_clean  \\\n",
       "381  latam inaugura voo direto de 15 horas entre ch...   \n",
       "414  turismo de las vegas deve se recuperar em mese...   \n",
       "522  brasileiro cria app para economizar no passeio...   \n",
       "602       airbnb passa a fazer reserva de restaurantes   \n",
       "609  museus lembram quatro décadas de opressão sovi...   \n",
       "\n",
       "                                   title_clean_no_stop  \n",
       "381  latam inaugura voo direto 15 horas chile austr...  \n",
       "414              turismo las vegas recuperar analistas  \n",
       "522  brasileiro cria app economizar passeio gôndola...  \n",
       "602                  airbnb passa reserva restaurantes  \n",
       "609   museus lembram décadas opressão soviética países  "
      ]
     },
     "execution_count": 73,
     "metadata": {},
     "output_type": "execute_result"
    }
   ],
   "source": [
    "turismo.head()"
   ]
  },
  {
   "cell_type": "code",
   "execution_count": 74,
   "metadata": {
    "id": "l0LdFy4Z44fJ"
   },
   "outputs": [
    {
     "data": {
      "text/plain": [
       "'latam inaugura voo direto de 15 horas entre chile e austrália'"
      ]
     },
     "execution_count": 74,
     "metadata": {},
     "output_type": "execute_result"
    }
   ],
   "source": [
    "turismo.iloc[0]['title_clean']"
   ]
  },
  {
   "cell_type": "code",
   "execution_count": 75,
   "metadata": {
    "id": "uNVdy1QO45p6"
   },
   "outputs": [
    {
     "data": {
      "text/plain": [
       "'latam inaugura voo direto 15 horas chile austrália'"
      ]
     },
     "execution_count": 75,
     "metadata": {},
     "output_type": "execute_result"
    }
   ],
   "source": [
    "turismo.iloc[0]['title_clean_no_stop']"
   ]
  },
  {
   "cell_type": "markdown",
   "metadata": {
    "id": "yzQHtDZx47yA"
   },
   "source": [
    "Lematização"
   ]
  },
  {
   "cell_type": "code",
   "execution_count": 76,
   "metadata": {
    "id": "j4Dd1shb46uX"
   },
   "outputs": [],
   "source": [
    "turismo['title_lemmas'] = turismo['title_clean_no_stop'].apply(lambda x: limpa_texto2(x))"
   ]
  },
  {
   "cell_type": "code",
   "execution_count": 77,
   "metadata": {
    "id": "1qACbMDk493s"
   },
   "outputs": [
    {
     "data": {
      "text/html": [
       "<div>\n",
       "<style scoped>\n",
       "    .dataframe tbody tr th:only-of-type {\n",
       "        vertical-align: middle;\n",
       "    }\n",
       "\n",
       "    .dataframe tbody tr th {\n",
       "        vertical-align: top;\n",
       "    }\n",
       "\n",
       "    .dataframe thead th {\n",
       "        text-align: right;\n",
       "    }\n",
       "</style>\n",
       "<table border=\"1\" class=\"dataframe\">\n",
       "  <thead>\n",
       "    <tr style=\"text-align: right;\">\n",
       "      <th></th>\n",
       "      <th>title</th>\n",
       "      <th>text</th>\n",
       "      <th>date</th>\n",
       "      <th>category</th>\n",
       "      <th>subcategory</th>\n",
       "      <th>link</th>\n",
       "      <th>title_n_words</th>\n",
       "      <th>title_n_chars</th>\n",
       "      <th>title_clean</th>\n",
       "      <th>title_clean_no_stop</th>\n",
       "      <th>title_lemmas</th>\n",
       "    </tr>\n",
       "  </thead>\n",
       "  <tbody>\n",
       "    <tr>\n",
       "      <th>381</th>\n",
       "      <td>Latam inaugura voo direto de 15 horas entre Ch...</td>\n",
       "      <td>Animem-se os que pretendem cruzar o Pacífico e...</td>\n",
       "      <td>2017-06-10</td>\n",
       "      <td>turismo</td>\n",
       "      <td>NaN</td>\n",
       "      <td>http://www1.folha.uol.com.br/turismo/2017/10/1...</td>\n",
       "      <td>11</td>\n",
       "      <td>51</td>\n",
       "      <td>latam inaugura voo direto de 15 horas entre ch...</td>\n",
       "      <td>latam inaugura voo direto 15 horas chile austr...</td>\n",
       "      <td>latir inaugurar voar direto 15 horar chile aus...</td>\n",
       "    </tr>\n",
       "    <tr>\n",
       "      <th>414</th>\n",
       "      <td>Turismo de Las Vegas deve se recuperar em mese...</td>\n",
       "      <td>O massacre em Las Vegas afetará o turismo da c...</td>\n",
       "      <td>2017-06-10</td>\n",
       "      <td>turismo</td>\n",
       "      <td>NaN</td>\n",
       "      <td>http://www1.folha.uol.com.br/turismo/2017/10/1...</td>\n",
       "      <td>11</td>\n",
       "      <td>54</td>\n",
       "      <td>turismo de las vegas deve se recuperar em mese...</td>\n",
       "      <td>turismo las vegas recuperar analistas</td>\n",
       "      <td>turismo o vegas recuperar analista</td>\n",
       "    </tr>\n",
       "    <tr>\n",
       "      <th>522</th>\n",
       "      <td>Brasileiro cria app para economizar no passeio...</td>\n",
       "      <td>Com cerca de 50 mil visitantes por dia, Veneza...</td>\n",
       "      <td>2017-05-10</td>\n",
       "      <td>turismo</td>\n",
       "      <td>NaN</td>\n",
       "      <td>http://www1.folha.uol.com.br/turismo/2017/10/1...</td>\n",
       "      <td>11</td>\n",
       "      <td>58</td>\n",
       "      <td>brasileiro cria app para economizar no passeio...</td>\n",
       "      <td>brasileiro cria app economizar passeio gôndola...</td>\n",
       "      <td>brasileiro criar app economizar passear gôndol...</td>\n",
       "    </tr>\n",
       "    <tr>\n",
       "      <th>602</th>\n",
       "      <td>AirBnB passa a fazer reserva de restaurantes</td>\n",
       "      <td>A plataforma de hospedagem Airbnb anunciou que...</td>\n",
       "      <td>2017-05-10</td>\n",
       "      <td>turismo</td>\n",
       "      <td>NaN</td>\n",
       "      <td>http://www1.folha.uol.com.br/turismo/2017/10/1...</td>\n",
       "      <td>7</td>\n",
       "      <td>38</td>\n",
       "      <td>airbnb passa a fazer reserva de restaurantes</td>\n",
       "      <td>airbnb passa reserva restaurantes</td>\n",
       "      <td>airbnb passar reservar restaurante</td>\n",
       "    </tr>\n",
       "    <tr>\n",
       "      <th>609</th>\n",
       "      <td>Museus lembram quatro décadas de opressão sovi...</td>\n",
       "      <td>Nos países que viveram sob a órbita da União S...</td>\n",
       "      <td>2017-05-10</td>\n",
       "      <td>turismo</td>\n",
       "      <td>NaN</td>\n",
       "      <td>http://www1.folha.uol.com.br/turismo/2017/10/1...</td>\n",
       "      <td>10</td>\n",
       "      <td>62</td>\n",
       "      <td>museus lembram quatro décadas de opressão sovi...</td>\n",
       "      <td>museus lembram décadas opressão soviética países</td>\n",
       "      <td>museu lembrar década opressão soviético país</td>\n",
       "    </tr>\n",
       "  </tbody>\n",
       "</table>\n",
       "</div>"
      ],
      "text/plain": [
       "                                                 title  \\\n",
       "381  Latam inaugura voo direto de 15 horas entre Ch...   \n",
       "414  Turismo de Las Vegas deve se recuperar em mese...   \n",
       "522  Brasileiro cria app para economizar no passeio...   \n",
       "602       AirBnB passa a fazer reserva de restaurantes   \n",
       "609  Museus lembram quatro décadas de opressão sovi...   \n",
       "\n",
       "                                                  text        date category  \\\n",
       "381  Animem-se os que pretendem cruzar o Pacífico e...  2017-06-10  turismo   \n",
       "414  O massacre em Las Vegas afetará o turismo da c...  2017-06-10  turismo   \n",
       "522  Com cerca de 50 mil visitantes por dia, Veneza...  2017-05-10  turismo   \n",
       "602  A plataforma de hospedagem Airbnb anunciou que...  2017-05-10  turismo   \n",
       "609  Nos países que viveram sob a órbita da União S...  2017-05-10  turismo   \n",
       "\n",
       "    subcategory                                               link  \\\n",
       "381         NaN  http://www1.folha.uol.com.br/turismo/2017/10/1...   \n",
       "414         NaN  http://www1.folha.uol.com.br/turismo/2017/10/1...   \n",
       "522         NaN  http://www1.folha.uol.com.br/turismo/2017/10/1...   \n",
       "602         NaN  http://www1.folha.uol.com.br/turismo/2017/10/1...   \n",
       "609         NaN  http://www1.folha.uol.com.br/turismo/2017/10/1...   \n",
       "\n",
       "     title_n_words  title_n_chars  \\\n",
       "381             11             51   \n",
       "414             11             54   \n",
       "522             11             58   \n",
       "602              7             38   \n",
       "609             10             62   \n",
       "\n",
       "                                           title_clean  \\\n",
       "381  latam inaugura voo direto de 15 horas entre ch...   \n",
       "414  turismo de las vegas deve se recuperar em mese...   \n",
       "522  brasileiro cria app para economizar no passeio...   \n",
       "602       airbnb passa a fazer reserva de restaurantes   \n",
       "609  museus lembram quatro décadas de opressão sovi...   \n",
       "\n",
       "                                   title_clean_no_stop  \\\n",
       "381  latam inaugura voo direto 15 horas chile austr...   \n",
       "414              turismo las vegas recuperar analistas   \n",
       "522  brasileiro cria app economizar passeio gôndola...   \n",
       "602                  airbnb passa reserva restaurantes   \n",
       "609   museus lembram décadas opressão soviética países   \n",
       "\n",
       "                                          title_lemmas  \n",
       "381  latir inaugurar voar direto 15 horar chile aus...  \n",
       "414                 turismo o vegas recuperar analista  \n",
       "522  brasileiro criar app economizar passear gôndol...  \n",
       "602                 airbnb passar reservar restaurante  \n",
       "609       museu lembrar década opressão soviético país  "
      ]
     },
     "execution_count": 77,
     "metadata": {},
     "output_type": "execute_result"
    }
   ],
   "source": [
    "turismo.head()"
   ]
  },
  {
   "cell_type": "code",
   "execution_count": 78,
   "metadata": {
    "id": "lFGwS_Cw4-9x"
   },
   "outputs": [
    {
     "data": {
      "text/plain": [
       "title                  'Viagem ao Japão é aula de cultura e tradição'...\n",
       "text                   O ator Jayme Matarazzo, 31, aproveita os inter...\n",
       "date                                                          2017-05-10\n",
       "category                                                         turismo\n",
       "subcategory                                                          NaN\n",
       "link                   http://www1.folha.uol.com.br/turismo/2017/10/1...\n",
       "title_n_words                                                         13\n",
       "title_n_chars                                                         60\n",
       "title_clean            viagem ao japão é aula de cultura e tradição d...\n",
       "title_clean_no_stop    viagem japão aula cultura tradição ator jayme ...\n",
       "title_lemmas           viagem japão aula cultura tradição ator jayme ...\n",
       "Name: 615, dtype: object"
      ]
     },
     "execution_count": 78,
     "metadata": {},
     "output_type": "execute_result"
    }
   ],
   "source": [
    "turismo.iloc[5]"
   ]
  },
  {
   "cell_type": "code",
   "execution_count": 79,
   "metadata": {
    "id": "R4VMw7175Bu9"
   },
   "outputs": [
    {
     "data": {
      "text/plain": [
       "'viagem ao japão é aula de cultura e tradição diz ator jayme matarazzo'"
      ]
     },
     "execution_count": 79,
     "metadata": {},
     "output_type": "execute_result"
    }
   ],
   "source": [
    "turismo.iloc[5]['title_clean']"
   ]
  },
  {
   "cell_type": "code",
   "execution_count": 80,
   "metadata": {
    "id": "PlMtKhLY5EOl"
   },
   "outputs": [
    {
     "data": {
      "text/plain": [
       "'viagem japão aula cultura tradição ator jayme matarazzo'"
      ]
     },
     "execution_count": 80,
     "metadata": {},
     "output_type": "execute_result"
    }
   ],
   "source": [
    "turismo.iloc[5]['title_clean_no_stop']"
   ]
  },
  {
   "cell_type": "code",
   "execution_count": 81,
   "metadata": {
    "id": "XOqRhjq_5Fa9"
   },
   "outputs": [
    {
     "data": {
      "text/plain": [
       "'viagem japão aula cultura tradição ator jayme matarazzo'"
      ]
     },
     "execution_count": 81,
     "metadata": {},
     "output_type": "execute_result"
    }
   ],
   "source": [
    "turismo.iloc[5]['title_lemmas']"
   ]
  },
  {
   "cell_type": "markdown",
   "metadata": {
    "id": "2mBSime25Kn5"
   },
   "source": [
    "N-grams"
   ]
  },
  {
   "cell_type": "code",
   "execution_count": 82,
   "metadata": {
    "id": "TERcaMQO5IzU"
   },
   "outputs": [],
   "source": [
    "titulos = \" \".join(turismo['title_lemmas'])"
   ]
  },
  {
   "cell_type": "code",
   "execution_count": 83,
   "metadata": {
    "id": "xx_CKXNe5MUk"
   },
   "outputs": [],
   "source": [
    "token = word_tokenize(titulos)\n",
    "bigrams = ngrams(token,2)\n",
    "trigrams = ngrams(token,3)\n",
    "fourgrams = ngrams(token,4)\n",
    "fivegrams = ngrams(token,5)"
   ]
  },
  {
   "cell_type": "code",
   "execution_count": 84,
   "metadata": {
    "id": "Pv29UCq05Nzr"
   },
   "outputs": [
    {
     "name": "stdout",
     "output_type": "stream",
     "text": [
      "[(('fotógrafo', 'registrar'), 39), (('atrair', 'turista'), 25), (('fotógrafo', 'clicar'), 23), (('álbum', 'viagem'), 22), (('companhia', 'aéreo'), 20), (('o', 'vegas'), 10), (('levar', 'turista'), 10), (('estação', 'esqui'), 10), (('o', 'angeles'), 10), (('opção', 'pacote'), 9)]\n"
     ]
    }
   ],
   "source": [
    "print(Counter(bigrams).most_common(10))"
   ]
  },
  {
   "cell_type": "code",
   "execution_count": 85,
   "metadata": {
    "id": "kzTYE5DL5XkF"
   },
   "outputs": [
    {
     "name": "stdout",
     "output_type": "stream",
     "text": [
      "[(('fotógrafo', 'registrar', 'paisagem'), 5), (('mundo', 'fotógrafo', 'registrar'), 5), (('gamar', 'of', 'thrones'), 5), (('world', 'trade', 'center'), 5), (('temer', 'ensaiar', 'fotográfico'), 4), (('parque', 'harry', 'potter'), 4), (('inaugurar', 'museu', 'dedicar'), 4), (('fotógrafo', 'registrar', 'cena'), 4), (('virar', 'atração', 'turístico'), 3), (('ter', 'montanha', 'russo'), 3)]\n"
     ]
    }
   ],
   "source": [
    "print(Counter(trigrams).most_common(10))"
   ]
  },
  {
   "cell_type": "code",
   "execution_count": 86,
   "metadata": {
    "id": "JXGLlu015bGR"
   },
   "outputs": [
    {
     "name": "stdout",
     "output_type": "stream",
     "text": [
      "[(('pacote', 'último', 'horar', 'viajar'), 3), (('contar', 'lugar', 'preferir', 'brasil'), 2), (('estação', 'esqui', 'chile', 'argentino'), 2), (('disney', 'hong', 'kong', 'ter'), 2), (('vasculhar', 'rede', 'social', 'emitir'), 2), (('rede', 'social', 'emitir', 'visto'), 2), (('montanha', 'russo', 'alto', 'rápido'), 2), (('primaverar', 'árabe', 'guerra', 'sírio'), 2), (('árabe', 'guerra', 'sírio', 'gerar'), 2), (('guerra', 'sírio', 'gerar', 'crise'), 2)]\n"
     ]
    }
   ],
   "source": [
    "print(Counter(fourgrams).most_common(10))"
   ]
  },
  {
   "cell_type": "markdown",
   "metadata": {
    "id": "MW2QojHO7Ksv"
   },
   "source": [
    "Tópicos"
   ]
  },
  {
   "cell_type": "code",
   "execution_count": 87,
   "metadata": {
    "id": "YPAbz1oT5eHZ"
   },
   "outputs": [],
   "source": [
    "vectorizer = CountVectorizer(min_df=10, max_df=0.9, stop_words=STOP_WORDS, lowercase=True)"
   ]
  },
  {
   "cell_type": "code",
   "execution_count": 88,
   "metadata": {
    "id": "lRYt9eep7NLk"
   },
   "outputs": [],
   "source": [
    "data_vectorized = vectorizer.fit_transform(turismo['title_lemmas'])"
   ]
  },
  {
   "cell_type": "code",
   "execution_count": 89,
   "metadata": {},
   "outputs": [
    {
     "data": {
      "text/plain": [
       "<1903x241 sparse matrix of type '<class 'numpy.int64'>'\n",
       "\twith 5631 stored elements in Compressed Sparse Row format>"
      ]
     },
     "execution_count": 89,
     "metadata": {},
     "output_type": "execute_result"
    }
   ],
   "source": [
    "data_vectorized"
   ]
  },
  {
   "cell_type": "code",
   "execution_count": 90,
   "metadata": {
    "id": "q6sXPLin7QJ4"
   },
   "outputs": [],
   "source": [
    "NUM_TOPICS = 2"
   ]
  },
  {
   "cell_type": "code",
   "execution_count": 91,
   "metadata": {
    "id": "lf2F-Tt07S1t"
   },
   "outputs": [
    {
     "name": "stdout",
     "output_type": "stream",
     "text": [
      "iteration: 1 of max_iter: 30\n",
      "iteration: 2 of max_iter: 30\n",
      "iteration: 3 of max_iter: 30\n",
      "iteration: 4 of max_iter: 30\n",
      "iteration: 5 of max_iter: 30\n",
      "iteration: 6 of max_iter: 30\n",
      "iteration: 7 of max_iter: 30\n",
      "iteration: 8 of max_iter: 30\n",
      "iteration: 9 of max_iter: 30\n",
      "iteration: 10 of max_iter: 30\n",
      "iteration: 11 of max_iter: 30\n",
      "iteration: 12 of max_iter: 30\n",
      "iteration: 13 of max_iter: 30\n",
      "iteration: 14 of max_iter: 30\n",
      "iteration: 15 of max_iter: 30\n",
      "iteration: 16 of max_iter: 30\n",
      "iteration: 17 of max_iter: 30\n",
      "iteration: 18 of max_iter: 30\n",
      "iteration: 19 of max_iter: 30\n",
      "iteration: 20 of max_iter: 30\n",
      "iteration: 21 of max_iter: 30\n",
      "iteration: 22 of max_iter: 30\n",
      "iteration: 23 of max_iter: 30\n",
      "iteration: 24 of max_iter: 30\n",
      "iteration: 25 of max_iter: 30\n",
      "iteration: 26 of max_iter: 30\n",
      "iteration: 27 of max_iter: 30\n",
      "iteration: 28 of max_iter: 30\n",
      "iteration: 29 of max_iter: 30\n",
      "iteration: 30 of max_iter: 30\n"
     ]
    }
   ],
   "source": [
    "lda = LatentDirichletAllocation(n_components=NUM_TOPICS, max_iter=30, learning_method='online',verbose=True)\n",
    "data_lda = lda.fit_transform(data_vectorized)"
   ]
  },
  {
   "cell_type": "code",
   "execution_count": 92,
   "metadata": {
    "id": "XyGpO7Qm7V_Q"
   },
   "outputs": [],
   "source": [
    "def selected_topics(model, vectorizer, top_n=10):\n",
    "    for idx, topic in enumerate(model.components_):\n",
    "        print(\"Topic %d:\" % (idx))\n",
    "        print([(vectorizer.get_feature_names()[i], topic[i])\n",
    "                        for i in topic.argsort()[:-top_n - 1:-1]]) "
   ]
  },
  {
   "cell_type": "code",
   "execution_count": 93,
   "metadata": {
    "id": "Fj_OWj6N7Xyl"
   },
   "outputs": [
    {
     "name": "stdout",
     "output_type": "stream",
     "text": [
      "LDA Model:\n",
      "Topic 0:\n",
      "[('viagem', 118.58856535906229), ('hotel', 108.6519876057747), ('mundo', 84.54073338930311), ('cidade', 82.13222817448876), ('brasil', 79.56995869266899), ('conhecer', 79.35515597661428), ('ano', 56.66198424799111), ('rir', 53.42384032046637), ('praia', 52.03350720409573), ('ilhar', 48.66776260914291)]\n",
      "Topic 1:\n",
      "[('turista', 196.42547399591146), ('turismo', 117.43182309193558), ('fotógrafo', 104.8927591088332), ('parque', 66.69216544883358), ('eua', 62.23325149176338), ('brasileiro', 60.494234699720856), ('registrar', 55.01282387450392), ('museu', 53.22044412988007), ('pacote', 51.34712412290269), ('viajar', 48.369926874747414)]\n"
     ]
    }
   ],
   "source": [
    "print(\"LDA Model:\")\n",
    "selected_topics(lda, vectorizer)"
   ]
  },
  {
   "cell_type": "code",
   "execution_count": 94,
   "metadata": {
    "id": "dsGVuwwB7ZIX"
   },
   "outputs": [
    {
     "data": {
      "text/html": [
       "\n",
       "<link rel=\"stylesheet\" type=\"text/css\" href=\"https://cdn.jsdelivr.net/gh/bmabey/pyLDAvis@3.2.2/pyLDAvis/js/ldavis.v1.0.0.css\">\n",
       "\n",
       "\n",
       "<div id=\"ldavis_el416161403622471261443500614500\"></div>\n",
       "<script type=\"text/javascript\">\n",
       "\n",
       "var ldavis_el416161403622471261443500614500_data = {\"mdsDat\": {\"x\": [-60.31231689453125, 60.31256103515625], \"y\": [141.36962890625, -141.369140625], \"topics\": [1, 2], \"cluster\": [1, 1], \"Freq\": [50.34681142013224, 49.65318857986775]}, \"tinfo\": {\"Term\": [\"turista\", \"turismo\", \"viagem\", \"fot\\u00f3grafo\", \"hotel\", \"mundo\", \"cidade\", \"conhecer\", \"brasil\", \"parque\", \"eua\", \"brasileiro\", \"registrar\", \"pacote\", \"praia\", \"rir\", \"viajar\", \"ilhar\", \"atrair\", \"conferir\", \"a\\u00e9reo\", \"imagem\", \"cruzeiro\", \"inaugurar\", \"ganhar\", \"londres\", \"parir\", \"site\", \"it\\u00e1lia\", \"passar\", \"mundo\", \"conhecer\", \"hotel\", \"viagem\", \"cidade\", \"praia\", \"ilhar\", \"a\\u00e9reo\", \"rir\", \"brasil\", \"site\", \"ganhar\", \"abrir\", \"mostrar\", \"companhia\", \"airbnb\", \"cruzeiro\", \"alto\", \"destinar\", \"melhor\", \"passar\", \"esqui\", \"sp\", \"paulo\", \"f\\u00e9ria\", \"passear\", \"atra\\u00e7\\u00e3o\", \"europa\", \"lan\\u00e7ar\", \"permitir\", \"casar\", \"parir\", \"dia\", \"oferecer\", \"visitar\", \"ano\", \"virar\", \"tur\\u00edstico\", \"roteiro\", \"turista\", \"fot\\u00f3grafo\", \"turismo\", \"registrar\", \"parque\", \"pacote\", \"viajar\", \"brasileiro\", \"atrair\", \"conferir\", \"eua\", \"imagem\", \"clicar\", \"londres\", \"inaugurar\", \"it\\u00e1lia\", \"levar\", \"visitante\", \"hist\\u00f3ria\", \"norte\", \"fechar\", \"destaque\", \"chino\", \"disney\", \"vinho\", \"cubar\", \"roto\", \"paisagem\", \"avi\\u00e3o\", \"argentino\", \"foto\", \"atra\\u00e7\\u00f5es\", \"museu\", \"pa\\u00eds\", \"sul\"], \"Freq\": [189.0, 113.0, 114.0, 101.0, 105.0, 81.0, 79.0, 76.0, 77.0, 64.0, 60.0, 58.0, 53.0, 49.0, 50.0, 52.0, 47.0, 47.0, 42.0, 38.0, 37.0, 33.0, 35.0, 33.0, 34.0, 33.0, 40.0, 33.0, 31.0, 34.0, 81.06023001162787, 76.08814045238536, 104.17883490538807, 113.70632829133768, 78.75088185636619, 49.891311480027646, 46.66413305266627, 36.52849487390254, 51.224405217064565, 76.29409983873627, 33.180034742392316, 33.725839385214954, 30.427777339734313, 28.542076759519976, 24.873571798410545, 24.783175163991313, 35.160039629153204, 26.00466386406837, 22.89255741362118, 20.62689408275537, 33.167400383121176, 23.80864756807973, 27.37502638097494, 25.88667017117564, 20.649901209476873, 22.563108076351124, 20.906911448972515, 21.41742108856688, 22.912001891136097, 22.566356843423932, 29.013179809310113, 38.84069047775757, 22.879329112253693, 35.95917483351071, 26.486849408968197, 54.329236238191285, 25.50727915128648, 31.5770153705599, 26.67531115872472, 188.8830017056743, 100.86501915774434, 112.92260005866754, 52.900405911395026, 64.13127658019218, 49.37546406781013, 46.512587163599896, 58.171337981389684, 41.480914828451695, 38.075123206426255, 59.84357888281371, 33.424811915362234, 29.36316854002703, 32.71473349717323, 33.13632164821472, 31.362188926110285, 27.64963799537747, 27.121424823019076, 28.509285572572374, 24.174134525122007, 22.348263538351347, 28.372341169425315, 24.769163584078807, 25.063603007339125, 21.0781723568247, 25.334111576430946, 23.43215491530893, 23.751796139806114, 25.033583224454866, 21.459597995542072, 31.375689425785076, 34.39261102301096, 51.17685112252864, 39.752719880308334, 29.73844777016839], \"Total\": [189.0, 113.0, 114.0, 101.0, 105.0, 81.0, 79.0, 76.0, 77.0, 64.0, 60.0, 58.0, 53.0, 49.0, 50.0, 52.0, 47.0, 47.0, 42.0, 38.0, 37.0, 33.0, 35.0, 33.0, 34.0, 33.0, 40.0, 33.0, 31.0, 34.0, 81.66417315786141, 76.6685907519905, 105.0893909852568, 114.72632492828639, 79.65785419547343, 50.50727053101111, 47.29565309246885, 37.06490455170014, 52.145371496138104, 77.68866549367492, 33.799052654911925, 34.36852162898417, 31.01981953426663, 29.122464426323702, 25.37958649749717, 25.31435043701272, 35.93239306597718, 26.590426882927215, 23.444162802532176, 21.157486650922664, 34.02701487410102, 24.426934033103873, 28.088996019467622, 26.580110712906468, 21.209187114331137, 23.178223721680116, 21.479674510779926, 22.00897971498443, 23.59896900082791, 23.254638844642148, 30.06347653195824, 40.74029630365256, 23.586991790823706, 38.18004286153543, 27.8105742597021, 73.243985862809, 29.385437200924937, 49.55121692134854, 34.936239901881336, 189.61338381199494, 101.40899013105827, 113.53278009678299, 53.41909389096002, 64.80066495621905, 49.96389425051099, 47.088603679149564, 58.913281772742, 42.03934063109969, 38.64310500296873, 60.7794932418118, 33.97168601617365, 29.9135509713345, 33.32917715539002, 33.759709229202706, 31.99393897896003, 28.23929611975417, 27.707969664623903, 29.143376749625766, 24.735123709069725, 22.86857094491779, 29.039283244289546, 25.363966755030223, 25.682601698891126, 21.607789282942218, 25.97219880168515, 24.029058607631207, 24.37185217937954, 25.724088924811088, 22.06693647195622, 32.52010733485839, 35.807634637597324, 74.08238122785045, 54.74979776466698, 35.025981115163326], \"Category\": [\"Default\", \"Default\", \"Default\", \"Default\", \"Default\", \"Default\", \"Default\", \"Default\", \"Default\", \"Default\", \"Default\", \"Default\", \"Default\", \"Default\", \"Default\", \"Default\", \"Default\", \"Default\", \"Default\", \"Default\", \"Default\", \"Default\", \"Default\", \"Default\", \"Default\", \"Default\", \"Default\", \"Default\", \"Default\", \"Default\", \"Topic1\", \"Topic1\", \"Topic1\", \"Topic1\", \"Topic1\", \"Topic1\", \"Topic1\", \"Topic1\", \"Topic1\", \"Topic1\", \"Topic1\", \"Topic1\", \"Topic1\", \"Topic1\", \"Topic1\", \"Topic1\", \"Topic1\", \"Topic1\", \"Topic1\", \"Topic1\", \"Topic1\", \"Topic1\", \"Topic1\", \"Topic1\", \"Topic1\", \"Topic1\", \"Topic1\", \"Topic1\", \"Topic1\", \"Topic1\", \"Topic1\", \"Topic1\", \"Topic1\", \"Topic1\", \"Topic1\", \"Topic1\", \"Topic1\", \"Topic1\", \"Topic1\", \"Topic2\", \"Topic2\", \"Topic2\", \"Topic2\", \"Topic2\", \"Topic2\", \"Topic2\", \"Topic2\", \"Topic2\", \"Topic2\", \"Topic2\", \"Topic2\", \"Topic2\", \"Topic2\", \"Topic2\", \"Topic2\", \"Topic2\", \"Topic2\", \"Topic2\", \"Topic2\", \"Topic2\", \"Topic2\", \"Topic2\", \"Topic2\", \"Topic2\", \"Topic2\", \"Topic2\", \"Topic2\", \"Topic2\", \"Topic2\", \"Topic2\", \"Topic2\", \"Topic2\", \"Topic2\", \"Topic2\"], \"logprob\": [30.0, 29.0, 28.0, 27.0, 26.0, 25.0, 24.0, 23.0, 22.0, 21.0, 20.0, 19.0, 18.0, 17.0, 16.0, 15.0, 14.0, 13.0, 12.0, 11.0, 10.0, 9.0, 8.0, 7.0, 6.0, 5.0, 4.0, 3.0, 2.0, 1.0, -3.5555, -3.6188, -3.3046, -3.2171, -3.5844, -4.0408, -4.1077, -4.3526, -4.0145, -3.6161, -4.4487, -4.4324, -4.5353, -4.5993, -4.7369, -4.7405, -4.3908, -4.6924, -4.8199, -4.9241, -4.4491, -4.7806, -4.6411, -4.697, -4.923, -4.8344, -4.9106, -4.8865, -4.819, -4.8342, -4.5829, -4.2912, -4.8205, -4.3683, -4.674, -3.9556, -4.7117, -4.4983, -4.667, -2.6957, -3.323, -3.2101, -3.9684, -3.7759, -4.0374, -4.0971, -3.8734, -4.2116, -4.2973, -3.8451, -4.4275, -4.5571, -4.449, -4.4362, -4.4912, -4.6172, -4.6365, -4.5866, -4.7515, -4.8301, -4.5914, -4.7272, -4.7154, -4.8886, -4.7047, -4.7827, -4.7692, -4.7166, -4.8707, -4.4908, -4.399, -4.0015, -4.2541, -4.5444], \"loglift\": [30.0, 29.0, 28.0, 27.0, 26.0, 25.0, 24.0, 23.0, 22.0, 21.0, 20.0, 19.0, 18.0, 17.0, 16.0, 15.0, 14.0, 13.0, 12.0, 11.0, 10.0, 9.0, 8.0, 7.0, 6.0, 5.0, 4.0, 3.0, 2.0, 1.0, 0.6788, 0.6786, 0.6775, 0.6773, 0.6748, 0.674, 0.6728, 0.6717, 0.6684, 0.6681, 0.6678, 0.6674, 0.667, 0.6661, 0.6661, 0.665, 0.6645, 0.664, 0.6624, 0.6608, 0.6606, 0.6606, 0.6605, 0.6598, 0.6595, 0.6593, 0.6592, 0.659, 0.6567, 0.6562, 0.6507, 0.6385, 0.6558, 0.6263, 0.6375, 0.3875, 0.5447, 0.2357, 0.4164, 0.6962, 0.6947, 0.6947, 0.6904, 0.6897, 0.6883, 0.6878, 0.6874, 0.6867, 0.6853, 0.6846, 0.6839, 0.6815, 0.6815, 0.6815, 0.6802, 0.679, 0.6787, 0.6781, 0.6772, 0.6771, 0.6769, 0.6764, 0.6757, 0.6753, 0.6752, 0.675, 0.6743, 0.6729, 0.6722, 0.6643, 0.6598, 0.3302, 0.38, 0.5365]}, \"token.table\": {\"Topic\": [1, 2, 1, 2, 1, 2, 1, 2, 1, 2, 1, 2, 1, 2, 1, 2, 1, 2, 1, 2, 1, 2, 1, 2, 1, 2, 1, 2, 1, 2, 1, 2, 1, 2, 1, 2, 1, 2, 1, 2, 1, 2, 1, 2, 1, 2, 1, 2, 1, 2, 1, 2, 1, 2, 1, 2, 1, 2, 1, 2, 1, 2, 1, 2, 1, 2, 1, 2, 1, 2, 1, 2, 1, 2, 1, 2, 1, 2, 1, 2, 1, 2, 1, 2, 1, 2, 1, 2, 1, 2, 1, 2, 1, 2, 1, 2, 1, 2, 1, 2, 1, 2, 1, 2, 1, 2, 1, 2, 1, 2, 1, 2, 1, 2, 1, 2, 1, 2, 1, 2, 1, 2, 1, 2, 1, 2, 1, 2, 1, 2, 1, 2, 1, 2, 1, 2, 1, 2, 1, 2, 1, 2, 1, 2, 1, 2, 1, 2], \"Freq\": [0.9671236148508192, 0.03223745382836064, 0.9875821250956097, 0.03950328500382439, 0.9777955094317682, 0.037607519593529544, 0.7372618975317059, 0.25940696394634094, 0.04531666646481946, 0.9516499957612087, 0.023787242734730814, 0.9752769521239634, 0.9776684460214147, 0.04655564028673403, 0.027927005235638194, 0.9495181780116986, 0.038874068695801005, 0.9718517173950251, 0.9982488946758353, 0.026979699856103656, 0.9782636825726863, 0.012871890560166924, 0.016974101083988162, 0.9844978628713134, 0.9646256303449224, 0.03326295277051457, 0.03942600972703445, 0.9856502431758613, 0.9917415024278822, 0.012553689904150407, 0.033429665403424624, 0.9694602966993141, 0.9850436295510724, 0.0394017451820429, 0.02587783771317485, 0.9833578331006443, 0.9912794699180886, 0.01304315091997485, 0.974051462025778, 0.027830041772165085, 0.03850270851673587, 0.9625677129183968, 0.03443611164874897, 0.9642111261649712, 0.9810544395944818, 0.04265454085193399, 0.9751137493060023, 0.04239624996982618, 0.03893686518695558, 0.9734216296738893, 0.9825219967219265, 0.04093841653008028, 0.016452917697445918, 0.9871750618467552, 0.9541559977767854, 0.04543599989413264, 0.04372813685685225, 0.9620190108507495, 0.030750206009563116, 0.9532563862964566, 0.009861058656709101, 0.9959669243276192, 0.9901369574796297, 0.04714937892760142, 0.9892773499843129, 0.029096392646597437, 0.03431311369959355, 0.9950802972882129, 0.9896336730564017, 0.009515708394773094, 0.9937488315915459, 0.021143592161522253, 0.029436278185425, 0.9713971801190251, 0.0296211082035915, 0.9774965707185196, 0.03125592008716475, 0.9689335227021071, 0.974618848780771, 0.0423747325556857, 0.03541164750563568, 0.991526130157799, 0.03000374102660015, 0.9901234538778049, 0.9925564575074045, 0.047264593214638315, 0.9957948467364937, 0.03433775333574116, 0.9918670191323982, 0.012245271841140718, 0.3104651823928333, 0.6884227957406304, 0.040428340353653704, 0.9702801684876888, 0.9429009844372982, 0.05238338802429435, 0.020014452736333153, 0.9807081840803246, 0.04103093981696134, 0.9847425556070721, 0.9572831701890068, 0.04909144462507727, 0.015431940407951445, 0.9876441861088925, 0.969817661704944, 0.029388413991058907, 0.9923107256267696, 0.043143944592468245, 0.9781750076524405, 0.03762211567894002, 0.27397361474237836, 0.7305963059796757, 0.9890499763791938, 0.043002172886051904, 0.9899564849638895, 0.01979912969927779, 0.018719898207955703, 0.9921546050216523, 0.9780350304681801, 0.019177157460160393, 0.7728364608163237, 0.22898858098261443, 0.04161627870358673, 0.9571744101824948, 0.9763587262912293, 0.02958662806943119, 0.9612305110971971, 0.03560113004063693, 0.14275117615007843, 0.8565070569004705, 0.008808028827863924, 0.9953072575486234, 0.005273889320974926, 0.996765081664261, 0.6457964503837077, 0.3632605033408356, 0.9936690648049573, 0.008716395305306643, 0.02123656090577159, 0.9981183625712648, 0.046279607178020175, 0.9718717507384236, 0.8847920084436117, 0.13612184745286335, 0.036090699250214214, 0.9744488797557836, 0.9348961929806086, 0.03595754588386956], \"Term\": [\"abrir\", \"abrir\", \"airbnb\", \"airbnb\", \"alto\", \"alto\", \"ano\", \"ano\", \"argentino\", \"argentino\", \"atrair\", \"atrair\", \"atra\\u00e7\\u00e3o\", \"atra\\u00e7\\u00e3o\", \"atra\\u00e7\\u00f5es\", \"atra\\u00e7\\u00f5es\", \"avi\\u00e3o\", \"avi\\u00e3o\", \"a\\u00e9reo\", \"a\\u00e9reo\", \"brasil\", \"brasil\", \"brasileiro\", \"brasileiro\", \"casar\", \"casar\", \"chino\", \"chino\", \"cidade\", \"cidade\", \"clicar\", \"clicar\", \"companhia\", \"companhia\", \"conferir\", \"conferir\", \"conhecer\", \"conhecer\", \"cruzeiro\", \"cruzeiro\", \"cubar\", \"cubar\", \"destaque\", \"destaque\", \"destinar\", \"destinar\", \"dia\", \"dia\", \"disney\", \"disney\", \"esqui\", \"esqui\", \"eua\", \"eua\", \"europa\", \"europa\", \"fechar\", \"fechar\", \"foto\", \"foto\", \"fot\\u00f3grafo\", \"fot\\u00f3grafo\", \"f\\u00e9ria\", \"f\\u00e9ria\", \"ganhar\", \"ganhar\", \"hist\\u00f3ria\", \"hist\\u00f3ria\", \"hotel\", \"hotel\", \"ilhar\", \"ilhar\", \"imagem\", \"imagem\", \"inaugurar\", \"inaugurar\", \"it\\u00e1lia\", \"it\\u00e1lia\", \"lan\\u00e7ar\", \"lan\\u00e7ar\", \"levar\", \"levar\", \"londres\", \"londres\", \"melhor\", \"melhor\", \"mostrar\", \"mostrar\", \"mundo\", \"mundo\", \"museu\", \"museu\", \"norte\", \"norte\", \"oferecer\", \"oferecer\", \"pacote\", \"pacote\", \"paisagem\", \"paisagem\", \"parir\", \"parir\", \"parque\", \"parque\", \"passar\", \"passar\", \"passear\", \"passear\", \"paulo\", \"paulo\", \"pa\\u00eds\", \"pa\\u00eds\", \"permitir\", \"permitir\", \"praia\", \"praia\", \"registrar\", \"registrar\", \"rir\", \"rir\", \"roteiro\", \"roteiro\", \"roto\", \"roto\", \"site\", \"site\", \"sp\", \"sp\", \"sul\", \"sul\", \"turismo\", \"turismo\", \"turista\", \"turista\", \"tur\\u00edstico\", \"tur\\u00edstico\", \"viagem\", \"viagem\", \"viajar\", \"viajar\", \"vinho\", \"vinho\", \"virar\", \"virar\", \"visitante\", \"visitante\", \"visitar\", \"visitar\"]}, \"R\": 30, \"lambda.step\": 0.01, \"plot.opts\": {\"xlab\": \"PC1\", \"ylab\": \"PC2\"}, \"topic.order\": [1, 2]};\n",
       "\n",
       "function LDAvis_load_lib(url, callback){\n",
       "  var s = document.createElement('script');\n",
       "  s.src = url;\n",
       "  s.async = true;\n",
       "  s.onreadystatechange = s.onload = callback;\n",
       "  s.onerror = function(){console.warn(\"failed to load library \" + url);};\n",
       "  document.getElementsByTagName(\"head\")[0].appendChild(s);\n",
       "}\n",
       "\n",
       "if(typeof(LDAvis) !== \"undefined\"){\n",
       "   // already loaded: just create the visualization\n",
       "   !function(LDAvis){\n",
       "       new LDAvis(\"#\" + \"ldavis_el416161403622471261443500614500\", ldavis_el416161403622471261443500614500_data);\n",
       "   }(LDAvis);\n",
       "}else if(typeof define === \"function\" && define.amd){\n",
       "   // require.js is available: use it to load d3/LDAvis\n",
       "   require.config({paths: {d3: \"https://d3js.org/d3.v5\"}});\n",
       "   require([\"d3\"], function(d3){\n",
       "      window.d3 = d3;\n",
       "      LDAvis_load_lib(\"https://cdn.jsdelivr.net/gh/bmabey/pyLDAvis@3.2.2/pyLDAvis/js/ldavis.v3.0.0.js\", function(){\n",
       "        new LDAvis(\"#\" + \"ldavis_el416161403622471261443500614500\", ldavis_el416161403622471261443500614500_data);\n",
       "      });\n",
       "    });\n",
       "}else{\n",
       "    // require.js not available: dynamically load d3 & LDAvis\n",
       "    LDAvis_load_lib(\"https://d3js.org/d3.v5.js\", function(){\n",
       "         LDAvis_load_lib(\"https://cdn.jsdelivr.net/gh/bmabey/pyLDAvis@3.2.2/pyLDAvis/js/ldavis.v3.0.0.js\", function(){\n",
       "                 new LDAvis(\"#\" + \"ldavis_el416161403622471261443500614500\", ldavis_el416161403622471261443500614500_data);\n",
       "            })\n",
       "         });\n",
       "}\n",
       "</script>"
      ],
      "text/plain": [
       "PreparedData(topic_coordinates=               x           y  topics  cluster       Freq\n",
       "topic                                                   \n",
       "0     -60.312317  141.369629       1        1  50.346811\n",
       "1      60.312561 -141.369141       2        1  49.653189, topic_info=          Term        Freq       Total Category  logprob  loglift\n",
       "214    turista  189.000000  189.000000  Default  30.0000  30.0000\n",
       "213    turismo  113.000000  113.000000  Default  29.0000  29.0000\n",
       "221     viagem  114.000000  114.000000  Default  28.0000  28.0000\n",
       "103  fotógrafo  101.000000  101.000000  Default  27.0000  27.0000\n",
       "114      hotel  105.000000  105.000000  Default  26.0000  26.0000\n",
       "..         ...         ...         ...      ...      ...      ...\n",
       "102       foto   31.375689   32.520107   Topic2  -4.4908   0.6643\n",
       "26    atrações   34.392611   35.807635   Topic2  -4.3990   0.6598\n",
       "139      museu   51.176851   74.082381   Topic2  -4.0015   0.3302\n",
       "162       país   39.752720   54.749798   Topic2  -4.2541   0.3800\n",
       "200        sul   29.738448   35.025981   Topic2  -4.5444   0.5365\n",
       "\n",
       "[104 rows x 6 columns], token_table=      Topic      Freq       Term\n",
       "term                            \n",
       "6         1  0.967124      abrir\n",
       "6         2  0.032237      abrir\n",
       "9         1  0.987582     airbnb\n",
       "9         2  0.039503     airbnb\n",
       "11        1  0.977796       alto\n",
       "...     ...       ...        ...\n",
       "227       2  0.136122      virar\n",
       "228       1  0.036091  visitante\n",
       "228       2  0.974449  visitante\n",
       "229       1  0.934896    visitar\n",
       "229       2  0.035958    visitar\n",
       "\n",
       "[148 rows x 3 columns], R=30, lambda_step=0.01, plot_opts={'xlab': 'PC1', 'ylab': 'PC2'}, topic_order=[1, 2])"
      ]
     },
     "execution_count": 94,
     "metadata": {},
     "output_type": "execute_result"
    }
   ],
   "source": [
    "import pyLDAvis.sklearn\n",
    "\n",
    "pyLDAvis.enable_notebook()\n",
    "dash = pyLDAvis.sklearn.prepare(lda, data_vectorized, vectorizer, mds='tsne')\n",
    "dash"
   ]
  },
  {
   "cell_type": "code",
   "execution_count": null,
   "metadata": {
    "id": "UaavQ2fx7bIW"
   },
   "outputs": [],
   "source": [
    "\n"
   ]
  },
  {
   "cell_type": "code",
   "execution_count": null,
   "metadata": {},
   "outputs": [],
   "source": []
  }
 ],
 "metadata": {
  "colab": {
   "collapsed_sections": [],
   "name": "[PUCRS] Demo01: Text Analytics.ipynb",
   "provenance": []
  },
  "kernelspec": {
   "display_name": "Python 3",
   "language": "python",
   "name": "python3"
  },
  "language_info": {
   "codemirror_mode": {
    "name": "ipython",
    "version": 3
   },
   "file_extension": ".py",
   "mimetype": "text/x-python",
   "name": "python",
   "nbconvert_exporter": "python",
   "pygments_lexer": "ipython3",
   "version": "3.8.3"
  }
 },
 "nbformat": 4,
 "nbformat_minor": 4
}
