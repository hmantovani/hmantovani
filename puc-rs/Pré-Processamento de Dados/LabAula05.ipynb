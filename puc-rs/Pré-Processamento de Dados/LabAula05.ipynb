{
 "cells": [
  {
   "cell_type": "markdown",
   "metadata": {},
   "source": [
    "# Instalação e importação das bibliotecas"
   ]
  },
  {
   "cell_type": "markdown",
   "metadata": {},
   "source": [
    "NLTK (natural language toolkit) é uma biblioteca muito utilizada em aplicações de PLN\n",
    "\n",
    "Trata-se de um corpus linguístico muito popular na comunidade python."
   ]
  },
  {
   "cell_type": "markdown",
   "metadata": {},
   "source": [
    "#### Antes de qualquer coisa é preciso instalar o NLTK:"
   ]
  },
  {
   "cell_type": "code",
   "execution_count": 22,
   "metadata": {},
   "outputs": [],
   "source": [
    "# EXECUTE O TRECHO ABAIXO NO TEMMINAL DO JUPYTER\n",
    "!conda install nltk"
   ]
  },
  {
   "cell_type": "code",
   "execution_count": 23,
   "metadata": {},
   "outputs": [],
   "source": [
    "# IMPORT/DOWNLOAD DO NLTK\n",
    "# AO EXECUTAR ESSE TRECHO, UMA JANELA SE ABRIRÁ, SELECIONE ALL E CONFIRME O DOWNLOAD (PODE DEMORAR UM POUCO)\n",
    "# SE VOCÊ JÁ TEM NLTK BAIXADO, IGNORE A LINHA DE DOWNLOAD\n",
    "import nltk\n",
    "nltk.download()"
   ]
  },
  {
   "cell_type": "code",
   "execution_count": 2,
   "metadata": {},
   "outputs": [],
   "source": [
    "# IMPORTANDO DEMAIS BIBLIOTECAS\n",
    "import numpy as np\n",
    "import pandas as pd\n",
    "import seaborn as sns\n",
    "import matplotlib.pyplot as plt"
   ]
  },
  {
   "cell_type": "markdown",
   "metadata": {},
   "source": [
    "# Obtendo os dados"
   ]
  },
  {
   "cell_type": "markdown",
   "metadata": {},
   "source": [
    "Para exemplificar um pipeline básico de PLN vamos usar o dataset de mensagens (spam/não spam) da comunidade de machine learning da UCI (University of California, Irvine)."
   ]
  },
  {
   "cell_type": "code",
   "execution_count": 4,
   "metadata": {},
   "outputs": [
    {
     "data": {
      "text/html": [
       "<div>\n",
       "<style scoped>\n",
       "    .dataframe tbody tr th:only-of-type {\n",
       "        vertical-align: middle;\n",
       "    }\n",
       "\n",
       "    .dataframe tbody tr th {\n",
       "        vertical-align: top;\n",
       "    }\n",
       "\n",
       "    .dataframe thead th {\n",
       "        text-align: right;\n",
       "    }\n",
       "</style>\n",
       "<table border=\"1\" class=\"dataframe\">\n",
       "  <thead>\n",
       "    <tr style=\"text-align: right;\">\n",
       "      <th></th>\n",
       "      <th>LABEL</th>\n",
       "      <th>MENSAGEM</th>\n",
       "    </tr>\n",
       "  </thead>\n",
       "  <tbody>\n",
       "    <tr>\n",
       "      <th>0</th>\n",
       "      <td>ham</td>\n",
       "      <td>Go until jurong point, crazy.. Available only ...</td>\n",
       "    </tr>\n",
       "    <tr>\n",
       "      <th>1</th>\n",
       "      <td>ham</td>\n",
       "      <td>Ok lar... Joking wif u oni...</td>\n",
       "    </tr>\n",
       "    <tr>\n",
       "      <th>2</th>\n",
       "      <td>spam</td>\n",
       "      <td>Free entry in 2 a wkly comp to win FA Cup fina...</td>\n",
       "    </tr>\n",
       "    <tr>\n",
       "      <th>3</th>\n",
       "      <td>ham</td>\n",
       "      <td>U dun say so early hor... U c already then say...</td>\n",
       "    </tr>\n",
       "    <tr>\n",
       "      <th>4</th>\n",
       "      <td>ham</td>\n",
       "      <td>Nah I don't think he goes to usf, he lives aro...</td>\n",
       "    </tr>\n",
       "  </tbody>\n",
       "</table>\n",
       "</div>"
      ],
      "text/plain": [
       "  LABEL                                           MENSAGEM\n",
       "0   ham  Go until jurong point, crazy.. Available only ...\n",
       "1   ham                      Ok lar... Joking wif u oni...\n",
       "2  spam  Free entry in 2 a wkly comp to win FA Cup fina...\n",
       "3   ham  U dun say so early hor... U c already then say...\n",
       "4   ham  Nah I don't think he goes to usf, he lives aro..."
      ]
     },
     "execution_count": 4,
     "metadata": {},
     "output_type": "execute_result"
    }
   ],
   "source": [
    "# ARQUIVO SEPARADO POR TABULAÇÃO (sep='\\t')\n",
    "ms = pd.read_csv('SPAM.csv', sep='\\t', names=['LABEL', 'MENSAGEM'])\n",
    "ms.head()"
   ]
  },
  {
   "cell_type": "code",
   "execution_count": 41,
   "metadata": {},
   "outputs": [
    {
     "data": {
      "text/html": [
       "<div>\n",
       "<style scoped>\n",
       "    .dataframe tbody tr th:only-of-type {\n",
       "        vertical-align: middle;\n",
       "    }\n",
       "\n",
       "    .dataframe tbody tr th {\n",
       "        vertical-align: top;\n",
       "    }\n",
       "\n",
       "    .dataframe thead th {\n",
       "        text-align: right;\n",
       "    }\n",
       "</style>\n",
       "<table border=\"1\" class=\"dataframe\">\n",
       "  <thead>\n",
       "    <tr style=\"text-align: right;\">\n",
       "      <th></th>\n",
       "      <th>LABEL</th>\n",
       "      <th>MENSAGEM</th>\n",
       "      <th>TAMANHO_MS</th>\n",
       "      <th>TOT_PALAVRAS</th>\n",
       "    </tr>\n",
       "  </thead>\n",
       "  <tbody>\n",
       "    <tr>\n",
       "      <th>0</th>\n",
       "      <td>ham</td>\n",
       "      <td>Go until jurong point, crazy.. Available only ...</td>\n",
       "      <td>111</td>\n",
       "      <td>20</td>\n",
       "    </tr>\n",
       "    <tr>\n",
       "      <th>1</th>\n",
       "      <td>ham</td>\n",
       "      <td>Ok lar... Joking wif u oni...</td>\n",
       "      <td>29</td>\n",
       "      <td>6</td>\n",
       "    </tr>\n",
       "    <tr>\n",
       "      <th>2</th>\n",
       "      <td>spam</td>\n",
       "      <td>Free entry in 2 a wkly comp to win FA Cup fina...</td>\n",
       "      <td>155</td>\n",
       "      <td>28</td>\n",
       "    </tr>\n",
       "    <tr>\n",
       "      <th>3</th>\n",
       "      <td>ham</td>\n",
       "      <td>U dun say so early hor... U c already then say...</td>\n",
       "      <td>49</td>\n",
       "      <td>11</td>\n",
       "    </tr>\n",
       "    <tr>\n",
       "      <th>4</th>\n",
       "      <td>ham</td>\n",
       "      <td>Nah I don't think he goes to usf, he lives aro...</td>\n",
       "      <td>61</td>\n",
       "      <td>13</td>\n",
       "    </tr>\n",
       "  </tbody>\n",
       "</table>\n",
       "</div>"
      ],
      "text/plain": [
       "  LABEL                                           MENSAGEM  TAMANHO_MS  \\\n",
       "0   ham  Go until jurong point, crazy.. Available only ...         111   \n",
       "1   ham                      Ok lar... Joking wif u oni...          29   \n",
       "2  spam  Free entry in 2 a wkly comp to win FA Cup fina...         155   \n",
       "3   ham  U dun say so early hor... U c already then say...          49   \n",
       "4   ham  Nah I don't think he goes to usf, he lives aro...          61   \n",
       "\n",
       "   TOT_PALAVRAS  \n",
       "0            20  \n",
       "1             6  \n",
       "2            28  \n",
       "3            11  \n",
       "4            13  "
      ]
     },
     "execution_count": 41,
     "metadata": {},
     "output_type": "execute_result"
    }
   ],
   "source": [
    "# CRIANDO UMA VARIÁVEL COM O TAMANHO DA MENSAGEM\n",
    "ms['TAMANHO_MS'] = ms['MENSAGEM'].apply(len)\n",
    "\n",
    "# CRIANDO UMA VARIÁVEL COM A QUANTIDADE TOTAL DE PALAVRAS DA MENSAGEM\n",
    "ms['TOT_PALAVRAS'] = ms['MENSAGEM'].str.split().str.len()\n",
    "\n",
    "ms.head()"
   ]
  },
  {
   "cell_type": "markdown",
   "metadata": {},
   "source": [
    "# Análise exploratória inicial"
   ]
  },
  {
   "cell_type": "markdown",
   "metadata": {},
   "source": [
    "Verificando o balanceamento da amostra, percentualmente:"
   ]
  },
  {
   "cell_type": "code",
   "execution_count": 6,
   "metadata": {},
   "outputs": [
    {
     "data": {
      "text/plain": [
       "13.406317300789663"
      ]
     },
     "execution_count": 6,
     "metadata": {},
     "output_type": "execute_result"
    }
   ],
   "source": [
    "(ms[ms['LABEL'] == 'spam']['LABEL'].count() / ms['LABEL'].count())*100"
   ]
  },
  {
   "cell_type": "markdown",
   "metadata": {},
   "source": [
    "Distribuição de tamanho das mensagens\n",
    "\n",
    "Pelo visto abaixo, em geral spams carregam mensagens maiores!"
   ]
  },
  {
   "cell_type": "code",
   "execution_count": 7,
   "metadata": {},
   "outputs": [
    {
     "name": "stderr",
     "output_type": "stream",
     "text": [
      "C:\\ProgramData\\Anaconda3\\lib\\site-packages\\scipy\\stats\\stats.py:1713: FutureWarning: Using a non-tuple sequence for multidimensional indexing is deprecated; use `arr[tuple(seq)]` instead of `arr[seq]`. In the future this will be interpreted as an array index, `arr[np.array(seq)]`, which will result either in an error or a different result.\n",
      "  return np.add.reduce(sorted[indexer] * weights, axis=axis) / sumval\n"
     ]
    },
    {
     "data": {
      "text/plain": [
       "<matplotlib.axes._subplots.AxesSubplot at 0x22471e42b00>"
      ]
     },
     "execution_count": 7,
     "metadata": {},
     "output_type": "execute_result"
    },
    {
     "data": {
      "image/png": "[encoded data removed]",
      "text/plain": [
       "<Figure size 1080x576 with 1 Axes>"
      ]
     },
     "metadata": {},
     "output_type": "display_data"
    }
   ],
   "source": [
    "plt.rcParams.update({'font.size': 16})\n",
    "plt.figure(figsize=(15,8))\n",
    "sns.kdeplot(ms[ms['LABEL'] == 'spam']['TAMANHO_MS'], shade=True,label='SPAM', color='r').set_title('TAMANHO DAS MENSAGENS')\n",
    "sns.kdeplot(ms[ms['LABEL'] == 'ham']['TAMANHO_MS'], shade=True, label='NÃO SPAM', color='g')"
   ]
  },
  {
   "cell_type": "markdown",
   "metadata": {},
   "source": [
    "# Preparação de dados para mineração de texto"
   ]
  },
  {
   "cell_type": "markdown",
   "metadata": {},
   "source": [
    "## Tratando as pontuações e stopwords\n",
    "\n",
    "Vamos criar uma função que retire pontuações e stopwords.\n",
    "\n",
    "Além disso, na mesma função, vamos normalizar as palavras: tratamento das flexões (sufixos/prefixos), plurais, etc.\n",
    "\n",
    "Para pontuação a classe string do python possui um atributo chamado punctuation (basicamente é uma string de pontuações).\n",
    "\n",
    "Para os stopwords, corpus NLTK possui uma lista completa de palavras vazias (do inglês e outros idiomas).\n",
    "\n",
    "Na normalização vamos usar um método PorterStemmer da biblioteca stem."
   ]
  },
  {
   "cell_type": "code",
   "execution_count": 8,
   "metadata": {},
   "outputs": [
    {
     "data": {
      "text/plain": [
       "'!\"#$%&\\'()*+,-./:;<=>?@[\\\\]^_`{|}~'"
      ]
     },
     "execution_count": 8,
     "metadata": {},
     "output_type": "execute_result"
    }
   ],
   "source": [
    "# IMPORTANDO STRING (PARA PONTUAÇÕES)\n",
    "import string\n",
    "string.punctuation"
   ]
  },
  {
   "cell_type": "code",
   "execution_count": 9,
   "metadata": {},
   "outputs": [
    {
     "data": {
      "text/plain": [
       "['i', 'me', 'my', 'myself', 'we']"
      ]
     },
     "execution_count": 9,
     "metadata": {},
     "output_type": "execute_result"
    }
   ],
   "source": [
    "# IMPORTANDO OS STOPWORDS\n",
    "from nltk.corpus import stopwords\n",
    "# 5 EXEMPLOS DE STOP WORDS DO INGLÊS\n",
    "stopwords.words('english')[0:5]"
   ]
  },
  {
   "cell_type": "code",
   "execution_count": 10,
   "metadata": {},
   "outputs": [],
   "source": [
    "# IMPORTANDO A BIBLIOTECA PORTER STEMMER\n",
    "# VAMOS USA-LA PARA NORMALIZAR (STEMMING) OS TERMOS\n",
    "from nltk.stem import PorterStemmer "
   ]
  },
  {
   "cell_type": "code",
   "execution_count": 11,
   "metadata": {},
   "outputs": [],
   "source": [
    "# FUNÇÃO QUE APLICA AS TRANSFORMAÇÕES NO TEXTO\n",
    "def transfTexto(msg):\n",
    "    \n",
    "    # PARA CADA CARACTERE DA MENSAGEM FILTRA PONTUAÇÕES (not in string.punctuation)\n",
    "    semPont = [char for char in msg if char not in string.punctuation]\n",
    "\n",
    "    # JUNTA OS CARACTERES NOVAMENTE\n",
    "    semPont = ''.join(semPont)\n",
    "    \n",
    "    # REMOVE STOP WORDS\n",
    "    remStWords = [palavra for palavra in semPont.split() if palavra.lower() \n",
    "                  not in stopwords.words('english')]\n",
    "    \n",
    "    # NORMALIZA POR STEMMING E RETORNA O RESULTADO\n",
    "    st = PorterStemmer()\n",
    "    return [st.stem(stPalavra) for stPalavra in remStWords]\n"
   ]
  },
  {
   "cell_type": "code",
   "execution_count": 12,
   "metadata": {},
   "outputs": [
    {
     "data": {
      "text/plain": [
       "0    [Go, jurong, point, crazi, avail, bugi, n, gre...\n",
       "1                         [Ok, lar, joke, wif, u, oni]\n",
       "2    [free, entri, 2, wkli, comp, win, FA, cup, fin...\n",
       "3        [U, dun, say, earli, hor, U, c, alreadi, say]\n",
       "4    [nah, dont, think, goe, usf, live, around, tho...\n",
       "Name: MENSAGEM, dtype: object"
      ]
     },
     "execution_count": 12,
     "metadata": {},
     "output_type": "execute_result"
    }
   ],
   "source": [
    "# APLICANDO A FUNÇÃO DE TRANSFORMAÇÃO\n",
    "ms['MENSAGEM'].apply(transfTexto).head()"
   ]
  },
  {
   "cell_type": "markdown",
   "metadata": {},
   "source": [
    "## Vetorização do texto (Word Count)\n",
    "#### Passo 1: vetorizar\n",
    "A partir desse ponto, vamos peparar as mensagens para que fiquem apropriadas para tarefas de ML.\n",
    "\n",
    "Vamos usar a biblioteca feature_extraction do sklearn.\n",
    "\n",
    "Nessa biblioteca encontramos a classe CountVectorizer. Essa classe implementa a vetorização Word Count."
   ]
  },
  {
   "cell_type": "code",
   "execution_count": 13,
   "metadata": {},
   "outputs": [],
   "source": [
    "from sklearn.feature_extraction.text import CountVectorizer"
   ]
  },
  {
   "cell_type": "markdown",
   "metadata": {},
   "source": [
    "Como quase tudo no sklearn segue o pipeline fit/transform, aqui não é diferente.\n",
    "\n",
    "É preciso fitar um objeto a partir dos dados e na sequência usar esse objeto para transformar os dados que queremos.\n",
    "\n",
    "Vamos criar um objeto CountVectorizer chamado msVet a partir das mensagens. Depois usaremos esse mesmo objeto para transformar as mensagens."
   ]
  },
  {
   "cell_type": "code",
   "execution_count": 14,
   "metadata": {},
   "outputs": [],
   "source": [
    "# FITANDO UM OBJETO VETORIZADOR DE WORDCOUNT\n",
    "vetorizadorWC = CountVectorizer(analyzer=transfTexto).fit(ms['MENSAGEM'])"
   ]
  },
  {
   "cell_type": "code",
   "execution_count": 15,
   "metadata": {},
   "outputs": [],
   "source": [
    "# VETORIZANDO AS MENSAGENS\n",
    "msVetWC = vetorizadorWC.transform(ms['MENSAGEM'])"
   ]
  },
  {
   "cell_type": "markdown",
   "metadata": {},
   "source": [
    "Agora a nossa matriz esparsa usando wordcount sobre as mensagens.\n",
    "\n",
    "Ela se chama msVet, e tem 5K linhas por 11K colunas\n",
    "\n",
    "msVet não é visível no jupyter pois é um objeto compactado. Mas acredite, ele está lá..."
   ]
  },
  {
   "cell_type": "code",
   "execution_count": 16,
   "metadata": {},
   "outputs": [
    {
     "data": {
      "text/plain": [
       "(5572, 8309)"
      ]
     },
     "execution_count": 16,
     "metadata": {},
     "output_type": "execute_result"
    }
   ],
   "source": [
    "msVetWC.shape"
   ]
  },
  {
   "cell_type": "markdown",
   "metadata": {},
   "source": [
    "#### Passo 2: criando o DF para aplicação de ML\n",
    "Nossa variável de desfecho (LABEL) não está no objeto vetorizado.\n",
    "\n",
    "Precisamos unir as coisas agora, uma vez que o desfecho é a variável que vamos usar para a classificação (spam/não spam).\n",
    "\n",
    "O bloco abaixo une a matriz esparsa (vetorizada) com o LABEL das mensagens."
   ]
  },
  {
   "cell_type": "code",
   "execution_count": 17,
   "metadata": {},
   "outputs": [
    {
     "data": {
      "text/html": [
       "<div>\n",
       "<style scoped>\n",
       "    .dataframe tbody tr th:only-of-type {\n",
       "        vertical-align: middle;\n",
       "    }\n",
       "\n",
       "    .dataframe tbody tr th {\n",
       "        vertical-align: top;\n",
       "    }\n",
       "\n",
       "    .dataframe thead th {\n",
       "        text-align: right;\n",
       "    }\n",
       "</style>\n",
       "<table border=\"1\" class=\"dataframe\">\n",
       "  <thead>\n",
       "    <tr style=\"text-align: right;\">\n",
       "      <th></th>\n",
       "      <th>LABEL</th>\n",
       "      <th>0</th>\n",
       "      <th>008704050406</th>\n",
       "      <th>0089mi</th>\n",
       "      <th>0121</th>\n",
       "      <th>01223585236</th>\n",
       "      <th>01223585334</th>\n",
       "      <th>0125698789</th>\n",
       "      <th>02</th>\n",
       "      <th>020603</th>\n",
       "      <th>...</th>\n",
       "      <th>»10</th>\n",
       "      <th>Ü</th>\n",
       "      <th>é</th>\n",
       "      <th>ü</th>\n",
       "      <th>üll</th>\n",
       "      <th>–</th>\n",
       "      <th>“</th>\n",
       "      <th>“harri</th>\n",
       "      <th>…</th>\n",
       "      <th>…thank</th>\n",
       "    </tr>\n",
       "  </thead>\n",
       "  <tbody>\n",
       "    <tr>\n",
       "      <th>0</th>\n",
       "      <td>ham</td>\n",
       "      <td>0</td>\n",
       "      <td>0</td>\n",
       "      <td>0</td>\n",
       "      <td>0</td>\n",
       "      <td>0</td>\n",
       "      <td>0</td>\n",
       "      <td>0</td>\n",
       "      <td>0</td>\n",
       "      <td>0</td>\n",
       "      <td>...</td>\n",
       "      <td>0</td>\n",
       "      <td>0</td>\n",
       "      <td>0</td>\n",
       "      <td>0</td>\n",
       "      <td>0</td>\n",
       "      <td>0</td>\n",
       "      <td>0</td>\n",
       "      <td>0</td>\n",
       "      <td>0</td>\n",
       "      <td>0</td>\n",
       "    </tr>\n",
       "    <tr>\n",
       "      <th>1</th>\n",
       "      <td>ham</td>\n",
       "      <td>0</td>\n",
       "      <td>0</td>\n",
       "      <td>0</td>\n",
       "      <td>0</td>\n",
       "      <td>0</td>\n",
       "      <td>0</td>\n",
       "      <td>0</td>\n",
       "      <td>0</td>\n",
       "      <td>0</td>\n",
       "      <td>...</td>\n",
       "      <td>0</td>\n",
       "      <td>0</td>\n",
       "      <td>0</td>\n",
       "      <td>0</td>\n",
       "      <td>0</td>\n",
       "      <td>0</td>\n",
       "      <td>0</td>\n",
       "      <td>0</td>\n",
       "      <td>0</td>\n",
       "      <td>0</td>\n",
       "    </tr>\n",
       "    <tr>\n",
       "      <th>2</th>\n",
       "      <td>spam</td>\n",
       "      <td>0</td>\n",
       "      <td>0</td>\n",
       "      <td>0</td>\n",
       "      <td>0</td>\n",
       "      <td>0</td>\n",
       "      <td>0</td>\n",
       "      <td>0</td>\n",
       "      <td>0</td>\n",
       "      <td>0</td>\n",
       "      <td>...</td>\n",
       "      <td>0</td>\n",
       "      <td>0</td>\n",
       "      <td>0</td>\n",
       "      <td>0</td>\n",
       "      <td>0</td>\n",
       "      <td>0</td>\n",
       "      <td>0</td>\n",
       "      <td>0</td>\n",
       "      <td>0</td>\n",
       "      <td>0</td>\n",
       "    </tr>\n",
       "    <tr>\n",
       "      <th>3</th>\n",
       "      <td>ham</td>\n",
       "      <td>0</td>\n",
       "      <td>0</td>\n",
       "      <td>0</td>\n",
       "      <td>0</td>\n",
       "      <td>0</td>\n",
       "      <td>0</td>\n",
       "      <td>0</td>\n",
       "      <td>0</td>\n",
       "      <td>0</td>\n",
       "      <td>...</td>\n",
       "      <td>0</td>\n",
       "      <td>0</td>\n",
       "      <td>0</td>\n",
       "      <td>0</td>\n",
       "      <td>0</td>\n",
       "      <td>0</td>\n",
       "      <td>0</td>\n",
       "      <td>0</td>\n",
       "      <td>0</td>\n",
       "      <td>0</td>\n",
       "    </tr>\n",
       "    <tr>\n",
       "      <th>4</th>\n",
       "      <td>ham</td>\n",
       "      <td>0</td>\n",
       "      <td>0</td>\n",
       "      <td>0</td>\n",
       "      <td>0</td>\n",
       "      <td>0</td>\n",
       "      <td>0</td>\n",
       "      <td>0</td>\n",
       "      <td>0</td>\n",
       "      <td>0</td>\n",
       "      <td>...</td>\n",
       "      <td>0</td>\n",
       "      <td>0</td>\n",
       "      <td>0</td>\n",
       "      <td>0</td>\n",
       "      <td>0</td>\n",
       "      <td>0</td>\n",
       "      <td>0</td>\n",
       "      <td>0</td>\n",
       "      <td>0</td>\n",
       "      <td>0</td>\n",
       "    </tr>\n",
       "  </tbody>\n",
       "</table>\n",
       "<p>5 rows × 8310 columns</p>\n",
       "</div>"
      ],
      "text/plain": [
       "  LABEL  0  008704050406  0089mi  0121  01223585236  01223585334  0125698789  \\\n",
       "0   ham  0             0       0     0            0            0           0   \n",
       "1   ham  0             0       0     0            0            0           0   \n",
       "2  spam  0             0       0     0            0            0           0   \n",
       "3   ham  0             0       0     0            0            0           0   \n",
       "4   ham  0             0       0     0            0            0           0   \n",
       "\n",
       "   02  020603   ...    »10  Ü  é  ü  üll  –  “  “harri  …  …thank  \n",
       "0   0       0   ...      0  0  0  0    0  0  0       0  0       0  \n",
       "1   0       0   ...      0  0  0  0    0  0  0       0  0       0  \n",
       "2   0       0   ...      0  0  0  0    0  0  0       0  0       0  \n",
       "3   0       0   ...      0  0  0  0    0  0  0       0  0       0  \n",
       "4   0       0   ...      0  0  0  0    0  0  0       0  0       0  \n",
       "\n",
       "[5 rows x 8310 columns]"
      ]
     },
     "execution_count": 17,
     "metadata": {},
     "output_type": "execute_result"
    }
   ],
   "source": [
    "# PRIMEIRO É PRECISO TRANSFORMAR EM DATAFRAME A MATRIZ ESPARSA (OBJETO COMPACTADO)\n",
    "msVetWCPandas = pd.DataFrame(msVetWC.todense(), columns=vetorizadorWC.get_feature_names())\n",
    "\n",
    "# CONCATENANDO... (msWC = MENSAGENS USANDO WORD COUNT)\n",
    "msWC = pd.concat([ms['LABEL'], msVetWCPandas], axis=1)\n",
    "\n",
    "msWC.head()"
   ]
  },
  {
   "cell_type": "markdown",
   "metadata": {},
   "source": [
    "## Vetorização do texto para TF-IDF\n",
    "#### Passo 1: vetorizar\n",
    "\n",
    "Idem a vetorização que fizemos a partir do word count, agora vamos criar uma nova vetorização baseada em TF-IDF.\n",
    "\n",
    "Sklearn possui uma biblioteca específica para TF-IDF, chamada TfidfTransformer.\n",
    "\n",
    "A dinâmica aqui é a mesma que vimos em Word Count, a diferença é que para calcularmos TF-IDF utilizamos a matriz espasa de Word Cound como input.\n",
    "\n",
    "Sim! É preciso vetorizar por Word Count para depois aplicar TF-IDF!...\n",
    "\n",
    "O pipeline é semelhante:\n",
    "\n",
    "- Fitamos um objeto CountVectorizer\n",
    "\n",
    "- Criamos um novo objeto (matriz esparsa) transformando os dados com o objeto fitado.\n",
    "\n",
    "- Convertemos a matriz esparsa (vetorizada) para um frame pandas, para que possamos seguir trabalhando...\n"
   ]
  },
  {
   "cell_type": "code",
   "execution_count": 18,
   "metadata": {},
   "outputs": [
    {
     "data": {
      "text/plain": [
       "(5572, 8309)"
      ]
     },
     "execution_count": 18,
     "metadata": {},
     "output_type": "execute_result"
    }
   ],
   "source": [
    "from sklearn.feature_extraction.text import TfidfTransformer\n",
    "\n",
    "# CRIANDO O OBJETO VETORIZADOR\n",
    "vetorizadorTFIDF = TfidfTransformer().fit(msVetWC)\n",
    "\n",
    "# VETORIZANDO...\n",
    "msVetTFIDF = vetorizadorTFIDF.transform(msVetWC)\n",
    "\n",
    "# FORMATO\n",
    "msVetTFIDF.shape"
   ]
  },
  {
   "cell_type": "markdown",
   "metadata": {},
   "source": [
    "Pronto! Agora temos um falor de TF-IDF para cada termo para cada bow do corpus.\n",
    "\n",
    "Seguimos em frente..."
   ]
  },
  {
   "cell_type": "markdown",
   "metadata": {},
   "source": [
    "#### Passo 2: criando o DF para aplicação de ML\n",
    "Nossa variável de desfecho (LABEL) não está no objeto vetorizado.\n",
    "\n",
    "Precisamos unir as coisas agora, uma vez que o desfecho é a variável que vamos usar para a classificação (spam/não spam).\n",
    "\n",
    "O bloco abaixo une a matriz esparsa (vetorizada) com o LABEL das mensagens."
   ]
  },
  {
   "cell_type": "code",
   "execution_count": 19,
   "metadata": {},
   "outputs": [
    {
     "data": {
      "text/html": [
       "<div>\n",
       "<style scoped>\n",
       "    .dataframe tbody tr th:only-of-type {\n",
       "        vertical-align: middle;\n",
       "    }\n",
       "\n",
       "    .dataframe tbody tr th {\n",
       "        vertical-align: top;\n",
       "    }\n",
       "\n",
       "    .dataframe thead th {\n",
       "        text-align: right;\n",
       "    }\n",
       "</style>\n",
       "<table border=\"1\" class=\"dataframe\">\n",
       "  <thead>\n",
       "    <tr style=\"text-align: right;\">\n",
       "      <th></th>\n",
       "      <th>LABEL</th>\n",
       "      <th>0</th>\n",
       "      <th>008704050406</th>\n",
       "      <th>0089mi</th>\n",
       "      <th>0121</th>\n",
       "      <th>01223585236</th>\n",
       "      <th>01223585334</th>\n",
       "      <th>0125698789</th>\n",
       "      <th>02</th>\n",
       "      <th>020603</th>\n",
       "      <th>...</th>\n",
       "      <th>»10</th>\n",
       "      <th>Ü</th>\n",
       "      <th>é</th>\n",
       "      <th>ü</th>\n",
       "      <th>üll</th>\n",
       "      <th>–</th>\n",
       "      <th>“</th>\n",
       "      <th>“harri</th>\n",
       "      <th>…</th>\n",
       "      <th>…thank</th>\n",
       "    </tr>\n",
       "  </thead>\n",
       "  <tbody>\n",
       "    <tr>\n",
       "      <th>0</th>\n",
       "      <td>ham</td>\n",
       "      <td>0.0</td>\n",
       "      <td>0.0</td>\n",
       "      <td>0.0</td>\n",
       "      <td>0.0</td>\n",
       "      <td>0.0</td>\n",
       "      <td>0.0</td>\n",
       "      <td>0.0</td>\n",
       "      <td>0.0</td>\n",
       "      <td>0.0</td>\n",
       "      <td>...</td>\n",
       "      <td>0.0</td>\n",
       "      <td>0.0</td>\n",
       "      <td>0.0</td>\n",
       "      <td>0.0</td>\n",
       "      <td>0.0</td>\n",
       "      <td>0.0</td>\n",
       "      <td>0.0</td>\n",
       "      <td>0.0</td>\n",
       "      <td>0.0</td>\n",
       "      <td>0.0</td>\n",
       "    </tr>\n",
       "    <tr>\n",
       "      <th>1</th>\n",
       "      <td>ham</td>\n",
       "      <td>0.0</td>\n",
       "      <td>0.0</td>\n",
       "      <td>0.0</td>\n",
       "      <td>0.0</td>\n",
       "      <td>0.0</td>\n",
       "      <td>0.0</td>\n",
       "      <td>0.0</td>\n",
       "      <td>0.0</td>\n",
       "      <td>0.0</td>\n",
       "      <td>...</td>\n",
       "      <td>0.0</td>\n",
       "      <td>0.0</td>\n",
       "      <td>0.0</td>\n",
       "      <td>0.0</td>\n",
       "      <td>0.0</td>\n",
       "      <td>0.0</td>\n",
       "      <td>0.0</td>\n",
       "      <td>0.0</td>\n",
       "      <td>0.0</td>\n",
       "      <td>0.0</td>\n",
       "    </tr>\n",
       "    <tr>\n",
       "      <th>2</th>\n",
       "      <td>spam</td>\n",
       "      <td>0.0</td>\n",
       "      <td>0.0</td>\n",
       "      <td>0.0</td>\n",
       "      <td>0.0</td>\n",
       "      <td>0.0</td>\n",
       "      <td>0.0</td>\n",
       "      <td>0.0</td>\n",
       "      <td>0.0</td>\n",
       "      <td>0.0</td>\n",
       "      <td>...</td>\n",
       "      <td>0.0</td>\n",
       "      <td>0.0</td>\n",
       "      <td>0.0</td>\n",
       "      <td>0.0</td>\n",
       "      <td>0.0</td>\n",
       "      <td>0.0</td>\n",
       "      <td>0.0</td>\n",
       "      <td>0.0</td>\n",
       "      <td>0.0</td>\n",
       "      <td>0.0</td>\n",
       "    </tr>\n",
       "    <tr>\n",
       "      <th>3</th>\n",
       "      <td>ham</td>\n",
       "      <td>0.0</td>\n",
       "      <td>0.0</td>\n",
       "      <td>0.0</td>\n",
       "      <td>0.0</td>\n",
       "      <td>0.0</td>\n",
       "      <td>0.0</td>\n",
       "      <td>0.0</td>\n",
       "      <td>0.0</td>\n",
       "      <td>0.0</td>\n",
       "      <td>...</td>\n",
       "      <td>0.0</td>\n",
       "      <td>0.0</td>\n",
       "      <td>0.0</td>\n",
       "      <td>0.0</td>\n",
       "      <td>0.0</td>\n",
       "      <td>0.0</td>\n",
       "      <td>0.0</td>\n",
       "      <td>0.0</td>\n",
       "      <td>0.0</td>\n",
       "      <td>0.0</td>\n",
       "    </tr>\n",
       "    <tr>\n",
       "      <th>4</th>\n",
       "      <td>ham</td>\n",
       "      <td>0.0</td>\n",
       "      <td>0.0</td>\n",
       "      <td>0.0</td>\n",
       "      <td>0.0</td>\n",
       "      <td>0.0</td>\n",
       "      <td>0.0</td>\n",
       "      <td>0.0</td>\n",
       "      <td>0.0</td>\n",
       "      <td>0.0</td>\n",
       "      <td>...</td>\n",
       "      <td>0.0</td>\n",
       "      <td>0.0</td>\n",
       "      <td>0.0</td>\n",
       "      <td>0.0</td>\n",
       "      <td>0.0</td>\n",
       "      <td>0.0</td>\n",
       "      <td>0.0</td>\n",
       "      <td>0.0</td>\n",
       "      <td>0.0</td>\n",
       "      <td>0.0</td>\n",
       "    </tr>\n",
       "  </tbody>\n",
       "</table>\n",
       "<p>5 rows × 8310 columns</p>\n",
       "</div>"
      ],
      "text/plain": [
       "  LABEL    0  008704050406  0089mi  0121  01223585236  01223585334  \\\n",
       "0   ham  0.0           0.0     0.0   0.0          0.0          0.0   \n",
       "1   ham  0.0           0.0     0.0   0.0          0.0          0.0   \n",
       "2  spam  0.0           0.0     0.0   0.0          0.0          0.0   \n",
       "3   ham  0.0           0.0     0.0   0.0          0.0          0.0   \n",
       "4   ham  0.0           0.0     0.0   0.0          0.0          0.0   \n",
       "\n",
       "   0125698789   02  020603   ...    »10    Ü    é    ü  üll    –    “  “harri  \\\n",
       "0         0.0  0.0     0.0   ...    0.0  0.0  0.0  0.0  0.0  0.0  0.0     0.0   \n",
       "1         0.0  0.0     0.0   ...    0.0  0.0  0.0  0.0  0.0  0.0  0.0     0.0   \n",
       "2         0.0  0.0     0.0   ...    0.0  0.0  0.0  0.0  0.0  0.0  0.0     0.0   \n",
       "3         0.0  0.0     0.0   ...    0.0  0.0  0.0  0.0  0.0  0.0  0.0     0.0   \n",
       "4         0.0  0.0     0.0   ...    0.0  0.0  0.0  0.0  0.0  0.0  0.0     0.0   \n",
       "\n",
       "     …  …thank  \n",
       "0  0.0     0.0  \n",
       "1  0.0     0.0  \n",
       "2  0.0     0.0  \n",
       "3  0.0     0.0  \n",
       "4  0.0     0.0  \n",
       "\n",
       "[5 rows x 8310 columns]"
      ]
     },
     "execution_count": 19,
     "metadata": {},
     "output_type": "execute_result"
    }
   ],
   "source": [
    "# PRIMEIRO É PRECISO TRANSFORMAR EM DATAFRAME A MATRIZ ESPARSA (OBJETO COMPACTADO)\n",
    "msVetTFIDFPandas = pd.DataFrame(msVetTFIDF.todense(), columns=vetorizadorWC.get_feature_names())\n",
    "\n",
    "# CONCATENANDO... (msTFIDF = MENSAGENS USANDO TFIDF)\n",
    "msTFIDF = pd.concat([ms['LABEL'], msVetTFIDFPandas], axis=1)\n",
    "\n",
    "msTFIDF.head()"
   ]
  },
  {
   "cell_type": "markdown",
   "metadata": {},
   "source": [
    "#### Adicionalmente, podemos visualizar os resultados de TF-IDF de cada termo em relação a todo o corpus:"
   ]
  },
  {
   "cell_type": "code",
   "execution_count": 42,
   "metadata": {},
   "outputs": [
    {
     "data": {
      "text/html": [
       "<div>\n",
       "<style scoped>\n",
       "    .dataframe tbody tr th:only-of-type {\n",
       "        vertical-align: middle;\n",
       "    }\n",
       "\n",
       "    .dataframe tbody tr th {\n",
       "        vertical-align: top;\n",
       "    }\n",
       "\n",
       "    .dataframe thead th {\n",
       "        text-align: right;\n",
       "    }\n",
       "</style>\n",
       "<table border=\"1\" class=\"dataframe\">\n",
       "  <thead>\n",
       "    <tr style=\"text-align: right;\">\n",
       "      <th></th>\n",
       "      <th>TF-IDF</th>\n",
       "    </tr>\n",
       "  </thead>\n",
       "  <tbody>\n",
       "    <tr>\n",
       "      <th>…thank</th>\n",
       "      <td>8.932542</td>\n",
       "    </tr>\n",
       "    <tr>\n",
       "      <th>hellohow</th>\n",
       "      <td>8.932542</td>\n",
       "    </tr>\n",
       "    <tr>\n",
       "      <th>hersh</th>\n",
       "      <td>8.932542</td>\n",
       "    </tr>\n",
       "    <tr>\n",
       "      <th>heron</th>\n",
       "      <td>8.932542</td>\n",
       "    </tr>\n",
       "    <tr>\n",
       "      <th>heroi</th>\n",
       "      <td>8.932542</td>\n",
       "    </tr>\n",
       "  </tbody>\n",
       "</table>\n",
       "</div>"
      ],
      "text/plain": [
       "            TF-IDF\n",
       "…thank    8.932542\n",
       "hellohow  8.932542\n",
       "hersh     8.932542\n",
       "heron     8.932542\n",
       "heroi     8.932542"
      ]
     },
     "execution_count": 42,
     "metadata": {},
     "output_type": "execute_result"
    }
   ],
   "source": [
    "# DEFINIMOS COMO INDICE OS TERMOS (BUSCAMOS DO OBJETO TREINADO ANTERIORMENTE NO WC)\n",
    "msTFIDF = pd.DataFrame(vetorizadorTFIDF.idf_, index=vetorizadorWC.get_feature_names(),columns=['TF-IDF'])\n",
    " \n",
    "# TEMOS UM VALORE DE TF-IDF PARA CADA TEMRO DISTINTO DO CORPUS...\n",
    "msTFIDF.sort_values(by=['TF-IDF'], ascending = False).head()"
   ]
  },
  {
   "cell_type": "markdown",
   "metadata": {},
   "source": [
    "### Pronto!!\n",
    "Agora temos dois datasets prontos para iniciar os trabalhos de ML: um WC (msWC) e outro TF-IDF (msTFIDF).\n",
    "\n",
    "Obviamente o dataset vetorizado construído por WC resultará em um modelo inferior em relação ao TF-IDF. Será mesmo?\n",
    "\n",
    "Nesse contexto, nossa objetivo é criar um fitro de spams, vamos em frente?..\n",
    "\n",
    "-----------------------------"
   ]
  },
  {
   "cell_type": "code",
   "execution_count": null,
   "metadata": {},
   "outputs": [],
   "source": []
  }
 ],
 "metadata": {
  "kernelspec": {
   "display_name": "Python 3",
   "language": "python",
   "name": "python3"
  },
  "language_info": {
   "codemirror_mode": {
    "name": "ipython",
    "version": 3
   },
   "file_extension": ".py",
   "mimetype": "text/x-python",
   "name": "python",
   "nbconvert_exporter": "python",
   "pygments_lexer": "ipython3",
   "version": "3.8.3"
  }
 },
 "nbformat": 4,
 "nbformat_minor": 4
}
