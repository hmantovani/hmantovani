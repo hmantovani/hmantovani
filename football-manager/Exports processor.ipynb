{
 "cells": [
  {
   "cell_type": "code",
   "execution_count": 1,
   "metadata": {},
   "outputs": [],
   "source": [
    "import pandas as pd\n",
    "import numpy as np\n",
    "from datetime import datetime\n",
    "import os\n",
    "import warnings\n",
    "from openpyxl.styles import Alignment \n",
    "from functions import process_exports, aggregate_exports\n",
    "warnings.filterwarnings('ignore')\n",
    "\n",
    "###\n",
    "\n",
    "season_end_dates = pd.read_excel(\"FM Quick Data.xlsx\", sheet_name='Countries')\n",
    "folder_import = \"rawdata/\"\n",
    "folder_export = \"data/\"\n",
    "\n",
    "###\n",
    "\n",
    "date = '30/05/2023'\n",
    "club = 'Newcastle'\n",
    "csv_file = \"JUN23\" \n",
    "xlsx_file = csv_file"
   ]
  },
  {
   "cell_type": "code",
   "execution_count": 2,
   "metadata": {},
   "outputs": [
    {
     "name": "stdout",
     "output_type": "stream",
     "text": [
      "FM Stats\n",
      " (4794, 58)\n",
      "\n",
      "FM Attributes\n",
      " (4794, 59)\n",
      "\n",
      "Genie\n",
      " (4794, 34)\n",
      "\n",
      "Interested\n",
      " (4114, 7)\n"
     ]
    }
   ],
   "source": [
    "fm_data = pd.read_html(os.path.join(folder_import, 'stats.html'), encoding=\"UTF-8\", thousands=\".\", decimal=\",\")[0]\n",
    "att_data = pd.read_html(os.path.join(folder_import, \"atts.html\"), encoding=\"UTF-8\", thousands=\".\", decimal=\",\")[0]\n",
    "genie_data = pd.read_csv(os.path.join(folder_import, \"genie.csv\"), encoding=\"latin1\", sep=';')\n",
    "interest_data = pd.read_html(os.path.join(folder_import, \"int.html\"), encoding=\"UTF-8\", thousands=\".\", decimal=\",\")[0]\n",
    "fm_data['Date'] = datetime.strptime(date, '%d/%m/%Y')\n",
    "\n",
    "print(\"FM Stats\\n\", fm_data.shape)\n",
    "print(\"\\nFM Attributes\\n\", att_data.shape)\n",
    "print(\"\\nGenie\\n\", genie_data.shape)\n",
    "print(\"\\nInterested\\n\", interest_data.shape)"
   ]
  },
  {
   "cell_type": "code",
   "execution_count": 4,
   "metadata": {},
   "outputs": [
    {
     "name": "stdout",
     "output_type": "stream",
     "text": [
      "Full list of players exported.\n",
      "File JUN23.csv created at \"data/\"\n"
     ]
    }
   ],
   "source": [
    "main, stats = process_exports(fm_data, att_data, genie_data, interest_data, season_end_dates, club, folder_export, csv_file)"
   ]
  },
  {
   "cell_type": "markdown",
   "metadata": {},
   "source": [
    "## Excel"
   ]
  },
  {
   "cell_type": "markdown",
   "metadata": {},
   "source": [
    "### Filter settings"
   ]
  },
  {
   "cell_type": "code",
   "execution_count": 12,
   "metadata": {},
   "outputs": [],
   "source": [
    "my_club = \"Newcastle\"\n",
    "n_best = 15\n",
    "val = float('inf')\n",
    "age = 30\n",
    "mins = 500\n",
    "wage = float('inf')\n",
    "interest = 1"
   ]
  },
  {
   "cell_type": "markdown",
   "metadata": {},
   "source": [
    "### HEATMAP - Top N players by position"
   ]
  },
  {
   "cell_type": "code",
   "execution_count": 17,
   "metadata": {},
   "outputs": [
    {
     "name": "stdout",
     "output_type": "stream",
     "text": [
      "DataFrame has been exported to Heatmap_TopN_JUN23.xlsx\n"
     ]
    }
   ],
   "source": [
    "pd.set_option('display.max_columns', 50)\n",
    "excel_file = \"Heatmap_TopN_\" + csv_file + \".xlsx\"\n",
    "excel_file_path = os.path.join(folder_export, excel_file)\n",
    "\n",
    "positions = ['GK', 'LB', 'CB', 'RB', 'DM', 'CM', 'AM', 'RW', 'LW', 'ST']\n",
    "nth = stats.copy()\n",
    "nth = nth[(nth['Mins'] >= mins) &\n",
    "          (nth['Club'] != my_club) &\n",
    "          (nth['Value'] <= val) &\n",
    "          (nth['Wage'] < wage) &\n",
    "          (nth['Age'] <= age)]\n",
    "\n",
    "nth['GK%_rk'] = nth.groupby(['P1'])['GK%'].rank(ascending=False)\n",
    "nth['DFa%_rk'] = nth.groupby(['P1'])['DFa%'].rank(ascending=False)\n",
    "nth['DFg%_rk'] = nth.groupby(['P1'])['DFg%'].rank(ascending=False)\n",
    "nth['PAS%_rk'] = nth.groupby(['P1'])['PAS%'].rank(ascending=False)\n",
    "nth['DRB%_rk'] = nth.groupby(['P1'])['DRB%'].rank(ascending=False)\n",
    "nth['ST%_rk'] = nth.groupby(['P1'])['ST%'].rank(ascending=False)\n",
    "nth['AvR_rk'] = nth.groupby(['P1'])['Av_Rat'].rank(ascending=False)\n",
    "\n",
    "nth['Aux1'] = nth['P1'] + nth['GK%_rk'].astype(str)\n",
    "nth['Aux2'] = nth['P1'] + nth['DFa%_rk'].astype(str)\n",
    "nth['Aux3'] = nth['P1'] + nth['DFg%_rk'].astype(str)\n",
    "nth['Aux4'] = nth['P1'] + nth['PAS%_rk'].astype(str)\n",
    "nth['Aux5'] = nth['P1'] + nth['DRB%_rk'].astype(str)\n",
    "nth['Aux6'] = nth['P1'] + nth['ST%_rk'].astype(str)\n",
    "nth['Aux7'] = nth['P1'] + nth['AvR_rk'].astype(str)\n",
    "\n",
    "# Create an empty DataFrame to store the results\n",
    "scouting = pd.DataFrame()\n",
    "\n",
    "for pos in positions:\n",
    "    # Apply your filtering conditions one by one\n",
    "    filtered_df = nth[(nth['P1'] == pos)]\n",
    "    \n",
    "    if pos == \"GK\":\n",
    "        filtered_df = filtered_df[\n",
    "            (filtered_df['GK%_rk'] < (n_best * 2) + 1) |\n",
    "            (filtered_df['AvR_rk'] < (n_best * 2) + 1)]\n",
    "    elif pos in [\"RB\", \"LB\"]:\n",
    "        filtered_df = filtered_df[\n",
    "            (filtered_df['DFg%_rk'] < n_best + 1) |\n",
    "            (filtered_df['PAS%_rk'] < n_best + 1) |\n",
    "            (filtered_df['DRB%_rk'] < n_best + 1) |\n",
    "            (filtered_df['AvR_rk'] < n_best + 1)\n",
    "        ]\n",
    "    elif pos == \"CB\":\n",
    "        filtered_df = filtered_df[\n",
    "            (filtered_df['DFa%_rk'] < n_best + 1) |\n",
    "            (filtered_df['PAS%_rk'] < n_best + 1) |\n",
    "            (filtered_df['DRB%_rk'] < n_best + 1) |\n",
    "            (filtered_df['AvR_rk'] < n_best + 1)\n",
    "        ]\n",
    "    elif pos in [\"DM\", \"CM\"]:\n",
    "        filtered_df = filtered_df[\n",
    "            (filtered_df['DFg%_rk'] < n_best + 1) |\n",
    "            (filtered_df['PAS%_rk'] < n_best + 1) |\n",
    "            (filtered_df['DRB%_rk'] < n_best + 1) |\n",
    "            (filtered_df['ST%_rk'] < n_best + 1) |\n",
    "            (filtered_df['AvR_rk'] < n_best + 1)\n",
    "        ]\n",
    "    elif pos in [\"RW\", \"LW\", \"AM\", \"ST\"]:\n",
    "        filtered_df = filtered_df[\n",
    "            (filtered_df['PAS%_rk'] < n_best + 1) |\n",
    "            (filtered_df['DRB%_rk'] < n_best + 1) |\n",
    "            (filtered_df['ST%_rk'] < n_best + 1) |\n",
    "            (filtered_df['AvR_rk'] < n_best + 1)\n",
    "        ]\n",
    "    \n",
    "    # Concatenate the filtered DataFrame with the result DataFrame\n",
    "    scouting = pd.concat([scouting, filtered_df])\n",
    "\n",
    "scouting.reset_index(drop=True, inplace=True)\n",
    "scouting = scouting.copy()\n",
    "heatmap_top = scouting.style.background_gradient(cmap='RdYlGn', vmin=0).set_properties(**{'font-size': '14px'}).format(precision=2)\n",
    "\n",
    "with pd.ExcelWriter(excel_file_path, engine='openpyxl') as excel_writer:\n",
    "    heatmap_top.to_excel(excel_writer, sheet_name='Sheet1', index=False)\n",
    "    workbook = excel_writer.book\n",
    "    worksheet = excel_writer.sheets['Sheet1']\n",
    "\n",
    "    for i, column in enumerate(scouting.columns):\n",
    "        max_length = max(scouting[column].astype(str).apply(len).max(), len(column))\n",
    "        worksheet.column_dimensions[worksheet.cell(row=1, column=i + 1).column_letter].width = max_length + 2\n",
    "\n",
    "    cell_alignment = Alignment(horizontal='center')  # Center-align the entire column\n",
    "    for i, column in enumerate(scouting.columns):\n",
    "        if column not in [\"Position\", \"Name\", \"Club\", \"Value\", \"Wage\", \"Personality\"]:\n",
    "            column_index = i + 1  # Get the numerical column index\n",
    "            for row in range(2, len(scouting) + 2):  # Start from row 2 (data rows)\n",
    "                cell = worksheet.cell(row=row, column=column_index)\n",
    "                cell.alignment = cell_alignment\n",
    "\n",
    "print(f'DataFrame has been exported to {excel_file}')"
   ]
  },
  {
   "cell_type": "markdown",
   "metadata": {},
   "source": [
    "### Filtered list of players"
   ]
  },
  {
   "cell_type": "code",
   "execution_count": 20,
   "metadata": {},
   "outputs": [
    {
     "name": "stdout",
     "output_type": "stream",
     "text": [
      "DataFrame has been exported to Players_Filtered_JUN23.xlsx\n"
     ]
    }
   ],
   "source": [
    "pd.set_option('display.max_columns', 50)\n",
    "excel_file = \"Players_Filtered_\" + csv_file + \".xlsx\"\n",
    "excel_file_path = os.path.join(folder_export, excel_file)\n",
    "excel_table = stats\n",
    "\n",
    "excel_column_order = [\n",
    "    'Rgn', 'Half', 'Date', 'UID', 'EU', 'Nat', 'Interested', 'P1', 'P2', 'Rt1', 'Pt1', 'RtG', 'PtG', 'Position', 'Age',\n",
    "    'Name', 'Av_Rat', 'Club', 'Division', 'Based', 'Apps', 'Starts', 'Mins', 'GK%', 'DFg%', 'DFa%', 'xGP/90', 'CS/90', 'Gls_Conc/90',\n",
    "    'Blocks/90', 'Intcp/90', 'Clear/90', 'PAS%', 'OP-KP/90', 'CCC/90', 'Pr_Pas/90', 'xA/90', 'Pas_C/90', 'DRB%', 'ST%', 'Drb/90',\n",
    "    'Cr_C/90', 'NP-xG/90', 'Gls/90', 'NP-xG/Shot', 'Value', 'Wage', 'Expires', 'Det', 'Prof', 'Amb', 'Acc', 'Pac', 'Height', 'Personality']\n",
    "\n",
    "excel_table = excel_table[excel_column_order]\n",
    "\n",
    "excel_table = excel_table[\n",
    "    #(excel_table['Interest'] == 1) &\n",
    "    (excel_table['Mins'] >= mins) &\n",
    "    (excel_table['Value'] <= val) &\n",
    "    (excel_table['Age'] <= age)]\n",
    "\n",
    "excel_table.to_excel(excel_file_path, index=False)\n",
    "print(f'DataFrame has been exported to {excel_file}')"
   ]
  }
 ],
 "metadata": {
  "kernelspec": {
   "display_name": "Python 3",
   "language": "python",
   "name": "python3"
  },
  "language_info": {
   "codemirror_mode": {
    "name": "ipython",
    "version": 3
   },
   "file_extension": ".py",
   "mimetype": "text/x-python",
   "name": "python",
   "nbconvert_exporter": "python",
   "pygments_lexer": "ipython3",
   "version": "3.11.1"
  },
  "orig_nbformat": 4
 },
 "nbformat": 4,
 "nbformat_minor": 2
}
