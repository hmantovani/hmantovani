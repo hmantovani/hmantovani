{
 "cells": [
  {
   "cell_type": "markdown",
   "metadata": {},
   "source": [
    "# Using Python to take Newcastle to the Premier League title\n",
    "\n",
    "### Introduction\n",
    "\n",
    "Welcome to the journey of transforming Newcastle United into Premier League champions using the power of Python and data analysis. This notebook encapsulates the quest that begins in the 2023/24 season, aiming to propel Newcastle from their 7th-place finish in the 2022/23 season to the coveted Premier League title.\n",
    "\n",
    "The primary goal of this notebook is to amalgamate code-driven market analysis with in-depth scrutiny of Newcastle United's squad. By leveraging Python's analytical capabilities, this exploration seeks to identify strategic positions for improvement and reinforcement. The focus is not only on dissecting the transfer market dynamics but also on evaluating our squad's strengths and weaknesses.\n",
    "\n",
    "### Market Analysis\n",
    "- **Data-driven Insights:** Utilizing Python to analyze market trends, player values, and potential signings.\n",
    "- **Strategic Transfers:** Identifying key positions for improvement through insightful market assessment.\n",
    "- **Visual Aids:** Incorporating screenshots to illustrate potential signings and transfer strategies.\n",
    "\n",
    "### Squad Evaluation\n",
    "- **Data-Backed Assessment:** Analyzing the performance and attributes of Newcastle's squad players.\n",
    "- **Positional Analysis:** Identifying areas within the squad that require reinforcement or improvement.\n",
    "- **In-Game Journey:** Documenting Newcastle's journey with screenshots to track progress and strategic changes.\n",
    "\n",
    "### Market Assessment\n",
    "- **Evaluate Market Trends:** Analyze player values, market dynamics, and potential transfer targets.\n",
    "- **Strategic Signings:** Identify key positions requiring reinforcement or enhancement in the transfer market.\n",
    "- **Visualization:** Incorporate screenshots to highlight potential signings and market insights.\n",
    "\n",
    "### Squad Analysis\n",
    "- **Player Performance:** Scrutinizing player attributes, performance statistics, and potential areas for improvement.\n",
    "- **Positional Evaluation:** Identifying strengths and weaknesses within Newcastle's current squad.\n",
    "- **Progress Tracking:** Documenting Newcastle's journey with in-game screenshots to showcase developments and tactical shifts."
   ]
  },
  {
   "cell_type": "markdown",
   "metadata": {},
   "source": [
    "## 2022/23 Season"
   ]
  },
  {
   "cell_type": "markdown",
   "metadata": {},
   "source": [
    "### League table\n",
    "\n",
    "![League Table](2022-23/league_table.PNG)\n",
    "\n",
    "This was simulated using a custom start date on May 2023 so we have some data to start with."
   ]
  },
  {
   "cell_type": "markdown",
   "metadata": {},
   "source": [
    "### Squad assessment\n",
    "\n",
    "#### GK\n",
    "![League Table](2022-23/GK.PNG)\n",
    "\n",
    "According to what our scouts know up until now, there is no need to hire another goalkeeper. Sure, there must be lots of better keepers out there but none of them are clearly better than ours. The best option would be Robert Sánchez for now and Bart Verbruggen for the future but we'll pass on them by now.\n",
    "\n",
    "#### LB\n",
    "![League Table](2022-23/LB.PNG)\n",
    "\n",
    "Owen Wijndal is extremely interesting.\n",
    "\n",
    "#### RB\n",
    "![League Table](2022-23/RB.PNG)\n",
    "\n",
    "Another position we should not spend any money since we have the best player in our scouting range.\n",
    "\n",
    "#### CB\n",
    "![League Table](2022-23/CB.PNG)\n",
    "\n",
    "We have a strong pair of CBs, but we can bring a third one in if we have some money spare.\n",
    "\n",
    "#### DM\n",
    "![League Table](2022-23/DM.PNG)\n",
    "\n",
    "We are really strong in the DM position.\n",
    "\n",
    "#### CM\n",
    "![League Table](2022-23/CM.PNG)\n",
    "\n",
    "Yves Bissouma might be a good finding here.\n",
    "\n",
    "#### LW\n",
    "![League Table](2022-23/LW.PNG)\n",
    "\n",
    "Since Joelinton will mainly play as CM for us, this is a position we should probably bring someone in.\n",
    "\n",
    "#### RW\n",
    "![League Table](2022-23/RW.PNG)\n",
    "\n",
    "Adama Traoré is probably a great idea here since he can play both wings.\n",
    "\n",
    "#### ST\n",
    "![League Table](2022-23/ST.PNG)\n",
    "\n",
    "Our tactic only uses 1 ST so we probably don't need signings here, but if we needed we would probably go with Ivan Toney.\n"
   ]
  }
 ],
 "metadata": {
  "language_info": {
   "name": "python"
  }
 },
 "nbformat": 4,
 "nbformat_minor": 2
}
