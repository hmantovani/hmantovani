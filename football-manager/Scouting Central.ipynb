{
 "cells": [
  {
   "cell_type": "code",
   "execution_count": 18,
   "metadata": {},
   "outputs": [
    {
     "name": "stdout",
     "output_type": "stream",
     "text": [
      "DataFrame has been exported to Filter_JUN23.xlsx\n"
     ]
    }
   ],
   "source": [
    "import os\n",
    "import pandas as pd\n",
    "import numpy as np\n",
    "import matplotlib.pyplot as plt\n",
    "import seaborn as sns\n",
    "pd.set_option('display.max_columns', 60)\n",
    "\n",
    "month = \"JUN23\"\n",
    "df = pd.read_csv(\"data/\" + month + \".csv\", encoding=\"UTF-8\", sep=';')\n",
    "\n",
    "df.rename(columns={'Interested': 'Int'}, inplace=True)\n",
    "data = df[\n",
    "    ['Rgn', 'EU', 'Nat', 'Int', 'P1', 'P2', 'Rt1', 'Pt1', 'Value', 'Wage', \n",
    "     'Expires', 'Position', 'Age', 'Name', 'Av_Rat', 'Club', 'Division', 'Based', \n",
    "     'Apps', 'Starts', 'Gls', 'Ast', 'PoM', 'GK%', 'DFg%', 'DFa%', 'PAS%', 'DRB%', 'ST%', 'Mins']\n",
    "]\n",
    "\n",
    "my_club = \"Newcastle\"\n",
    "n_best = 20\n",
    "val = 40000000\n",
    "age = 30\n",
    "mins = 500\n",
    "wage = float('inf')\n",
    "interest = 1\n",
    "\n",
    "excel_file = \"Filter_\" + month + \".xlsx\"\n",
    "excel_file_path = os.path.join(\"data/\", excel_file)\n",
    "filter = data.copy()\n",
    "\n",
    "filter = filter[\n",
    "    (filter['Int'] == 1) &\n",
    "    (filter['Mins'] >= mins) &\n",
    "    (filter['Value'] <= val) &\n",
    "    (filter['Age'] <= age) |\n",
    "    (filter['Club'] == my_club)\n",
    "]\n",
    "\n",
    "filter.drop(columns=['Mins'], inplace=True)\n",
    "filter.to_excel(excel_file_path, index=False)\n",
    "print(f'DataFrame has been exported to {excel_file}')"
   ]
  }
 ],
 "metadata": {
  "kernelspec": {
   "display_name": "Python 3",
   "language": "python",
   "name": "python3"
  },
  "language_info": {
   "codemirror_mode": {
    "name": "ipython",
    "version": 3
   },
   "file_extension": ".py",
   "mimetype": "text/x-python",
   "name": "python",
   "nbconvert_exporter": "python",
   "pygments_lexer": "ipython3",
   "version": "3.11.1"
  }
 },
 "nbformat": 4,
 "nbformat_minor": 2
}
